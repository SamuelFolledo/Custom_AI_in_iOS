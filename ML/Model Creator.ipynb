{
 "cells": [
  {
   "cell_type": "markdown",
   "metadata": {},
   "source": [
    "# Model Creator\n",
    "\n",
    "## How to Use\n",
    "1. After labeling your images in IBM Cloud Annotations, export your file as CreateML.\n",
    "<img src=\"https://github.com/SamuelFolledo/Convolutional-Neural-Network-Practice/blob/master/static/exportAsCreateML.png\" width=\"700\">\n",
    "\n",
    "2. Open terminal and change directory to this project\n",
    "3. For best practices, ensure Python's virtualenv is installed which will help us create an isolated Python environment.\n",
    "\n",
    "    `pip install virtualenv`\n",
    "\n",
    "\n",
    "4. Start virtual environment and install packages we need.\n",
    "    - Create virtual environment\n",
    "    \n",
    "        `virtualenv TuriSample`\n",
    "    \n",
    "    - Run the environment\n",
    "    \n",
    "        `source bin/activate`\n",
    "    \n",
    "    - Install TuriCreate and JupyterNotebook\n",
    "    \n",
    "        `pip install turicreate`\n",
    "    \n",
    "        `pip install jupyter`\n",
    "    \n",
    "    \n",
    "5. Open JupyterNotebook, a Python editor which will open in your browser.\n",
    "\n",
    "    `jupyter notebook`\n",
    "\n",
    "\n",
    "6. Unzip the file downloaded from IBM Cloud Annotations and you should see a folder like *project-name-bucket*\n",
    "7. Rename the folder to **Images**\n",
    "7. Open the Images folder, look for **annotations.json** and move it outside of the folder. Your folder should look like the image below.\n",
    "<img src=\"https://github.com/SamuelFolledo/Convolutional-Neural-Network-Practice/blob/master/static/folderSetUp.png?raw=true\" width=\"700\">"
   ]
  },
  {
   "cell_type": "code",
   "execution_count": 4,
   "metadata": {},
   "outputs": [
    {
     "name": "stdout",
     "output_type": "stream",
     "text": [
      "/Users/samuelfolledo/Desktop/Convolutional-Neural-Network-Practice/Images/ac6779a1-d7e1-4f3f-93e7-350ad76ff1ad.jpg,\"[{'label': 'tonsil', 'coordinates': {'x': 221, 'y': 508, 'width': 111, 'height': 151}, 'type': 'rectangle'},{'label': 'tonsil', 'coordinates': {'x': 504, 'y': 487, 'width': 184, 'height': 145}, 'type': 'rectangle'},{'label': 'uvula', 'coordinates': {'x': 351, 'y': 480, 'width': 105, 'height': 105}, 'type': 'rectangle'},{'label': 'tongue', 'coordinates': {'x': 383, 'y': 823, 'width': 512, 'height': 491}, 'type': 'rectangle'}]\"\n",
      "/Users/samuelfolledo/Desktop/Convolutional-Neural-Network-Practice/Images/e9f36345-7232-472e-97eb-67e900aa343e.jpg,\"[{'label': 'tongue', 'coordinates': {'x': 158, 'y': 1028, 'width': 316, 'height': 944}, 'type': 'rectangle'},{'label': 'tongue', 'coordinates': {'x': 476, 'y': 829, 'width': 542, 'height': 395}, 'type': 'rectangle'},{'label': 'tonsil', 'coordinates': {'x': 739, 'y': 552, 'width': 135, 'height': 166}, 'type': 'rectangle'},{'label': 'tonsil', 'coordinates': {'x': 268, 'y': 567, 'width': 120, 'height': 148}, 'type': 'rectangle'},{'label': 'uvula', 'coordinates': {'x': 461, 'y': 467, 'width': 108, 'height': 75}, 'type': 'rectangle'}]\"\n",
      "/Users/samuelfolledo/Desktop/Convolutional-Neural-Network-Practice/Images/0046e1df-31e9-4f26-bd08-ad179814dd20.jpg,\"[{'label': 'pharynx', 'coordinates': {'x': 144, 'y': 231, 'width': 57, 'height': 26}, 'type': 'rectangle'},{'label': 'tongue', 'coordinates': {'x': 150, 'y': 285, 'width': 178, 'height': 113}, 'type': 'rectangle'},{'label': 'uvula', 'coordinates': {'x': 141, 'y': 204, 'width': 55, 'height': 68}, 'type': 'rectangle'},{'label': 'tonsil', 'coordinates': {'x': 100, 'y': 205, 'width': 39, 'height': 55}, 'type': 'rectangle'},{'label': 'tonsil', 'coordinates': {'x': 188, 'y': 216, 'width': 57, 'height': 49}, 'type': 'rectangle'}]\"\n",
      "/Users/samuelfolledo/Desktop/Convolutional-Neural-Network-Practice/Images/00b22b0c-2377-4dad-91cc-5e2d4351f542.jpg,\"[{'label': 'pharynx', 'coordinates': {'x': 683, 'y': 306, 'width': 200, 'height': 103}, 'type': 'rectangle'},{'label': 'tonsil', 'coordinates': {'x': 832, 'y': 302, 'width': 115, 'height': 83}, 'type': 'rectangle'},{'label': 'tonsil', 'coordinates': {'x': 561, 'y': 298, 'width': 97, 'height': 90}, 'type': 'rectangle'},{'label': 'tongue', 'coordinates': {'x': 710, 'y': 484, 'width': 512, 'height': 264}, 'type': 'rectangle'},{'label': 'uvula', 'coordinates': {'x': 695, 'y': 293, 'width': 137, 'height': 115}, 'type': 'rectangle'}]\"\n",
      "/Users/samuelfolledo/Desktop/Convolutional-Neural-Network-Practice/Images/00cab17a-43fe-4755-9655-a734f3fcbd11.jpg,\"[{'label': 'tongue', 'coordinates': {'x': 321, 'y': 216, 'width': 40, 'height': 45}, 'type': 'rectangle'}]\"\n",
      "/Users/samuelfolledo/Desktop/Convolutional-Neural-Network-Practice/Images/01232982-94e2-4996-bd26-171a43c83c83.jpg,\"[{'label': 'tonsil', 'coordinates': {'x': 200, 'y': 231, 'width': 105, 'height': 67}, 'type': 'rectangle'}]\"\n",
      "/Users/samuelfolledo/Desktop/Convolutional-Neural-Network-Practice/Images/013309e3-05be-4619-991d-538bab7bb45f.jpg,\"[{'label': 'tongue', 'coordinates': {'x': 624, 'y': 1103, 'width': 1233, 'height': 366}, 'type': 'rectangle'},{'label': 'tonsil', 'coordinates': {'x': 1203, 'y': 602, 'width': 176, 'height': 715}, 'type': 'rectangle'},{'label': 'tonsil', 'coordinates': {'x': 89, 'y': 563, 'width': 157, 'height': 698}, 'type': 'rectangle'},{'label': 'pharynx', 'coordinates': {'x': 653, 'y': 590, 'width': 906, 'height': 645}, 'type': 'rectangle'},{'label': 'uvula', 'coordinates': {'x': 655, 'y': 422, 'width': 204, 'height': 377}, 'type': 'rectangle'}]\"\n",
      "/Users/samuelfolledo/Desktop/Convolutional-Neural-Network-Practice/Images/0149474f-5001-4d21-a8a1-0f14864dcc81.jpg,\"[{'label': 'tonsil', 'coordinates': {'x': 414, 'y': 487, 'width': 87, 'height': 120}, 'type': 'rectangle'},{'label': 'tonsil', 'coordinates': {'x': 629, 'y': 474, 'width': 103, 'height': 123}, 'type': 'rectangle'},{'label': 'uvula', 'coordinates': {'x': 516, 'y': 496, 'width': 148, 'height': 181}, 'type': 'rectangle'},{'label': 'tongue', 'coordinates': {'x': 528, 'y': 715, 'width': 576, 'height': 413}, 'type': 'rectangle'}]\"\n",
      "/Users/samuelfolledo/Desktop/Convolutional-Neural-Network-Practice/Images/0164c882-516b-4646-9e7a-91244bab65f0.jpg,\"[{'label': 'tongue', 'coordinates': {'x': 188, 'y': 178, 'width': 145, 'height': 4}, 'type': 'rectangle'},{'label': 'pharynx', 'coordinates': {'x': 173, 'y': 121, 'width': 62, 'height': 99}, 'type': 'rectangle'},{'label': 'uvula', 'coordinates': {'x': 166, 'y': 51, 'width': 72, 'height': 59}, 'type': 'rectangle'},{'label': 'tonsil', 'coordinates': {'x': 99, 'y': 114, 'width': 43, 'height': 125}, 'type': 'rectangle'},{'label': 'tonsil', 'coordinates': {'x': 254, 'y': 111, 'width': 42, 'height': 117}, 'type': 'rectangle'}]\"\n",
      "/Users/samuelfolledo/Desktop/Convolutional-Neural-Network-Practice/Images/01b4ade1-343b-4337-bb07-227bc9dba4ea.jpg,\"[{'label': 'pharynx', 'coordinates': {'x': 207, 'y': 150, 'width': 148, 'height': 62}, 'type': 'rectangle'},{'label': 'uvula', 'coordinates': {'x': 208, 'y': 138, 'width': 78, 'height': 61}, 'type': 'rectangle'},{'label': 'tonsil', 'coordinates': {'x': 117, 'y': 146, 'width': 37, 'height': 55}, 'type': 'rectangle'},{'label': 'tonsil', 'coordinates': {'x': 308, 'y': 147, 'width': 44, 'height': 51}, 'type': 'rectangle'},{'label': 'tongue', 'coordinates': {'x': 203, 'y': 219, 'width': 216, 'height': 86}, 'type': 'rectangle'}]\"\n",
      "/Users/samuelfolledo/Desktop/Convolutional-Neural-Network-Practice/Images/01bdaa1f-b0e2-4e85-b7b3-3606ba7d0177.jpg,\"[{'label': 'tongue', 'coordinates': {'x': 201, 'y': 220, 'width': 295, 'height': 125}, 'type': 'rectangle'},{'label': 'uvula', 'coordinates': {'x': 230, 'y': 142, 'width': 105, 'height': 98}, 'type': 'rectangle'}]\"\n",
      "/Users/samuelfolledo/Desktop/Convolutional-Neural-Network-Practice/Images/01a46032-0872-43dd-8b3e-3ef5c3c45020.jpg,\"[{'label': 'pharynx', 'coordinates': {'x': 226, 'y': 143, 'width': 73, 'height': 42}, 'type': 'rectangle'},{'label': 'tonsil', 'coordinates': {'x': 174, 'y': 139, 'width': 42, 'height': 51}, 'type': 'rectangle'},{'label': 'tonsil', 'coordinates': {'x': 282, 'y': 131, 'width': 46, 'height': 45}, 'type': 'rectangle'},{'label': 'uvula', 'coordinates': {'x': 228, 'y': 113, 'width': 58, 'height': 40}, 'type': 'rectangle'},{'label': 'tongue', 'coordinates': {'x': 224, 'y': 204, 'width': 131, 'height': 78}, 'type': 'rectangle'}]\"\n",
      "/Users/samuelfolledo/Desktop/Convolutional-Neural-Network-Practice/Images/01edce69-93e7-45f3-a73f-fa0bdf0a27e5.jpg,\"[{'label': 'tongue', 'coordinates': {'x': 292, 'y': 232, 'width': 474, 'height': 246}, 'type': 'rectangle'}]\"\n",
      "/Users/samuelfolledo/Desktop/Convolutional-Neural-Network-Practice/Images/0215dcc0-6a56-44cd-87b2-aac8177d3789.jpg,\"[{'label': 'tonsil', 'coordinates': {'x': 865, 'y': 332, 'width': 127, 'height': 93}, 'type': 'rectangle'},{'label': 'uvula', 'coordinates': {'x': 711, 'y': 270, 'width': 137, 'height': 95}, 'type': 'rectangle'},{'label': 'tongue', 'coordinates': {'x': 683, 'y': 525, 'width': 590, 'height': 428}, 'type': 'rectangle'}]\"\n",
      "/Users/samuelfolledo/Desktop/Convolutional-Neural-Network-Practice/Images/026f8d4e-9a61-49f8-8c50-4c8262769555.jpg,\"[{'label': 'tongue', 'coordinates': {'x': 558, 'y': 1317, 'width': 1113, 'height': 365}, 'type': 'rectangle'},{'label': 'pharynx', 'coordinates': {'x': 741, 'y': 1142, 'width': 380, 'height': 340}, 'type': 'rectangle'},{'label': 'uvula', 'coordinates': {'x': 714, 'y': 915, 'width': 259, 'height': 259}, 'type': 'rectangle'},{'label': 'tonsil', 'coordinates': {'x': 459, 'y': 1020, 'width': 274, 'height': 373}, 'type': 'rectangle'},{'label': 'tonsil', 'coordinates': {'x': 1014, 'y': 1073, 'width': 221, 'height': 395}, 'type': 'rectangle'}]\"\n",
      "/Users/samuelfolledo/Desktop/Convolutional-Neural-Network-Practice/Images/02f236d9-997c-44ba-9e34-db413d6210b0.jpg,\"[{'label': 'tonsil', 'coordinates': {'x': 617, 'y': 327, 'width': 168, 'height': 230}, 'type': 'rectangle'},{'label': 'tonsil', 'coordinates': {'x': 519, 'y': 206, 'width': 27, 'height': 12}, 'type': 'rectangle'},{'label': 'tonsil', 'coordinates': {'x': 799, 'y': 350, 'width': 179, 'height': 162}, 'type': 'rectangle'},{'label': 'uvula', 'coordinates': {'x': 714, 'y': 256, 'width': 108, 'height': 100}, 'type': 'rectangle'},{'label': 'tongue', 'coordinates': {'x': 657, 'y': 521, 'width': 625, 'height': 386}, 'type': 'rectangle'}]\"\n",
      "/Users/samuelfolledo/Desktop/Convolutional-Neural-Network-Practice/Images/0324b6a9-e78a-467d-bad7-119551dea5ff.jpg,\"[{'label': 'tonsil', 'coordinates': {'x': 343, 'y': 695, 'width': 124, 'height': 49}, 'type': 'rectangle'}]\"\n",
      "/Users/samuelfolledo/Desktop/Convolutional-Neural-Network-Practice/Images/03322ec3-2d6b-4367-8b11-210a8eff35df.jpg,\"[{'label': 'tongue', 'coordinates': {'x': 551, 'y': 508, 'width': 442, 'height': 188}, 'type': 'rectangle'},{'label': 'pharynx', 'coordinates': {'x': 542, 'y': 355, 'width': 200, 'height': 95}, 'type': 'rectangle'},{'label': 'uvula', 'coordinates': {'x': 543, 'y': 274, 'width': 110, 'height': 95}, 'type': 'rectangle'},{'label': 'tonsil', 'coordinates': {'x': 685, 'y': 351, 'width': 97, 'height': 100}, 'type': 'rectangle'},{'label': 'tonsil', 'coordinates': {'x': 365, 'y': 373, 'width': 90, 'height': 107}, 'type': 'rectangle'}]\"\n",
      "/Users/samuelfolledo/Desktop/Convolutional-Neural-Network-Practice/Images/034c36b9-fa23-4d5b-b4a2-ece9d647b0b3.jpg,\"[{'label': 'tonsil', 'coordinates': {'x': 313, 'y': 394, 'width': 97, 'height': 123}, 'type': 'rectangle'},{'label': 'tonsil', 'coordinates': {'x': 562, 'y': 373, 'width': 126, 'height': 138}, 'type': 'rectangle'},{'label': 'uvula', 'coordinates': {'x': 416, 'y': 364, 'width': 84, 'height': 123}, 'type': 'rectangle'},{'label': 'tongue', 'coordinates': {'x': 451, 'y': 606, 'width': 274, 'height': 333}, 'type': 'rectangle'}]\"\n",
      "/Users/samuelfolledo/Desktop/Convolutional-Neural-Network-Practice/Images/039db1ce-5fde-423c-847e-9880b4e56bee.jpg,\"[{'label': 'tongue', 'coordinates': {'x': 447, 'y': 794, 'width': 557, 'height': 269}, 'type': 'rectangle'},{'label': 'uvula', 'coordinates': {'x': 461, 'y': 663, 'width': 136, 'height': 134}, 'type': 'rectangle'},{'label': 'tonsil', 'coordinates': {'x': 328, 'y': 654, 'width': 109, 'height': 97}, 'type': 'rectangle'},{'label': 'tonsil', 'coordinates': {'x': 619, 'y': 646, 'width': 111, 'height': 84}, 'type': 'rectangle'}]\"\n",
      "/Users/samuelfolledo/Desktop/Convolutional-Neural-Network-Practice/Images/03d684ea-8e38-402d-88f1-983823105739.jpg,\"[{'label': 'pharynx', 'coordinates': {'x': 1027, 'y': 473, 'width': 64, 'height': 48}, 'type': 'rectangle'},{'label': 'pharynx', 'coordinates': {'x': 280, 'y': 587, 'width': 97, 'height': 74}, 'type': 'rectangle'},{'label': 'pharynx', 'coordinates': {'x': 671, 'y': 526, 'width': 146, 'height': 127}, 'type': 'rectangle'},{'label': 'tonsil', 'coordinates': {'x': 1061, 'y': 420, 'width': 65, 'height': 80}, 'type': 'rectangle'},{'label': 'tonsil', 'coordinates': {'x': 963, 'y': 445, 'width': 106, 'height': 90}, 'type': 'rectangle'},{'label': 'tonsil', 'coordinates': {'x': 770, 'y': 499, 'width': 104, 'height': 152}, 'type': 'rectangle'},{'label': 'tonsil', 'coordinates': {'x': 558, 'y': 490, 'width': 123, 'height': 145}, 'type': 'rectangle'},{'label': 'tonsil', 'coordinates': {'x': 366, 'y': 564, 'width': 120, 'height': 107}, 'type': 'rectangle'},{'label': 'tonsil', 'coordinates': {'x': 194, 'y': 545, 'width': 127, 'height': 162}, 'type': 'rectangle'},{'label': 'uvula', 'coordinates': {'x': 1009, 'y': 415, 'width': 90, 'height': 58}, 'type': 'rectangle'},{'label': 'uvula', 'coordinates': {'x': 666, 'y': 422, 'width': 127, 'height': 110}, 'type': 'rectangle'},{'label': 'uvula', 'coordinates': {'x': 277, 'y': 503, 'width': 78, 'height': 101}, 'type': 'rectangle'},{'label': 'tongue', 'coordinates': {'x': 1066, 'y': 551, 'width': 357, 'height': 208}, 'type': 'rectangle'},{'label': 'tongue', 'coordinates': {'x': 661, 'y': 607, 'width': 408, 'height': 110}, 'type': 'rectangle'},{'label': 'tongue', 'coordinates': {'x': 251, 'y': 621, 'width': 308, 'height': 88}, 'type': 'rectangle'}]\"\n",
      "/Users/samuelfolledo/Desktop/Convolutional-Neural-Network-Practice/Images/04275d42-41dd-4cfd-be37-4d43b3fe5961.jpg,\"[{'label': 'tongue', 'coordinates': {'x': 250, 'y': 148, 'width': 61, 'height': 49}, 'type': 'rectangle'}]\"\n",
      "/Users/samuelfolledo/Desktop/Convolutional-Neural-Network-Practice/Images/0427c8b7-270c-4fb4-8dac-e6eb5e1f7ab6.jpg,\"[{'label': 'pharynx', 'coordinates': {'x': 329, 'y': 237, 'width': 42, 'height': 26}, 'type': 'rectangle'},{'label': 'uvula', 'coordinates': {'x': 332, 'y': 211, 'width': 33, 'height': 27}, 'type': 'rectangle'},{'label': 'tonsil', 'coordinates': {'x': 299, 'y': 228, 'width': 28, 'height': 30}, 'type': 'rectangle'},{'label': 'tonsil', 'coordinates': {'x': 367, 'y': 229, 'width': 32, 'height': 31}, 'type': 'rectangle'}]\"\n",
      "/Users/samuelfolledo/Desktop/Convolutional-Neural-Network-Practice/Images/043a6a66-a117-4dd4-9fe2-b54ab7423ad3.jpg,\"[{'label': 'uvula', 'coordinates': {'x': 725, 'y': 277, 'width': 149, 'height': 149}, 'type': 'rectangle'},{'label': 'tonsil', 'coordinates': {'x': 627, 'y': 332, 'width': 95, 'height': 80}, 'type': 'rectangle'},{'label': 'tonsil', 'coordinates': {'x': 890, 'y': 323, 'width': 107, 'height': 88}, 'type': 'rectangle'},{'label': 'tongue', 'coordinates': {'x': 761, 'y': 564, 'width': 536, 'height': 384}, 'type': 'rectangle'},{'label': 'pharynx', 'coordinates': {'x': 740, 'y': 349, 'width': 176, 'height': 90}, 'type': 'rectangle'}]\"\n",
      "/Users/samuelfolledo/Desktop/Convolutional-Neural-Network-Practice/Images/04a3691c-fac5-4dee-b359-df6551936e5a.jpg,\"[{'label': 'tongue', 'coordinates': {'x': 129, 'y': 153, 'width': 105, 'height': 36}, 'type': 'rectangle'},{'label': 'tonsil', 'coordinates': {'x': 95, 'y': 123, 'width': 30, 'height': 34}, 'type': 'rectangle'},{'label': 'tonsil', 'coordinates': {'x': 164, 'y': 118, 'width': 36, 'height': 41}, 'type': 'rectangle'},{'label': 'uvula', 'coordinates': {'x': 131, 'y': 105, 'width': 37, 'height': 36}, 'type': 'rectangle'}]\"\n",
      "/Users/samuelfolledo/Desktop/Convolutional-Neural-Network-Practice/Images/04aca30b-5f04-4162-8620-ff1607c352b7.jpg,\"[{'label': 'tonsil', 'coordinates': {'x': 539, 'y': 288, 'width': 301, 'height': 514}, 'type': 'rectangle'},{'label': 'uvula', 'coordinates': {'x': 827, 'y': 162, 'width': 277, 'height': 265}, 'type': 'rectangle'}]\"\n",
      "/Users/samuelfolledo/Desktop/Convolutional-Neural-Network-Practice/Images/04d10f8e-ad63-4f89-b741-cea73d5127a5.jpg,\"[{'label': 'tongue', 'coordinates': {'x': 276, 'y': 460, 'width': 367, 'height': 182}, 'type': 'rectangle'},{'label': 'uvula', 'coordinates': {'x': 290, 'y': 373, 'width': 79, 'height': 89}, 'type': 'rectangle'},{'label': 'tonsil', 'coordinates': {'x': 395, 'y': 377, 'width': 93, 'height': 54}, 'type': 'rectangle'},{'label': 'tonsil', 'coordinates': {'x': 214, 'y': 375, 'width': 79, 'height': 83}, 'type': 'rectangle'}]\"\n",
      "/Users/samuelfolledo/Desktop/Convolutional-Neural-Network-Practice/Images/05336f43-21ec-4320-8a41-ade0c470c571.jpg,\"[{'label': 'tonsil', 'coordinates': {'x': 374, 'y': 721, 'width': 97, 'height': 130}, 'type': 'rectangle'},{'label': 'tonsil', 'coordinates': {'x': 586, 'y': 709, 'width': 85, 'height': 123}, 'type': 'rectangle'},{'label': 'uvula', 'coordinates': {'x': 492, 'y': 662, 'width': 115, 'height': 120}, 'type': 'rectangle'},{'label': 'tongue', 'coordinates': {'x': 543, 'y': 1115, 'width': 532, 'height': 244}, 'type': 'rectangle'}]\"\n",
      "/Users/samuelfolledo/Desktop/Convolutional-Neural-Network-Practice/Images/05786bb9-e9e7-4235-81e3-621bd959db5b.jpg,\"[{'label': 'uvula', 'coordinates': {'x': 651, 'y': 621, 'width': 157, 'height': 160}, 'type': 'rectangle'},{'label': 'tongue', 'coordinates': {'x': 707, 'y': 908, 'width': 945, 'height': 557}, 'type': 'rectangle'}]\"\n",
      "/Users/samuelfolledo/Desktop/Convolutional-Neural-Network-Practice/Images/05bb1b97-4e73-47db-a2a1-15bdaa4f9782.jpg,\"[{'label': 'pharynx', 'coordinates': {'x': 72, 'y': 103, 'width': 88, 'height': 63}, 'type': 'rectangle'},{'label': 'tonsil', 'coordinates': {'x': 17, 'y': 82, 'width': 26, 'height': 46}, 'type': 'rectangle'},{'label': 'tonsil', 'coordinates': {'x': 131, 'y': 84, 'width': 26, 'height': 41}, 'type': 'rectangle'},{'label': 'uvula', 'coordinates': {'x': 75, 'y': 74, 'width': 48, 'height': 35}, 'type': 'rectangle'}]\"\n",
      "/Users/samuelfolledo/Desktop/Convolutional-Neural-Network-Practice/Images/05c91e8f-1b1c-4e9e-8fdb-73c03b6f0525.jpg,\"[{'label': 'tonsil', 'coordinates': {'x': 362, 'y': 205, 'width': 108, 'height': 138}, 'type': 'rectangle'},{'label': 'tonsil', 'coordinates': {'x': 121, 'y': 206, 'width': 125, 'height': 136}, 'type': 'rectangle'},{'label': 'uvula', 'coordinates': {'x': 236, 'y': 123, 'width': 96, 'height': 83}, 'type': 'rectangle'},{'label': 'tongue', 'coordinates': {'x': 236, 'y': 283, 'width': 377, 'height': 41}, 'type': 'rectangle'},{'label': 'pharynx', 'coordinates': {'x': 238, 'y': 209, 'width': 159, 'height': 151}, 'type': 'rectangle'}]\"\n",
      "/Users/samuelfolledo/Desktop/Convolutional-Neural-Network-Practice/Images/05e1be2f-37c5-4774-ac01-29d3315fee17.jpg,\"[{'label': 'uvula', 'coordinates': {'x': 283, 'y': 306, 'width': 106, 'height': 122}, 'type': 'rectangle'},{'label': 'tongue', 'coordinates': {'x': 284, 'y': 494, 'width': 475, 'height': 226}, 'type': 'rectangle'},{'label': 'tonsil', 'coordinates': {'x': 153, 'y': 337, 'width': 152, 'height': 121}, 'type': 'rectangle'},{'label': 'tonsil', 'coordinates': {'x': 442, 'y': 337, 'width': 159, 'height': 176}, 'type': 'rectangle'}]\"\n",
      "/Users/samuelfolledo/Desktop/Convolutional-Neural-Network-Practice/Images/06026a35-51ab-4cbe-aebe-6a8e5033b847.jpg,\"[{'label': 'tongue', 'coordinates': {'x': 216, 'y': 237, 'width': 157, 'height': 121}, 'type': 'rectangle'},{'label': 'tonsil', 'coordinates': {'x': 240, 'y': 145, 'width': 47, 'height': 48}, 'type': 'rectangle'},{'label': 'tonsil', 'coordinates': {'x': 181, 'y': 150, 'width': 51, 'height': 49}, 'type': 'rectangle'},{'label': 'uvula', 'coordinates': {'x': 207, 'y': 122, 'width': 24, 'height': 24}, 'type': 'rectangle'}]\"\n",
      "/Users/samuelfolledo/Desktop/Convolutional-Neural-Network-Practice/Images/0620d201-3993-4bad-94e5-368a5a027ee3.jpg,\"[{'label': 'tonsil', 'coordinates': {'x': 258, 'y': 103, 'width': 23, 'height': 29}, 'type': 'rectangle'},{'label': 'tonsil', 'coordinates': {'x': 318, 'y': 107, 'width': 33, 'height': 32}, 'type': 'rectangle'},{'label': 'tonsil', 'coordinates': {'x': 297, 'y': 274, 'width': 39, 'height': 36}, 'type': 'rectangle'},{'label': 'tonsil', 'coordinates': {'x': 233, 'y': 278, 'width': 35, 'height': 35}, 'type': 'rectangle'},{'label': 'tonsil', 'coordinates': {'x': 135, 'y': 288, 'width': 36, 'height': 39}, 'type': 'rectangle'},{'label': 'tonsil', 'coordinates': {'x': 65, 'y': 279, 'width': 43, 'height': 57}, 'type': 'rectangle'},{'label': 'tonsil', 'coordinates': {'x': 62, 'y': 104, 'width': 56, 'height': 59}, 'type': 'rectangle'},{'label': 'tonsil', 'coordinates': {'x': 131, 'y': 104, 'width': 39, 'height': 58}, 'type': 'rectangle'},{'label': 'uvula', 'coordinates': {'x': 101, 'y': 271, 'width': 28, 'height': 40}, 'type': 'rectangle'},{'label': 'uvula', 'coordinates': {'x': 267, 'y': 282, 'width': 29, 'height': 28}, 'type': 'rectangle'},{'label': 'uvula', 'coordinates': {'x': 287, 'y': 95, 'width': 35, 'height': 40}, 'type': 'rectangle'},{'label': 'uvula', 'coordinates': {'x': 103, 'y': 86, 'width': 19, 'height': 20}, 'type': 'rectangle'},{'label': 'tongue', 'coordinates': {'x': 280, 'y': 140, 'width': 88, 'height': 35}, 'type': 'rectangle'},{'label': 'tongue', 'coordinates': {'x': 95, 'y': 155, 'width': 154, 'height': 51}, 'type': 'rectangle'},{'label': 'tongue', 'coordinates': {'x': 279, 'y': 329, 'width': 126, 'height': 64}, 'type': 'rectangle'},{'label': 'tongue', 'coordinates': {'x': 95, 'y': 318, 'width': 117, 'height': 48}, 'type': 'rectangle'}]\"\n",
      "/Users/samuelfolledo/Desktop/Convolutional-Neural-Network-Practice/Images/062274f8-7f10-4562-858b-a83942eb910b.jpg,\"[{'label': 'uvula', 'coordinates': {'x': 276, 'y': 249, 'width': 131, 'height': 109}, 'type': 'rectangle'},{'label': 'pharynx', 'coordinates': {'x': 289, 'y': 385, 'width': 309, 'height': 204}, 'type': 'rectangle'},{'label': 'tongue', 'coordinates': {'x': 273, 'y': 503, 'width': 545, 'height': 107}, 'type': 'rectangle'},{'label': 'tonsil', 'coordinates': {'x': 132, 'y': 369, 'width': 73, 'height': 178}, 'type': 'rectangle'},{'label': 'tonsil', 'coordinates': {'x': 442, 'y': 382, 'width': 127, 'height': 211}, 'type': 'rectangle'}]\"\n",
      "/Users/samuelfolledo/Desktop/Convolutional-Neural-Network-Practice/Images/065de52f-2e6d-40a8-a753-126e3aaa23d0.jpg,\"[{'label': 'tongue', 'coordinates': {'x': 629, 'y': 632, 'width': 383, 'height': 620}, 'type': 'rectangle'}]\"\n",
      "/Users/samuelfolledo/Desktop/Convolutional-Neural-Network-Practice/Images/0660d8d6-a31e-4d4c-8ea5-dbb6c31a8a9d.jpg,\"[{'label': 'pharynx', 'coordinates': {'x': 235, 'y': 212, 'width': 168, 'height': 181}, 'type': 'rectangle'},{'label': 'uvula', 'coordinates': {'x': 173, 'y': 84, 'width': 99, 'height': 93}, 'type': 'rectangle'},{'label': 'tonsil', 'coordinates': {'x': 102, 'y': 192, 'width': 134, 'height': 236}, 'type': 'rectangle'},{'label': 'tonsil', 'coordinates': {'x': 369, 'y': 177, 'width': 145, 'height': 225}, 'type': 'rectangle'}]\"\n",
      "/Users/samuelfolledo/Desktop/Convolutional-Neural-Network-Practice/Images/0665da3b-dbb0-47d8-82db-47270d40ee0f.jpg,\"[{'label': 'uvula', 'coordinates': {'x': 275, 'y': 132, 'width': 218, 'height': 159}, 'type': 'rectangle'},{'label': 'tonsil', 'coordinates': {'x': 92, 'y': 195, 'width': 137, 'height': 179}, 'type': 'rectangle'},{'label': 'tonsil', 'coordinates': {'x': 448, 'y': 201, 'width': 143, 'height': 194}, 'type': 'rectangle'},{'label': 'pharynx', 'coordinates': {'x': 284, 'y': 229, 'width': 227, 'height': 140}, 'type': 'rectangle'}]\"\n",
      "/Users/samuelfolledo/Desktop/Convolutional-Neural-Network-Practice/Images/06688500-ecec-4ee8-8bc5-2b62cfdb03b5.jpg,\"[{'label': 'pharynx', 'coordinates': {'x': 704, 'y': 302, 'width': 139, 'height': 82}, 'type': 'rectangle'},{'label': 'tonsil', 'coordinates': {'x': 804, 'y': 245, 'width': 80, 'height': 130}, 'type': 'rectangle'},{'label': 'tonsil', 'coordinates': {'x': 596, 'y': 275, 'width': 78, 'height': 100}, 'type': 'rectangle'},{'label': 'uvula', 'coordinates': {'x': 713, 'y': 203, 'width': 91, 'height': 94}, 'type': 'rectangle'}]\"\n",
      "/Users/samuelfolledo/Desktop/Convolutional-Neural-Network-Practice/Images/06854f3e-b3bd-4c01-a993-16a97b22a18c.jpg,\"[{'label': 'tonsil', 'coordinates': {'x': 564, 'y': 809, 'width': 167, 'height': 343}, 'type': 'rectangle'},{'label': 'tonsil', 'coordinates': {'x': 115, 'y': 785, 'width': 177, 'height': 296}, 'type': 'rectangle'},{'label': 'uvula', 'coordinates': {'x': 351, 'y': 596, 'width': 307, 'height': 156}, 'type': 'rectangle'},{'label': 'pharynx', 'coordinates': {'x': 374, 'y': 813, 'width': 489, 'height': 327}, 'type': 'rectangle'},{'label': 'tongue', 'coordinates': {'x': 345, 'y': 972, 'width': 683, 'height': 95}, 'type': 'rectangle'}]\"\n",
      "/Users/samuelfolledo/Desktop/Convolutional-Neural-Network-Practice/Images/06abfe4f-610d-4c1c-b7fc-45db8f839190.jpg,\"[{'label': 'pharynx', 'coordinates': {'x': 570, 'y': 1013, 'width': 100, 'height': 268}, 'type': 'rectangle'},{'label': 'uvula', 'coordinates': {'x': 527, 'y': 882, 'width': 54, 'height': 78}, 'type': 'rectangle'},{'label': 'tonsil', 'coordinates': {'x': 483, 'y': 992, 'width': 57, 'height': 117}, 'type': 'rectangle'},{'label': 'tongue', 'coordinates': {'x': 377, 'y': 909, 'width': 214, 'height': 157}, 'type': 'rectangle'}]\"\n",
      "/Users/samuelfolledo/Desktop/Convolutional-Neural-Network-Practice/Images/081fa0b0-1ee8-4aa4-ad66-317e248f2afc.jpg,\"[{'label': 'uvula', 'coordinates': {'x': 209, 'y': 154, 'width': 73, 'height': 57}, 'type': 'rectangle'},{'label': 'tongue', 'coordinates': {'x': 217, 'y': 334, 'width': 322, 'height': 158}, 'type': 'rectangle'}]\"\n",
      "/Users/samuelfolledo/Desktop/Convolutional-Neural-Network-Practice/Images/0857139f-3ec5-40fa-a735-e248ce6e3bf7.jpg,\"[{'label': 'tonsil', 'coordinates': {'x': 166, 'y': 263, 'width': 172, 'height': 266}, 'type': 'rectangle'},{'label': 'tonsil', 'coordinates': {'x': 485, 'y': 279, 'width': 181, 'height': 273}, 'type': 'rectangle'},{'label': 'pharynx', 'coordinates': {'x': 334, 'y': 329, 'width': 287, 'height': 195}, 'type': 'rectangle'},{'label': 'uvula', 'coordinates': {'x': 323, 'y': 188, 'width': 129, 'height': 113}, 'type': 'rectangle'}]\"\n",
      "/Users/samuelfolledo/Desktop/Convolutional-Neural-Network-Practice/Images/06b54ece-e604-454b-93ae-299a66d2d011.jpg,\"[{'label': 'pharynx', 'coordinates': {'x': 226, 'y': 184, 'width': 83, 'height': 27}, 'type': 'rectangle'},{'label': 'tongue', 'coordinates': {'x': 221, 'y': 233, 'width': 173, 'height': 81}, 'type': 'rectangle'},{'label': 'tonsil', 'coordinates': {'x': 284, 'y': 164, 'width': 29, 'height': 33}, 'type': 'rectangle'},{'label': 'tonsil', 'coordinates': {'x': 165, 'y': 166, 'width': 39, 'height': 47}, 'type': 'rectangle'},{'label': 'uvula', 'coordinates': {'x': 226, 'y': 162, 'width': 53, 'height': 37}, 'type': 'rectangle'}]\"\n",
      "/Users/samuelfolledo/Desktop/Convolutional-Neural-Network-Practice/Images/06fa0935-04f0-43b9-9502-bde39780877f.jpg,\"[{'label': 'uvula', 'coordinates': {'x': 402, 'y': 515, 'width': 96, 'height': 99}, 'type': 'rectangle'},{'label': 'tongue', 'coordinates': {'x': 444, 'y': 809, 'width': 452, 'height': 403}, 'type': 'rectangle'},{'label': 'tonsil', 'coordinates': {'x': 267, 'y': 552, 'width': 93, 'height': 162}, 'type': 'rectangle'},{'label': 'tonsil', 'coordinates': {'x': 526, 'y': 542, 'width': 101, 'height': 148}, 'type': 'rectangle'},{'label': 'pharynx', 'coordinates': {'x': 390, 'y': 568, 'width': 177, 'height': 102}, 'type': 'rectangle'}]\"\n",
      "/Users/samuelfolledo/Desktop/Convolutional-Neural-Network-Practice/Images/0716f6ad-0212-44e7-b3cd-f1cab99cd799.jpg,\"[{'label': 'pharynx', 'coordinates': {'x': 932, 'y': 553, 'width': 160, 'height': 96}, 'type': 'rectangle'},{'label': 'tonsil', 'coordinates': {'x': 1040, 'y': 507, 'width': 87, 'height': 145}, 'type': 'rectangle'},{'label': 'tonsil', 'coordinates': {'x': 819, 'y': 533, 'width': 65, 'height': 139}, 'type': 'rectangle'},{'label': 'uvula', 'coordinates': {'x': 935, 'y': 487, 'width': 78, 'height': 55}, 'type': 'rectangle'}]\"\n",
      "/Users/samuelfolledo/Desktop/Convolutional-Neural-Network-Practice/Images/076c79da-6d68-4556-a671-9428a676437a.jpg,\"[{'label': 'tongue', 'coordinates': {'x': 458, 'y': 925, 'width': 574, 'height': 508}, 'type': 'rectangle'},{'label': 'tonsil', 'coordinates': {'x': 316, 'y': 635, 'width': 151, 'height': 49}, 'type': 'rectangle'},{'label': 'tonsil', 'coordinates': {'x': 568, 'y': 647, 'width': 81, 'height': 44}, 'type': 'rectangle'},{'label': 'uvula', 'coordinates': {'x': 454, 'y': 644, 'width': 101, 'height': 78}, 'type': 'rectangle'}]\"\n",
      "/Users/samuelfolledo/Desktop/Convolutional-Neural-Network-Practice/Images/07933e67-530e-4dbb-b3e1-222d841af596.jpg,\"[{'label': 'uvula', 'coordinates': {'x': 482, 'y': 331, 'width': 48, 'height': 40}, 'type': 'rectangle'},{'label': 'tongue', 'coordinates': {'x': 490, 'y': 395, 'width': 172, 'height': 90}, 'type': 'rectangle'},{'label': 'tonsil', 'coordinates': {'x': 433, 'y': 318, 'width': 30, 'height': 40}, 'type': 'rectangle'},{'label': 'tonsil', 'coordinates': {'x': 532, 'y': 313, 'width': 35, 'height': 28}, 'type': 'rectangle'},{'label': 'uvula', 'coordinates': {'x': 179, 'y': 312, 'width': 43, 'height': 35}, 'type': 'rectangle'},{'label': 'tonsil', 'coordinates': {'x': 223, 'y': 335, 'width': 36, 'height': 57}, 'type': 'rectangle'},{'label': 'tonsil', 'coordinates': {'x': 135, 'y': 337, 'width': 41, 'height': 48}, 'type': 'rectangle'}]\"\n",
      "/Users/samuelfolledo/Desktop/Convolutional-Neural-Network-Practice/Images/079349a2-c6df-4de3-9f94-1420d9bbea43.jpg,\"[{'label': 'uvula', 'coordinates': {'x': 239, 'y': 175, 'width': 99, 'height': 104}, 'type': 'rectangle'},{'label': 'tonsil', 'coordinates': {'x': 155, 'y': 175, 'width': 43, 'height': 93}, 'type': 'rectangle'},{'label': 'tonsil', 'coordinates': {'x': 320, 'y': 179, 'width': 41, 'height': 85}, 'type': 'rectangle'},{'label': 'pharynx', 'coordinates': {'x': 240, 'y': 230, 'width': 149, 'height': 29}, 'type': 'rectangle'}]\"\n",
      "/Users/samuelfolledo/Desktop/Convolutional-Neural-Network-Practice/Images/07a6f093-8956-4225-97bf-609b77e97b48.jpg,\"[{'label': 'uvula', 'coordinates': {'x': 303, 'y': 415, 'width': 96, 'height': 102}, 'type': 'rectangle'},{'label': 'tonsil', 'coordinates': {'x': 127, 'y': 451, 'width': 113, 'height': 203}, 'type': 'rectangle'},{'label': 'tonsil', 'coordinates': {'x': 450, 'y': 428, 'width': 145, 'height': 191}, 'type': 'rectangle'},{'label': 'tongue', 'coordinates': {'x': 406, 'y': 844, 'width': 753, 'height': 514}, 'type': 'rectangle'},{'label': 'pharynx', 'coordinates': {'x': 314, 'y': 534, 'width': 255, 'height': 113}, 'type': 'rectangle'}]\"\n",
      "/Users/samuelfolledo/Desktop/Convolutional-Neural-Network-Practice/Images/07af0724-262c-4c74-9cef-69361562d232.jpg,\"[{'label': 'uvula', 'coordinates': {'x': 311, 'y': 142, 'width': 152, 'height': 155}, 'type': 'rectangle'},{'label': 'tonsil', 'coordinates': {'x': 157, 'y': 280, 'width': 132, 'height': 381}, 'type': 'rectangle'},{'label': 'tonsil', 'coordinates': {'x': 481, 'y': 272, 'width': 166, 'height': 382}, 'type': 'rectangle'},{'label': 'pharynx', 'coordinates': {'x': 313, 'y': 356, 'width': 183, 'height': 229}, 'type': 'rectangle'}]\"\n",
      "/Users/samuelfolledo/Desktop/Convolutional-Neural-Network-Practice/Images/08001294-81c2-49d4-abea-a55b64c3122e.jpg,\"[{'label': 'uvula', 'coordinates': {'x': 122, 'y': 64, 'width': 42, 'height': 56}, 'type': 'rectangle'}]\"\n",
      "/Users/samuelfolledo/Desktop/Convolutional-Neural-Network-Practice/Images/082ce4cd-4a2e-43ae-904a-9715e16e2271.jpg,\"[{'label': 'uvula', 'coordinates': {'x': 483, 'y': 696, 'width': 96, 'height': 96}, 'type': 'rectangle'},{'label': 'tonsil', 'coordinates': {'x': 358, 'y': 729, 'width': 113, 'height': 128}, 'type': 'rectangle'},{'label': 'tonsil', 'coordinates': {'x': 613, 'y': 712, 'width': 107, 'height': 128}, 'type': 'rectangle'},{'label': 'pharynx', 'coordinates': {'x': 486, 'y': 764, 'width': 188, 'height': 64}, 'type': 'rectangle'}]\"\n",
      "/Users/samuelfolledo/Desktop/Convolutional-Neural-Network-Practice/Images/08aedeb5-1242-461a-a5a6-eeaeb9905580.jpg,\"[{'label': 'tongue', 'coordinates': {'x': 739, 'y': 520, 'width': 486, 'height': 533}, 'type': 'rectangle'}]\"\n",
      "/Users/samuelfolledo/Desktop/Convolutional-Neural-Network-Practice/Images/08c4759e-bb6a-4716-bf46-41f439508c93.jpg,\"[{'label': 'tongue', 'coordinates': {'x': 248, 'y': 224, 'width': 442, 'height': 253}, 'type': 'rectangle'},{'label': 'uvula', 'coordinates': {'x': 309, 'y': 85, 'width': 127, 'height': 104}, 'type': 'rectangle'},{'label': 'tonsil', 'coordinates': {'x': 179, 'y': 68, 'width': 111, 'height': 98}, 'type': 'rectangle'},{'label': 'tonsil', 'coordinates': {'x': 433, 'y': 82, 'width': 92, 'height': 89}, 'type': 'rectangle'}]\"\n",
      "/Users/samuelfolledo/Desktop/Convolutional-Neural-Network-Practice/Images/0904a3f3-ebc8-4a99-b2e6-f79398233ec7.jpg,\"[{'label': 'tongue', 'coordinates': {'x': 653, 'y': 590, 'width': 533, 'height': 244}, 'type': 'rectangle'},{'label': 'uvula', 'coordinates': {'x': 558, 'y': 404, 'width': 64, 'height': 49}, 'type': 'rectangle'},{'label': 'tonsil', 'coordinates': {'x': 467, 'y': 434, 'width': 92, 'height': 68}, 'type': 'rectangle'},{'label': 'tonsil', 'coordinates': {'x': 688, 'y': 436, 'width': 99, 'height': 68}, 'type': 'rectangle'},{'label': 'pharynx', 'coordinates': {'x': 577, 'y': 450, 'width': 170, 'height': 50}, 'type': 'rectangle'}]\"\n",
      "/Users/samuelfolledo/Desktop/Convolutional-Neural-Network-Practice/Images/09368db9-ec3e-48bd-8e39-babb1b96bf16.jpg,\"[{'label': 'tongue', 'coordinates': {'x': 136, 'y': 161, 'width': 90, 'height': 114}, 'type': 'rectangle'},{'label': 'uvula', 'coordinates': {'x': 143, 'y': 91, 'width': 33, 'height': 21}, 'type': 'rectangle'},{'label': 'tonsil', 'coordinates': {'x': 107, 'y': 94, 'width': 33, 'height': 30}, 'type': 'rectangle'},{'label': 'tonsil', 'coordinates': {'x': 182, 'y': 104, 'width': 24, 'height': 31}, 'type': 'rectangle'}]\"\n",
      "/Users/samuelfolledo/Desktop/Convolutional-Neural-Network-Practice/Images/093a1152-4351-4f02-bf9a-857db3b458a7.jpg,\"[{'label': 'uvula', 'coordinates': {'x': 928, 'y': 529, 'width': 80, 'height': 72}, 'type': 'rectangle'},{'label': 'tonsil', 'coordinates': {'x': 808, 'y': 602, 'width': 75, 'height': 215}, 'type': 'rectangle'},{'label': 'tonsil', 'coordinates': {'x': 1049, 'y': 591, 'width': 111, 'height': 202}, 'type': 'rectangle'},{'label': 'pharynx', 'coordinates': {'x': 938, 'y': 646, 'width': 225, 'height': 196}, 'type': 'rectangle'}]\"\n",
      "/Users/samuelfolledo/Desktop/Convolutional-Neural-Network-Practice/Images/089651ae-8bf0-4b07-9893-eca7c869017a.jpg,\"[{'label': 'uvula', 'coordinates': {'x': 399, 'y': 199, 'width': 171, 'height': 175}, 'type': 'rectangle'}]\"\n",
      "/Users/samuelfolledo/Desktop/Convolutional-Neural-Network-Practice/Images/099c0dc5-e163-4312-b886-b5b131aec381.jpg,\"[{'label': 'tongue', 'coordinates': {'x': 210, 'y': 277, 'width': 61, 'height': 30}, 'type': 'rectangle'}]\"\n",
      "/Users/samuelfolledo/Desktop/Convolutional-Neural-Network-Practice/Images/09b36895-601e-40c3-9127-fa3a83aff870.jpg,\"[{'label': 'uvula', 'coordinates': {'x': 496, 'y': 655, 'width': 179, 'height': 54}, 'type': 'rectangle'},{'label': 'tonsil', 'coordinates': {'x': 630, 'y': 518, 'width': 138, 'height': 170}, 'type': 'rectangle'},{'label': 'tonsil', 'coordinates': {'x': 344, 'y': 592, 'width': 110, 'height': 117}, 'type': 'rectangle'}]\"\n",
      "/Users/samuelfolledo/Desktop/Convolutional-Neural-Network-Practice/Images/09d9906d-9c84-4e0e-9d8b-9f9a73da675b.jpg,\"[{'label': 'uvula', 'coordinates': {'x': 685, 'y': 417, 'width': 106, 'height': 118}, 'type': 'rectangle'},{'label': 'tongue', 'coordinates': {'x': 646, 'y': 703, 'width': 533, 'height': 334}, 'type': 'rectangle'},{'label': 'tonsil', 'coordinates': {'x': 837, 'y': 466, 'width': 143, 'height': 168}, 'type': 'rectangle'},{'label': 'tonsil', 'coordinates': {'x': 518, 'y': 448, 'width': 131, 'height': 168}, 'type': 'rectangle'}]\"\n",
      "/Users/samuelfolledo/Desktop/Convolutional-Neural-Network-Practice/Images/0a31114d-a576-437d-8d33-e03aa4b1be42.jpg,\"[{'label': 'tongue', 'coordinates': {'x': 346, 'y': 436, 'width': 296, 'height': 197}, 'type': 'rectangle'},{'label': 'tonsil', 'coordinates': {'x': 267, 'y': 283, 'width': 115, 'height': 114}, 'type': 'rectangle'},{'label': 'tonsil', 'coordinates': {'x': 411, 'y': 279, 'width': 124, 'height': 126}, 'type': 'rectangle'}]\"\n",
      "/Users/samuelfolledo/Desktop/Convolutional-Neural-Network-Practice/Images/0ad849c8-37cf-4870-a07b-eb5828dae505.jpg,\"[{'label': 'uvula', 'coordinates': {'x': 330, 'y': 173, 'width': 99, 'height': 63}, 'type': 'rectangle'},{'label': 'tonsil', 'coordinates': {'x': 450, 'y': 220, 'width': 111, 'height': 156}, 'type': 'rectangle'},{'label': 'tonsil', 'coordinates': {'x': 218, 'y': 240, 'width': 92, 'height': 171}, 'type': 'rectangle'}]\"\n",
      "/Users/samuelfolledo/Desktop/Convolutional-Neural-Network-Practice/Images/0af59466-dc87-4c9c-8a91-7c8545cc2850.jpg,\"[{'label': 'uvula', 'coordinates': {'x': 252, 'y': 85, 'width': 32, 'height': 37}, 'type': 'rectangle'},{'label': 'tonsil', 'coordinates': {'x': 206, 'y': 92, 'width': 37, 'height': 47}, 'type': 'rectangle'},{'label': 'tonsil', 'coordinates': {'x': 305, 'y': 99, 'width': 44, 'height': 50}, 'type': 'rectangle'}]\"\n",
      "/Users/samuelfolledo/Desktop/Convolutional-Neural-Network-Practice/Images/0b08209b-9ddc-4d27-b84a-4ba6fd8be4d7.jpg,\"[{'label': 'uvula', 'coordinates': {'x': 197, 'y': 282, 'width': 27, 'height': 31}, 'type': 'rectangle'},{'label': 'tonsil', 'coordinates': {'x': 174, 'y': 293, 'width': 35, 'height': 40}, 'type': 'rectangle'},{'label': 'tonsil', 'coordinates': {'x': 231, 'y': 290, 'width': 27, 'height': 37}, 'type': 'rectangle'},{'label': 'tongue', 'coordinates': {'x': 207, 'y': 366, 'width': 139, 'height': 110}, 'type': 'rectangle'},{'label': 'uvula', 'coordinates': {'x': 476, 'y': 359, 'width': 39, 'height': 56}, 'type': 'rectangle'},{'label': 'tonsil', 'coordinates': {'x': 522, 'y': 361, 'width': 30, 'height': 49}, 'type': 'rectangle'},{'label': 'tonsil', 'coordinates': {'x': 444, 'y': 366, 'width': 33, 'height': 46}, 'type': 'rectangle'}]\"\n",
      "/Users/samuelfolledo/Desktop/Convolutional-Neural-Network-Practice/Images/0b8b52fd-0dfe-45fa-98d6-2391533e0352.jpg,\"[{'label': 'tongue', 'coordinates': {'x': 134, 'y': 217, 'width': 41, 'height': 40}, 'type': 'rectangle'}]\"\n",
      "/Users/samuelfolledo/Desktop/Convolutional-Neural-Network-Practice/Images/0bf715bf-2ed1-4696-8cb2-a961f0be6528.jpg,\"[{'label': 'uvula', 'coordinates': {'x': 475, 'y': 311, 'width': 59, 'height': 43}, 'type': 'rectangle'},{'label': 'tonsil', 'coordinates': {'x': 411, 'y': 308, 'width': 39, 'height': 59}, 'type': 'rectangle'},{'label': 'tonsil', 'coordinates': {'x': 548, 'y': 302, 'width': 66, 'height': 72}, 'type': 'rectangle'},{'label': 'tongue', 'coordinates': {'x': 454, 'y': 444, 'width': 184, 'height': 220}, 'type': 'rectangle'},{'label': 'pharynx', 'coordinates': {'x': 473, 'y': 333, 'width': 95, 'height': 17}, 'type': 'rectangle'}]\"\n",
      "/Users/samuelfolledo/Desktop/Convolutional-Neural-Network-Practice/Images/0bf7fa2c-e5eb-456e-9bf7-06ff5da1e99b.jpg,\"[{'label': 'uvula', 'coordinates': {'x': 635, 'y': 778, 'width': 195, 'height': 132}, 'type': 'rectangle'},{'label': 'tongue', 'coordinates': {'x': 608, 'y': 951, 'width': 743, 'height': 240}, 'type': 'rectangle'},{'label': 'tonsil', 'coordinates': {'x': 404, 'y': 753, 'width': 176, 'height': 264}, 'type': 'rectangle'},{'label': 'tonsil', 'coordinates': {'x': 859, 'y': 734, 'width': 178, 'height': 197}, 'type': 'rectangle'}]\"\n",
      "/Users/samuelfolledo/Desktop/Convolutional-Neural-Network-Practice/Images/0c36fb58-a380-4d67-bd66-481552cf408a.jpg,\"[{'label': 'pharynx', 'coordinates': {'x': 158, 'y': 107, 'width': 78, 'height': 31}, 'type': 'rectangle'},{'label': 'tongue', 'coordinates': {'x': 155, 'y': 188, 'width': 232, 'height': 105}, 'type': 'rectangle'},{'label': 'tonsil', 'coordinates': {'x': 89, 'y': 102, 'width': 40, 'height': 50}, 'type': 'rectangle'},{'label': 'tonsil', 'coordinates': {'x': 230, 'y': 103, 'width': 43, 'height': 56}, 'type': 'rectangle'}]\"\n",
      "/Users/samuelfolledo/Desktop/Convolutional-Neural-Network-Practice/Images/0c8e0c9b-e43f-4dfa-80f5-8c97743b23f6.jpg,\"[{'label': 'uvula', 'coordinates': {'x': 95, 'y': 149, 'width': 24, 'height': 26}, 'type': 'rectangle'},{'label': 'tonsil', 'coordinates': {'x': 68, 'y': 163, 'width': 34, 'height': 48}, 'type': 'rectangle'},{'label': 'tonsil', 'coordinates': {'x': 125, 'y': 168, 'width': 25, 'height': 34}, 'type': 'rectangle'},{'label': 'tongue', 'coordinates': {'x': 85, 'y': 194, 'width': 98, 'height': 45}, 'type': 'rectangle'},{'label': 'uvula', 'coordinates': {'x': 262, 'y': 189, 'width': 28, 'height': 30}, 'type': 'rectangle'},{'label': 'tonsil', 'coordinates': {'x': 219, 'y': 181, 'width': 42, 'height': 66}, 'type': 'rectangle'},{'label': 'tonsil', 'coordinates': {'x': 303, 'y': 190, 'width': 48, 'height': 57}, 'type': 'rectangle'},{'label': 'tongue', 'coordinates': {'x': 262, 'y': 223, 'width': 127, 'height': 20}, 'type': 'rectangle'},{'label': 'uvula', 'coordinates': {'x': 439, 'y': 179, 'width': 39, 'height': 38}, 'type': 'rectangle'},{'label': 'tonsil', 'coordinates': {'x': 408, 'y': 183, 'width': 27, 'height': 31}, 'type': 'rectangle'},{'label': 'tonsil', 'coordinates': {'x': 482, 'y': 191, 'width': 28, 'height': 35}, 'type': 'rectangle'},{'label': 'tongue', 'coordinates': {'x': 449, 'y': 211, 'width': 94, 'height': 17}, 'type': 'rectangle'},{'label': 'uvula', 'coordinates': {'x': 666, 'y': 124, 'width': 48, 'height': 59}, 'type': 'rectangle'},{'label': 'tonsil', 'coordinates': {'x': 601, 'y': 144, 'width': 57, 'height': 92}, 'type': 'rectangle'},{'label': 'tonsil', 'coordinates': {'x': 725, 'y': 157, 'width': 74, 'height': 82}, 'type': 'rectangle'},{'label': 'tongue', 'coordinates': {'x': 665, 'y': 211, 'width': 190, 'height': 38}, 'type': 'rectangle'},{'label': 'uvula', 'coordinates': {'x': 147, 'y': 430, 'width': 53, 'height': 44}, 'type': 'rectangle'},{'label': 'tonsil', 'coordinates': {'x': 102, 'y': 417, 'width': 51, 'height': 57}, 'type': 'rectangle'},{'label': 'tonsil', 'coordinates': {'x': 217, 'y': 411, 'width': 82, 'height': 57}, 'type': 'rectangle'},{'label': 'tongue', 'coordinates': {'x': 163, 'y': 460, 'width': 253, 'height': 25}, 'type': 'rectangle'},{'label': 'uvula', 'coordinates': {'x': 554, 'y': 299, 'width': 70, 'height': 42}, 'type': 'rectangle'},{'label': 'tonsil', 'coordinates': {'x': 468, 'y': 363, 'width': 70, 'height': 169}, 'type': 'rectangle'},{'label': 'tonsil', 'coordinates': {'x': 638, 'y': 375, 'width': 122, 'height': 160}, 'type': 'rectangle'},{'label': 'tongue', 'coordinates': {'x': 516, 'y': 458, 'width': 263, 'height': 24}, 'type': 'rectangle'},{'label': 'pharynx', 'coordinates': {'x': 661, 'y': 183, 'width': 60, 'height': 46}, 'type': 'rectangle'},{'label': 'pharynx', 'coordinates': {'x': 530, 'y': 398, 'width': 99, 'height': 94}, 'type': 'rectangle'}]\"\n",
      "/Users/samuelfolledo/Desktop/Convolutional-Neural-Network-Practice/Images/0c9ccb4e-c15a-4085-9978-29e5f2887092.jpg,\"[{'label': 'tongue', 'coordinates': {'x': 267, 'y': 416, 'width': 123, 'height': 113}, 'type': 'rectangle'},{'label': 'uvula', 'coordinates': {'x': 273, 'y': 354, 'width': 33, 'height': 33}, 'type': 'rectangle'},{'label': 'tonsil', 'coordinates': {'x': 241, 'y': 344, 'width': 26, 'height': 46}, 'type': 'rectangle'},{'label': 'tonsil', 'coordinates': {'x': 314, 'y': 348, 'width': 25, 'height': 42}, 'type': 'rectangle'}]\"\n",
      "/Users/samuelfolledo/Desktop/Convolutional-Neural-Network-Practice/Images/0caca309-f5d6-4a35-9de2-56e306f7068f.jpg,\"[{'label': 'tongue', 'coordinates': {'x': 121, 'y': 129, 'width': 118, 'height': 37}, 'type': 'rectangle'},{'label': 'uvula', 'coordinates': {'x': 112, 'y': 80, 'width': 37, 'height': 31}, 'type': 'rectangle'},{'label': 'tonsil', 'coordinates': {'x': 71, 'y': 96, 'width': 67, 'height': 43}, 'type': 'rectangle'},{'label': 'tonsil', 'coordinates': {'x': 158, 'y': 87, 'width': 64, 'height': 54}, 'type': 'rectangle'}]\"\n",
      "/Users/samuelfolledo/Desktop/Convolutional-Neural-Network-Practice/Images/0cd66cd8-36db-4669-9733-23327a80e4f2.jpg,\"[{'label': 'uvula', 'coordinates': {'x': 373, 'y': 512, 'width': 90, 'height': 93}, 'type': 'rectangle'},{'label': 'tonsil', 'coordinates': {'x': 216, 'y': 570, 'width': 113, 'height': 168}, 'type': 'rectangle'},{'label': 'tonsil', 'coordinates': {'x': 497, 'y': 535, 'width': 107, 'height': 157}, 'type': 'rectangle'},{'label': 'pharynx', 'coordinates': {'x': 358, 'y': 589, 'width': 183, 'height': 67}, 'type': 'rectangle'},{'label': 'tongue', 'coordinates': {'x': 386, 'y': 886, 'width': 464, 'height': 470}, 'type': 'rectangle'}]\"\n",
      "/Users/samuelfolledo/Desktop/Convolutional-Neural-Network-Practice/Images/0cd6ea5e-8bf6-4ecd-93bd-dc427933aa56.jpg,\"[{'label': 'tongue', 'coordinates': {'x': 212, 'y': 246, 'width': 350, 'height': 109}, 'type': 'rectangle'},{'label': 'tonsil', 'coordinates': {'x': 251, 'y': 146, 'width': 91, 'height': 97}, 'type': 'rectangle'},{'label': 'tonsil', 'coordinates': {'x': 105, 'y': 148, 'width': 66, 'height': 109}, 'type': 'rectangle'},{'label': 'uvula', 'coordinates': {'x': 164, 'y': 147, 'width': 50, 'height': 66}, 'type': 'rectangle'}]\"\n",
      "/Users/samuelfolledo/Desktop/Convolutional-Neural-Network-Practice/Images/0d58baab-3aed-475b-baa9-e13ecf110514.jpg,\"[{'label': 'uvula', 'coordinates': {'x': 136, 'y': 105, 'width': 24, 'height': 21}, 'type': 'rectangle'},{'label': 'tonsil', 'coordinates': {'x': 99, 'y': 136, 'width': 32, 'height': 53}, 'type': 'rectangle'},{'label': 'tonsil', 'coordinates': {'x': 176, 'y': 131, 'width': 45, 'height': 45}, 'type': 'rectangle'},{'label': 'tongue', 'coordinates': {'x': 125, 'y': 165, 'width': 117, 'height': 21}, 'type': 'rectangle'},{'label': 'pharynx', 'coordinates': {'x': 136, 'y': 143, 'width': 52, 'height': 28}, 'type': 'rectangle'}]\"\n",
      "/Users/samuelfolledo/Desktop/Convolutional-Neural-Network-Practice/Images/0d9fbeb3-01f1-42b3-99ed-bf2f4e193837.jpg,\"[{'label': 'tonsil', 'coordinates': {'x': 357, 'y': 476, 'width': 145, 'height': 118}, 'type': 'rectangle'},{'label': 'tonsil', 'coordinates': {'x': 921, 'y': 461, 'width': 141, 'height': 138}, 'type': 'rectangle'},{'label': 'tongue', 'coordinates': {'x': 628, 'y': 615, 'width': 676, 'height': 188}, 'type': 'rectangle'},{'label': 'uvula', 'coordinates': {'x': 511, 'y': 455, 'width': 91, 'height': 129}, 'type': 'rectangle'},{'label': 'uvula', 'coordinates': {'x': 732, 'y': 420, 'width': 139, 'height': 139}, 'type': 'rectangle'}]\"\n",
      "/Users/samuelfolledo/Desktop/Convolutional-Neural-Network-Practice/Images/0dd7747b-6b8c-40f8-8e06-f31b46ad74db.jpg,\"[{'label': 'uvula', 'coordinates': {'x': 245, 'y': 381, 'width': 91, 'height': 62}, 'type': 'rectangle'},{'label': 'tonsil', 'coordinates': {'x': 155, 'y': 379, 'width': 68, 'height': 53}, 'type': 'rectangle'},{'label': 'tonsil', 'coordinates': {'x': 329, 'y': 353, 'width': 79, 'height': 53}, 'type': 'rectangle'},{'label': 'tongue', 'coordinates': {'x': 223, 'y': 501, 'width': 258, 'height': 163}, 'type': 'rectangle'}]\"\n",
      "/Users/samuelfolledo/Desktop/Convolutional-Neural-Network-Practice/Images/0ddc23b5-7450-4985-93ab-57bbfde6a34a.jpg,\"[{'label': 'uvula', 'coordinates': {'x': 413, 'y': 510, 'width': 90, 'height': 113}, 'type': 'rectangle'},{'label': 'tonsil', 'coordinates': {'x': 254, 'y': 555, 'width': 130, 'height': 186}, 'type': 'rectangle'},{'label': 'tonsil', 'coordinates': {'x': 542, 'y': 518, 'width': 110, 'height': 168}, 'type': 'rectangle'},{'label': 'tongue', 'coordinates': {'x': 437, 'y': 863, 'width': 559, 'height': 458}, 'type': 'rectangle'},{'label': 'pharynx', 'coordinates': {'x': 402, 'y': 581, 'width': 177, 'height': 52}, 'type': 'rectangle'}]\"\n",
      "/Users/samuelfolledo/Desktop/Convolutional-Neural-Network-Practice/Images/0e552b0f-e7fb-4f60-82c6-5b6ddf503ac8.jpg,\"[{'label': 'tonsil', 'coordinates': {'x': 300, 'y': 184, 'width': 103, 'height': 72}, 'type': 'rectangle'},{'label': 'tonsil', 'coordinates': {'x': 154, 'y': 198, 'width': 99, 'height': 61}, 'type': 'rectangle'}]\"\n",
      "/Users/samuelfolledo/Desktop/Convolutional-Neural-Network-Practice/Images/0e69749b-94d8-4029-bcd4-9945d6c96662.jpg,\"[{'label': 'uvula', 'coordinates': {'x': 447, 'y': 658, 'width': 116, 'height': 113}, 'type': 'rectangle'},{'label': 'tonsil', 'coordinates': {'x': 585, 'y': 724, 'width': 108, 'height': 157}, 'type': 'rectangle'},{'label': 'tonsil', 'coordinates': {'x': 316, 'y': 682, 'width': 116, 'height': 119}, 'type': 'rectangle'},{'label': 'tongue', 'coordinates': {'x': 486, 'y': 1086, 'width': 794, 'height': 725}, 'type': 'rectangle'},{'label': 'pharynx', 'coordinates': {'x': 476, 'y': 770, 'width': 163, 'height': 87}, 'type': 'rectangle'}]\"\n",
      "/Users/samuelfolledo/Desktop/Convolutional-Neural-Network-Practice/Images/0e77e7e5-4211-47e6-a4c5-b15fe4a803bb.jpg,\"[{'label': 'uvula', 'coordinates': {'x': 132, 'y': 156, 'width': 33, 'height': 64}, 'type': 'rectangle'},{'label': 'tonsil', 'coordinates': {'x': 192, 'y': 172, 'width': 64, 'height': 92}, 'type': 'rectangle'},{'label': 'tonsil', 'coordinates': {'x': 74, 'y': 172, 'width': 71, 'height': 90}, 'type': 'rectangle'},{'label': 'pharynx', 'coordinates': {'x': 139, 'y': 209, 'width': 64, 'height': 46}, 'type': 'rectangle'}]\"\n",
      "/Users/samuelfolledo/Desktop/Convolutional-Neural-Network-Practice/Images/0e7fa524-40e8-474f-8bf8-ffa2192b2cf6.jpg,\"[{'label': 'uvula', 'coordinates': {'x': 165, 'y': 78, 'width': 51, 'height': 49}, 'type': 'rectangle'},{'label': 'tonsil', 'coordinates': {'x': 111, 'y': 116, 'width': 82, 'height': 86}, 'type': 'rectangle'},{'label': 'tonsil', 'coordinates': {'x': 233, 'y': 109, 'width': 82, 'height': 87}, 'type': 'rectangle'},{'label': 'pharynx', 'coordinates': {'x': 175, 'y': 135, 'width': 69, 'height': 44}, 'type': 'rectangle'}]\"\n",
      "/Users/samuelfolledo/Desktop/Convolutional-Neural-Network-Practice/Images/0e9ea163-42bf-40a3-92ed-e43b84c08b51.jpg,\"[{'label': 'uvula', 'coordinates': {'x': 411, 'y': 502, 'width': 96, 'height': 119}, 'type': 'rectangle'},{'label': 'tonsil', 'coordinates': {'x': 256, 'y': 564, 'width': 133, 'height': 186}, 'type': 'rectangle'},{'label': 'tonsil', 'coordinates': {'x': 553, 'y': 529, 'width': 125, 'height': 197}, 'type': 'rectangle'},{'label': 'tongue', 'coordinates': {'x': 438, 'y': 888, 'width': 521, 'height': 461}, 'type': 'rectangle'}]\"\n",
      "/Users/samuelfolledo/Desktop/Convolutional-Neural-Network-Practice/Images/0ed56491-d74c-4fbd-827f-7473e265976d.jpg,\"[{'label': 'uvula', 'coordinates': {'x': 263, 'y': 102, 'width': 177, 'height': 108}, 'type': 'rectangle'},{'label': 'tonsil', 'coordinates': {'x': 149, 'y': 261, 'width': 178, 'height': 230}, 'type': 'rectangle'},{'label': 'tonsil', 'coordinates': {'x': 519, 'y': 186, 'width': 182, 'height': 229}, 'type': 'rectangle'},{'label': 'pharynx', 'coordinates': {'x': 360, 'y': 287, 'width': 290, 'height': 162}, 'type': 'rectangle'}]\"\n",
      "/Users/samuelfolledo/Desktop/Convolutional-Neural-Network-Practice/Images/0edb697c-aa3a-426c-b967-2ef682a8c64c.jpg,\"[{'label': 'uvula', 'coordinates': {'x': 422, 'y': 515, 'width': 101, 'height': 110}, 'type': 'rectangle'},{'label': 'tonsil', 'coordinates': {'x': 257, 'y': 567, 'width': 136, 'height': 186}, 'type': 'rectangle'},{'label': 'tonsil', 'coordinates': {'x': 568, 'y': 534, 'width': 145, 'height': 171}, 'type': 'rectangle'},{'label': 'pharynx', 'coordinates': {'x': 408, 'y': 581, 'width': 229, 'height': 64}, 'type': 'rectangle'},{'label': 'tongue', 'coordinates': {'x': 415, 'y': 893, 'width': 545, 'height': 461}, 'type': 'rectangle'}]\"\n",
      "/Users/samuelfolledo/Desktop/Convolutional-Neural-Network-Practice/Images/0ef17bbe-e075-4422-a8f6-7199c48364fd.jpg,\"[{'label': 'tonsil', 'coordinates': {'x': 356, 'y': 197, 'width': 160, 'height': 137}, 'type': 'rectangle'},{'label': 'uvula', 'coordinates': {'x': 273, 'y': 99, 'width': 74, 'height': 56}, 'type': 'rectangle'}]\"\n",
      "/Users/samuelfolledo/Desktop/Convolutional-Neural-Network-Practice/Images/0f1e7350-bf42-4118-873d-afb4c28cf643.jpg,\"[{'label': 'uvula', 'coordinates': {'x': 762, 'y': 411, 'width': 159, 'height': 132}, 'type': 'rectangle'},{'label': 'tonsil', 'coordinates': {'x': 923, 'y': 356, 'width': 157, 'height': 164}, 'type': 'rectangle'},{'label': 'tonsil', 'coordinates': {'x': 634, 'y': 498, 'width': 145, 'height': 85}, 'type': 'rectangle'},{'label': 'pharynx', 'coordinates': {'x': 786, 'y': 513, 'width': 159, 'height': 53}, 'type': 'rectangle'}]\"\n",
      "/Users/samuelfolledo/Desktop/Convolutional-Neural-Network-Practice/Images/0f334abb-f31d-4c5b-921c-165f364e3eac.jpg,\"[{'label': 'uvula', 'coordinates': {'x': 218, 'y': 178, 'width': 64, 'height': 52}, 'type': 'rectangle'},{'label': 'tonsil', 'coordinates': {'x': 140, 'y': 166, 'width': 57, 'height': 68}, 'type': 'rectangle'},{'label': 'tonsil', 'coordinates': {'x': 325, 'y': 165, 'width': 77, 'height': 81}, 'type': 'rectangle'}]\"\n",
      "/Users/samuelfolledo/Desktop/Convolutional-Neural-Network-Practice/Images/1002ee25-c2dc-4c68-9b02-6a5993ad3e18.jpg,\"[{'label': 'uvula', 'coordinates': {'x': 137, 'y': 88, 'width': 49, 'height': 39}, 'type': 'rectangle'},{'label': 'tonsil', 'coordinates': {'x': 82, 'y': 98, 'width': 36, 'height': 55}, 'type': 'rectangle'},{'label': 'tonsil', 'coordinates': {'x': 207, 'y': 92, 'width': 63, 'height': 51}, 'type': 'rectangle'},{'label': 'pharynx', 'coordinates': {'x': 144, 'y': 116, 'width': 95, 'height': 22}, 'type': 'rectangle'},{'label': 'tongue', 'coordinates': {'x': 143, 'y': 162, 'width': 196, 'height': 65}, 'type': 'rectangle'}]\"\n",
      "/Users/samuelfolledo/Desktop/Convolutional-Neural-Network-Practice/Images/10957eaf-9e59-4580-8a64-ed38016df5bb.jpg,\"[{'label': 'uvula', 'coordinates': {'x': 732, 'y': 695, 'width': 107, 'height': 118}, 'type': 'rectangle'},{'label': 'tonsil', 'coordinates': {'x': 561, 'y': 698, 'width': 139, 'height': 154}, 'type': 'rectangle'},{'label': 'tonsil', 'coordinates': {'x': 916, 'y': 729, 'width': 148, 'height': 137}, 'type': 'rectangle'},{'label': 'tongue', 'coordinates': {'x': 777, 'y': 940, 'width': 681, 'height': 346}, 'type': 'rectangle'},{'label': 'pharynx', 'coordinates': {'x': 720, 'y': 805, 'width': 170, 'height': 81}, 'type': 'rectangle'}]\"\n",
      "/Users/samuelfolledo/Desktop/Convolutional-Neural-Network-Practice/Images/10c1eacd-cbac-4b07-ae72-08aecf4ee996.jpg,\"[{'label': 'tongue', 'coordinates': {'x': 808, 'y': 774, 'width': 991, 'height': 681}, 'type': 'rectangle'},{'label': 'tonsil', 'coordinates': {'x': 639, 'y': 288, 'width': 340, 'height': 366}, 'type': 'rectangle'},{'label': 'tonsil', 'coordinates': {'x': 1187, 'y': 315, 'width': 329, 'height': 416}, 'type': 'rectangle'}]\"\n",
      "/Users/samuelfolledo/Desktop/Convolutional-Neural-Network-Practice/Images/11431e9c-f045-43b1-96ae-f85a1923b5b6.jpg,\"[{'label': 'uvula', 'coordinates': {'x': 302, 'y': 539, 'width': 122, 'height': 113}, 'type': 'rectangle'},{'label': 'tonsil', 'coordinates': {'x': 153, 'y': 600, 'width': 154, 'height': 206}, 'type': 'rectangle'},{'label': 'tonsil', 'coordinates': {'x': 454, 'y': 596, 'width': 148, 'height': 186}, 'type': 'rectangle'},{'label': 'pharynx', 'coordinates': {'x': 316, 'y': 724, 'width': 191, 'height': 93}, 'type': 'rectangle'},{'label': 'tongue', 'coordinates': {'x': 353, 'y': 1049, 'width': 704, 'height': 679}, 'type': 'rectangle'}]\"\n",
      "/Users/samuelfolledo/Desktop/Convolutional-Neural-Network-Practice/Images/117cec3d-35f9-4b81-b06c-cd3cf7911ce6.jpg,\"[{'label': 'tongue', 'coordinates': {'x': 270, 'y': 317, 'width': 119, 'height': 35}, 'type': 'rectangle'},{'label': 'uvula', 'coordinates': {'x': 77, 'y': 124, 'width': 25, 'height': 39}, 'type': 'rectangle'},{'label': 'uvula', 'coordinates': {'x': 84, 'y': 287, 'width': 34, 'height': 15}, 'type': 'rectangle'}]\"\n",
      "/Users/samuelfolledo/Desktop/Convolutional-Neural-Network-Practice/Images/118288c2-9dfd-4f98-8437-eabc2cd89c14.jpg,\"[{'label': 'uvula', 'coordinates': {'x': 334, 'y': 336, 'width': 62, 'height': 41}, 'type': 'rectangle'},{'label': 'tonsil', 'coordinates': {'x': 238, 'y': 328, 'width': 80, 'height': 52}, 'type': 'rectangle'},{'label': 'tonsil', 'coordinates': {'x': 429, 'y': 343, 'width': 82, 'height': 62}, 'type': 'rectangle'},{'label': 'tongue', 'coordinates': {'x': 311, 'y': 380, 'width': 237, 'height': 35}, 'type': 'rectangle'}]\"\n",
      "/Users/samuelfolledo/Desktop/Convolutional-Neural-Network-Practice/Images/11a38968-5c22-420b-b46e-46582a9df7c7.jpg,\"[{'label': 'uvula', 'coordinates': {'x': 227, 'y': 108, 'width': 58, 'height': 56}, 'type': 'rectangle'},{'label': 'tonsil', 'coordinates': {'x': 157, 'y': 92, 'width': 53, 'height': 65}, 'type': 'rectangle'},{'label': 'tonsil', 'coordinates': {'x': 299, 'y': 86, 'width': 63, 'height': 60}, 'type': 'rectangle'},{'label': 'tongue', 'coordinates': {'x': 241, 'y': 200, 'width': 208, 'height': 126}, 'type': 'rectangle'}]\"\n",
      "/Users/samuelfolledo/Desktop/Convolutional-Neural-Network-Practice/Images/11abb8d4-0a95-4540-8d01-59670256c986.jpg,\"[{'label': 'uvula', 'coordinates': {'x': 941, 'y': 553, 'width': 77, 'height': 85}, 'type': 'rectangle'},{'label': 'tonsil', 'coordinates': {'x': 808, 'y': 612, 'width': 96, 'height': 176}, 'type': 'rectangle'},{'label': 'tonsil', 'coordinates': {'x': 1065, 'y': 612, 'width': 116, 'height': 183}, 'type': 'rectangle'},{'label': 'pharynx', 'coordinates': {'x': 946, 'y': 679, 'width': 201, 'height': 114}, 'type': 'rectangle'}]\"\n",
      "/Users/samuelfolledo/Desktop/Convolutional-Neural-Network-Practice/Images/11b5b7e2-460c-4db5-8b23-c2ced01a79a1.jpg,\"[{'label': 'uvula', 'coordinates': {'x': 262, 'y': 209, 'width': 74, 'height': 67}, 'type': 'rectangle'},{'label': 'tonsil', 'coordinates': {'x': 196, 'y': 203, 'width': 57, 'height': 78}, 'type': 'rectangle'},{'label': 'tonsil', 'coordinates': {'x': 338, 'y': 198, 'width': 88, 'height': 55}, 'type': 'rectangle'},{'label': 'tongue', 'coordinates': {'x': 224, 'y': 296, 'width': 211, 'height': 119}, 'type': 'rectangle'},{'label': 'pharynx', 'coordinates': {'x': 257, 'y': 278, 'width': 52, 'height': 29}, 'type': 'rectangle'}]\"\n",
      "/Users/samuelfolledo/Desktop/Convolutional-Neural-Network-Practice/Images/11c45452-8bf6-4a99-9014-53277ee9a89b.jpg,\"[{'label': 'uvula', 'coordinates': {'x': 469, 'y': 721, 'width': 90, 'height': 81}, 'type': 'rectangle'},{'label': 'tonsil', 'coordinates': {'x': 354, 'y': 764, 'width': 110, 'height': 81}, 'type': 'rectangle'},{'label': 'tonsil', 'coordinates': {'x': 613, 'y': 745, 'width': 130, 'height': 84}, 'type': 'rectangle'}]\"\n",
      "/Users/samuelfolledo/Desktop/Convolutional-Neural-Network-Practice/Images/11c72f21-9060-4876-be06-214efc2b5e32.jpg,\"[{'label': 'tongue', 'coordinates': {'x': 652, 'y': 591, 'width': 692, 'height': 258}, 'type': 'rectangle'},{'label': 'uvula', 'coordinates': {'x': 717, 'y': 443, 'width': 118, 'height': 89}, 'type': 'rectangle'}]\"\n",
      "/Users/samuelfolledo/Desktop/Convolutional-Neural-Network-Practice/Images/11f9b020-645c-4499-915f-4135e9abd3dc.jpg,\"[{'label': 'tongue', 'coordinates': {'x': 451, 'y': 182, 'width': 344, 'height': 96}, 'type': 'rectangle'}]\"\n",
      "/Users/samuelfolledo/Desktop/Convolutional-Neural-Network-Practice/Images/120ce227-4ab4-4e7b-8b7f-3c751bf85557.jpg,\"[{'label': 'tongue', 'coordinates': {'x': 151, 'y': 139, 'width': 265, 'height': 246}, 'type': 'rectangle'}]\"\n",
      "/Users/samuelfolledo/Desktop/Convolutional-Neural-Network-Practice/Images/123b9215-9015-4f81-8ea8-9455ada62b59.jpg,\"[{'label': 'uvula', 'coordinates': {'x': 376, 'y': 507, 'width': 96, 'height': 125}, 'type': 'rectangle'},{'label': 'tonsil', 'coordinates': {'x': 235, 'y': 564, 'width': 151, 'height': 197}, 'type': 'rectangle'},{'label': 'tonsil', 'coordinates': {'x': 513, 'y': 551, 'width': 156, 'height': 177}, 'type': 'rectangle'},{'label': 'tongue', 'coordinates': {'x': 405, 'y': 870, 'width': 466, 'height': 450}, 'type': 'rectangle'},{'label': 'pharynx', 'coordinates': {'x': 387, 'y': 605, 'width': 206, 'height': 70}, 'type': 'rectangle'}]\"\n",
      "/Users/samuelfolledo/Desktop/Convolutional-Neural-Network-Practice/Images/13089a66-651f-46cb-8621-f820263af30e.jpg,\"[{'label': 'uvula', 'coordinates': {'x': 795, 'y': 613, 'width': 113, 'height': 87}, 'type': 'rectangle'},{'label': 'tongue', 'coordinates': {'x': 809, 'y': 899, 'width': 711, 'height': 531}, 'type': 'rectangle'}]\"\n",
      "/Users/samuelfolledo/Desktop/Convolutional-Neural-Network-Practice/Images/1328487c-c209-47fc-bb88-12b70798c2b8.jpg,\"[{'label': 'uvula', 'coordinates': {'x': 562, 'y': 226, 'width': 151, 'height': 215}, 'type': 'rectangle'},{'label': 'tongue', 'coordinates': {'x': 556, 'y': 563, 'width': 785, 'height': 182}, 'type': 'rectangle'},{'label': 'tonsil', 'coordinates': {'x': 794, 'y': 276, 'width': 247, 'height': 369}, 'type': 'rectangle'},{'label': 'tonsil', 'coordinates': {'x': 312, 'y': 206, 'width': 238, 'height': 367}, 'type': 'rectangle'}]\"\n",
      "/Users/samuelfolledo/Desktop/Convolutional-Neural-Network-Practice/Images/1355eb26-2d71-42a8-b4e2-2765a1859f72.jpg,\"[{'label': 'uvula', 'coordinates': {'x': 940, 'y': 491, 'width': 91, 'height': 70}, 'type': 'rectangle'},{'label': 'tonsil', 'coordinates': {'x': 805, 'y': 524, 'width': 122, 'height': 140}, 'type': 'rectangle'},{'label': 'tonsil', 'coordinates': {'x': 1053, 'y': 500, 'width': 106, 'height': 126}, 'type': 'rectangle'},{'label': 'pharynx', 'coordinates': {'x': 937, 'y': 560, 'width': 176, 'height': 52}, 'type': 'rectangle'}]\"\n",
      "/Users/samuelfolledo/Desktop/Convolutional-Neural-Network-Practice/Images/1361632e-58f4-41ce-b84a-040c26368ffe.jpg,\"[{'label': 'uvula', 'coordinates': {'x': 185, 'y': 67, 'width': 27, 'height': 32}, 'type': 'rectangle'},{'label': 'tonsil', 'coordinates': {'x': 147, 'y': 86, 'width': 33, 'height': 39}, 'type': 'rectangle'},{'label': 'tonsil', 'coordinates': {'x': 223, 'y': 90, 'width': 30, 'height': 47}, 'type': 'rectangle'},{'label': 'tongue', 'coordinates': {'x': 172, 'y': 168, 'width': 115, 'height': 107}, 'type': 'rectangle'},{'label': 'pharynx', 'coordinates': {'x': 184, 'y': 96, 'width': 54, 'height': 20}, 'type': 'rectangle'}]\"\n",
      "/Users/samuelfolledo/Desktop/Convolutional-Neural-Network-Practice/Images/13673e7f-779e-4bda-86b4-5df4d1680448.jpg,\"[{'label': 'uvula', 'coordinates': {'x': 85, 'y': 82, 'width': 37, 'height': 32}, 'type': 'rectangle'},{'label': 'tonsil', 'coordinates': {'x': 54, 'y': 99, 'width': 34, 'height': 27}, 'type': 'rectangle'},{'label': 'tongue', 'coordinates': {'x': 104, 'y': 119, 'width': 81, 'height': 17}, 'type': 'rectangle'},{'label': 'tonsil', 'coordinates': {'x': 116, 'y': 95, 'width': 36, 'height': 24}, 'type': 'rectangle'}]\"\n",
      "/Users/samuelfolledo/Desktop/Convolutional-Neural-Network-Practice/Images/138692a4-36fc-4280-b4a3-2da67e7276eb.jpg,\"[{'label': 'tongue', 'coordinates': {'x': 137, 'y': 212, 'width': 174, 'height': 176}, 'type': 'rectangle'}]\"\n",
      "/Users/samuelfolledo/Desktop/Convolutional-Neural-Network-Practice/Images/13c75976-1a99-4a9d-a1c1-6336c01c4d1f.jpg,\"[{'label': 'uvula', 'coordinates': {'x': 1003, 'y': 271, 'width': 145, 'height': 159}, 'type': 'rectangle'},{'label': 'tonsil', 'coordinates': {'x': 1195, 'y': 370, 'width': 169, 'height': 404}, 'type': 'rectangle'},{'label': 'tonsil', 'coordinates': {'x': 801, 'y': 389, 'width': 196, 'height': 407}, 'type': 'rectangle'},{'label': 'pharynx', 'coordinates': {'x': 1033, 'y': 588, 'width': 248, 'height': 177}, 'type': 'rectangle'}]\"\n",
      "/Users/samuelfolledo/Desktop/Convolutional-Neural-Network-Practice/Images/13e1c16b-3f42-4952-8104-55c3ff0edc71.jpg,\"[{'label': 'uvula', 'coordinates': {'x': 280, 'y': 796, 'width': 77, 'height': 77}, 'type': 'rectangle'},{'label': 'tonsil', 'coordinates': {'x': 126, 'y': 801, 'width': 160, 'height': 123}, 'type': 'rectangle'},{'label': 'tonsil', 'coordinates': {'x': 417, 'y': 805, 'width': 128, 'height': 128}, 'type': 'rectangle'},{'label': 'pharynx', 'coordinates': {'x': 273, 'y': 863, 'width': 151, 'height': 39}, 'type': 'rectangle'},{'label': 'tongue', 'coordinates': {'x': 269, 'y': 1041, 'width': 526, 'height': 311}, 'type': 'rectangle'}]\"\n",
      "/Users/samuelfolledo/Desktop/Convolutional-Neural-Network-Practice/Images/1403976f-653b-42a4-9cae-0a91e862eb54.jpg,\"[{'label': 'uvula', 'coordinates': {'x': 641, 'y': 395, 'width': 103, 'height': 84}, 'type': 'rectangle'},{'label': 'tonsil', 'coordinates': {'x': 478, 'y': 466, 'width': 132, 'height': 208}, 'type': 'rectangle'},{'label': 'tonsil', 'coordinates': {'x': 804, 'y': 482, 'width': 156, 'height': 245}, 'type': 'rectangle'},{'label': 'tongue', 'coordinates': {'x': 627, 'y': 618, 'width': 539, 'height': 77}, 'type': 'rectangle'},{'label': 'pharynx', 'coordinates': {'x': 659, 'y': 543, 'width': 223, 'height': 107}, 'type': 'rectangle'}]\"\n",
      "/Users/samuelfolledo/Desktop/Convolutional-Neural-Network-Practice/Images/148a66c5-b912-4623-8882-a18c685eabc8.jpg,\"[{'label': 'uvula', 'coordinates': {'x': 481, 'y': 127, 'width': 291, 'height': 204}, 'type': 'rectangle'},{'label': 'tonsil', 'coordinates': {'x': 272, 'y': 365, 'width': 319, 'height': 524}, 'type': 'rectangle'},{'label': 'tonsil', 'coordinates': {'x': 824, 'y': 293, 'width': 269, 'height': 539}, 'type': 'rectangle'}]\"\n",
      "/Users/samuelfolledo/Desktop/Convolutional-Neural-Network-Practice/Images/14c3c305-5c17-45ab-bf8d-c0b0085d311f.jpg,\"[{'label': 'uvula', 'coordinates': {'x': 285, 'y': 112, 'width': 57, 'height': 78}, 'type': 'rectangle'},{'label': 'tonsil', 'coordinates': {'x': 218, 'y': 108, 'width': 76, 'height': 86}, 'type': 'rectangle'},{'label': 'tonsil', 'coordinates': {'x': 349, 'y': 107, 'width': 62, 'height': 101}, 'type': 'rectangle'},{'label': 'tongue', 'coordinates': {'x': 267, 'y': 185, 'width': 222, 'height': 31}, 'type': 'rectangle'}]\"\n",
      "/Users/samuelfolledo/Desktop/Convolutional-Neural-Network-Practice/Images/14c83638-3a11-4906-a4bd-d5163bc77768.jpg,\"[{'label': 'tonsil', 'coordinates': {'x': 1016, 'y': 590, 'width': 266, 'height': 325}, 'type': 'rectangle'},{'label': 'tonsil', 'coordinates': {'x': 584, 'y': 579, 'width': 210, 'height': 394}, 'type': 'rectangle'}]\"\n",
      "/Users/samuelfolledo/Desktop/Convolutional-Neural-Network-Practice/Images/150b8d30-6bda-4e5e-b7c3-c1163256e4f4.jpg,\"[{'label': 'uvula', 'coordinates': {'x': 370, 'y': 506, 'width': 101, 'height': 122}, 'type': 'rectangle'},{'label': 'tonsil', 'coordinates': {'x': 224, 'y': 565, 'width': 139, 'height': 165}, 'type': 'rectangle'},{'label': 'tonsil', 'coordinates': {'x': 524, 'y': 544, 'width': 148, 'height': 162}, 'type': 'rectangle'},{'label': 'tongue', 'coordinates': {'x': 393, 'y': 917, 'width': 490, 'height': 479}, 'type': 'rectangle'},{'label': 'pharynx', 'coordinates': {'x': 376, 'y': 596, 'width': 183, 'height': 41}, 'type': 'rectangle'}]\"\n",
      "/Users/samuelfolledo/Desktop/Convolutional-Neural-Network-Practice/Images/152e3d68-468e-4fd6-bb35-4e363bf70783.jpg,\"[{'label': 'tongue', 'coordinates': {'x': 435, 'y': 845, 'width': 429, 'height': 447}, 'type': 'rectangle'}]\"\n",
      "/Users/samuelfolledo/Desktop/Convolutional-Neural-Network-Practice/Images/158f89ab-493e-448c-ae90-0d9d74fde59c.jpg,\"[{'label': 'uvula', 'coordinates': {'x': 562, 'y': 354, 'width': 80, 'height': 78}, 'type': 'rectangle'},{'label': 'tonsil', 'coordinates': {'x': 426, 'y': 399, 'width': 106, 'height': 139}, 'type': 'rectangle'},{'label': 'tonsil', 'coordinates': {'x': 678, 'y': 377, 'width': 90, 'height': 116}, 'type': 'rectangle'},{'label': 'pharynx', 'coordinates': {'x': 560, 'y': 423, 'width': 155, 'height': 52}, 'type': 'rectangle'}]\"\n",
      "/Users/samuelfolledo/Desktop/Convolutional-Neural-Network-Practice/Images/15d3135b-7bb2-443b-9ffc-04e9774b69f2.jpg,\"[{'label': 'uvula', 'coordinates': {'x': 273, 'y': 146, 'width': 94, 'height': 86}, 'type': 'rectangle'},{'label': 'tonsil', 'coordinates': {'x': 163, 'y': 182, 'width': 128, 'height': 146}, 'type': 'rectangle'},{'label': 'tonsil', 'coordinates': {'x': 391, 'y': 172, 'width': 151, 'height': 160}, 'type': 'rectangle'},{'label': 'tongue', 'coordinates': {'x': 281, 'y': 283, 'width': 297, 'height': 92}, 'type': 'rectangle'}]\"\n",
      "/Users/samuelfolledo/Desktop/Convolutional-Neural-Network-Practice/Images/15492e35-5e22-4080-a2e9-df6cd83645e3.jpg,\"[{'label': 'uvula', 'coordinates': {'x': 120, 'y': 135, 'width': 56, 'height': 67}, 'type': 'rectangle'},{'label': 'tonsil', 'coordinates': {'x': 73, 'y': 141, 'width': 35, 'height': 60}, 'type': 'rectangle'},{'label': 'tonsil', 'coordinates': {'x': 171, 'y': 138, 'width': 35, 'height': 69}, 'type': 'rectangle'}]\"\n",
      "/Users/samuelfolledo/Desktop/Convolutional-Neural-Network-Practice/Images/15f126c2-927d-4d90-8159-59a05d7e15d4.jpg,\"[{'label': 'uvula', 'coordinates': {'x': 497, 'y': 329, 'width': 65, 'height': 112}, 'type': 'rectangle'},{'label': 'tonsil', 'coordinates': {'x': 407, 'y': 311, 'width': 54, 'height': 89}, 'type': 'rectangle'},{'label': 'tonsil', 'coordinates': {'x': 577, 'y': 307, 'width': 55, 'height': 103}, 'type': 'rectangle'},{'label': 'tongue', 'coordinates': {'x': 476, 'y': 393, 'width': 192, 'height': 72}, 'type': 'rectangle'}]\"\n",
      "/Users/samuelfolledo/Desktop/Convolutional-Neural-Network-Practice/Images/1624e830-4103-4411-afa8-0202db60a54b.jpg,\"[{'label': 'uvula', 'coordinates': {'x': 181, 'y': 122, 'width': 39, 'height': 48}, 'type': 'rectangle'},{'label': 'tongue', 'coordinates': {'x': 180, 'y': 194, 'width': 151, 'height': 82}, 'type': 'rectangle'},{'label': 'tonsil', 'coordinates': {'x': 144, 'y': 127, 'width': 44, 'height': 53}, 'type': 'rectangle'},{'label': 'tonsil', 'coordinates': {'x': 218, 'y': 121, 'width': 40, 'height': 44}, 'type': 'rectangle'}]\"\n",
      "/Users/samuelfolledo/Desktop/Convolutional-Neural-Network-Practice/Images/1675734a-f852-42ee-82cd-b24a8a74ba4b.jpg,\"[{'label': 'tongue', 'coordinates': {'x': 161, 'y': 184, 'width': 193, 'height': 73}, 'type': 'rectangle'},{'label': 'tonsil', 'coordinates': {'x': 124, 'y': 94, 'width': 60, 'height': 115}, 'type': 'rectangle'},{'label': 'tonsil', 'coordinates': {'x': 252, 'y': 94, 'width': 61, 'height': 109}, 'type': 'rectangle'}]\"\n",
      "/Users/samuelfolledo/Desktop/Convolutional-Neural-Network-Practice/Images/1816cc16-f257-4cb0-8b03-8163cd24c40f.jpg,\"[{'label': 'uvula', 'coordinates': {'x': 348, 'y': 522, 'width': 122, 'height': 136}, 'type': 'rectangle'},{'label': 'tonsil', 'coordinates': {'x': 177, 'y': 576, 'width': 156, 'height': 279}, 'type': 'rectangle'},{'label': 'tonsil', 'coordinates': {'x': 511, 'y': 552, 'width': 162, 'height': 238}, 'type': 'rectangle'},{'label': 'pharynx', 'coordinates': {'x': 353, 'y': 663, 'width': 264, 'height': 99}, 'type': 'rectangle'},{'label': 'tongue', 'coordinates': {'x': 435, 'y': 1065, 'width': 782, 'height': 722}, 'type': 'rectangle'}]\"\n",
      "/Users/samuelfolledo/Desktop/Convolutional-Neural-Network-Practice/Images/18a847bf-351a-4bb2-8808-b4d0748172e3.jpg,\"[{'label': 'uvula', 'coordinates': {'x': 153, 'y': 178, 'width': 42, 'height': 27}, 'type': 'rectangle'}]\"\n",
      "/Users/samuelfolledo/Desktop/Convolutional-Neural-Network-Practice/Images/1a4835d1-2ba3-4c94-ae94-b089471aae53.jpg,\"[{'label': 'uvula', 'coordinates': {'x': 789, 'y': 593, 'width': 113, 'height': 122}, 'type': 'rectangle'},{'label': 'tongue', 'coordinates': {'x': 793, 'y': 921, 'width': 656, 'height': 505}, 'type': 'rectangle'}]\"\n",
      "/Users/samuelfolledo/Desktop/Convolutional-Neural-Network-Practice/Images/1aa6e058-9997-4206-b546-34f3e8e15625.jpg,\"[{'label': 'tonsil', 'coordinates': {'x': 253, 'y': 354, 'width': 393, 'height': 436}, 'type': 'rectangle'},{'label': 'tonsil', 'coordinates': {'x': 995, 'y': 308, 'width': 432, 'height': 436}, 'type': 'rectangle'}]\"\n",
      "/Users/samuelfolledo/Desktop/Convolutional-Neural-Network-Practice/Images/1ae2ee6b-7ea3-4146-939b-4977d68e8cb6.jpg,\"[{'label': 'uvula', 'coordinates': {'x': 570, 'y': 321, 'width': 100, 'height': 123}, 'type': 'rectangle'}]\"\n",
      "/Users/samuelfolledo/Desktop/Convolutional-Neural-Network-Practice/Images/1b72e2f3-092b-4f89-b82b-f2f8b027f0b3.jpg,\"[{'label': 'uvula', 'coordinates': {'x': 113, 'y': 124, 'width': 47, 'height': 46}, 'type': 'rectangle'},{'label': 'tongue', 'coordinates': {'x': 106, 'y': 174, 'width': 130, 'height': 73}, 'type': 'rectangle'}]\"\n",
      "/Users/samuelfolledo/Desktop/Convolutional-Neural-Network-Practice/Images/1b8dcdf4-9e89-49da-ab2d-eb0409ef6a89.jpg,\"[{'label': 'uvula', 'coordinates': {'x': 458, 'y': 698, 'width': 70, 'height': 70}, 'type': 'rectangle'},{'label': 'tonsil', 'coordinates': {'x': 340, 'y': 748, 'width': 87, 'height': 125}, 'type': 'rectangle'},{'label': 'tonsil', 'coordinates': {'x': 586, 'y': 727, 'width': 110, 'height': 110}, 'type': 'rectangle'},{'label': 'pharynx', 'coordinates': {'x': 448, 'y': 780, 'width': 171, 'height': 61}, 'type': 'rectangle'}]\"\n",
      "/Users/samuelfolledo/Desktop/Convolutional-Neural-Network-Practice/Images/1bd17026-d499-4928-9d3b-399c6b172ddd.jpg,\"[{'label': 'uvula', 'coordinates': {'x': 335, 'y': 481, 'width': 125, 'height': 165}, 'type': 'rectangle'},{'label': 'tonsil', 'coordinates': {'x': 180, 'y': 526, 'width': 122, 'height': 232}, 'type': 'rectangle'},{'label': 'tonsil', 'coordinates': {'x': 497, 'y': 547, 'width': 159, 'height': 232}, 'type': 'rectangle'},{'label': 'pharynx', 'coordinates': {'x': 348, 'y': 645, 'width': 267, 'height': 116}, 'type': 'rectangle'},{'label': 'tongue', 'coordinates': {'x': 437, 'y': 1075, 'width': 773, 'height': 783}, 'type': 'rectangle'}]\"\n",
      "/Users/samuelfolledo/Desktop/Convolutional-Neural-Network-Practice/Images/1bdefaec-e131-4a2f-9c6b-437ea2047bae.jpg,\"[{'label': 'uvula', 'coordinates': {'x': 506, 'y': 732, 'width': 78, 'height': 81}, 'type': 'rectangle'},{'label': 'tonsil', 'coordinates': {'x': 389, 'y': 766, 'width': 116, 'height': 136}, 'type': 'rectangle'},{'label': 'tonsil', 'coordinates': {'x': 632, 'y': 741, 'width': 116, 'height': 104}, 'type': 'rectangle'}]\"\n",
      "/Users/samuelfolledo/Desktop/Convolutional-Neural-Network-Practice/Images/1c15db0a-8772-4e08-804f-5038f53128c7.jpg,\"[{'label': 'uvula', 'coordinates': {'x': 201, 'y': 81, 'width': 25, 'height': 22}, 'type': 'rectangle'}]\"\n",
      "/Users/samuelfolledo/Desktop/Convolutional-Neural-Network-Practice/Images/1c77f215-feb5-40ac-8676-ece9144ae909.jpg,\"[{'label': 'uvula', 'coordinates': {'x': 133, 'y': 123, 'width': 50, 'height': 56}, 'type': 'rectangle'},{'label': 'tonsil', 'coordinates': {'x': 80, 'y': 123, 'width': 42, 'height': 53}, 'type': 'rectangle'},{'label': 'tonsil', 'coordinates': {'x': 184, 'y': 127, 'width': 41, 'height': 48}, 'type': 'rectangle'},{'label': 'tongue', 'coordinates': {'x': 129, 'y': 187, 'width': 116, 'height': 61}, 'type': 'rectangle'}]\"\n",
      "/Users/samuelfolledo/Desktop/Convolutional-Neural-Network-Practice/Images/1cbb429c-1eed-402b-86c0-7b4565a33586.jpg,\"[{'label': 'uvula', 'coordinates': {'x': 198, 'y': 44, 'width': 48, 'height': 61}, 'type': 'rectangle'},{'label': 'tonsil', 'coordinates': {'x': 129, 'y': 51, 'width': 82, 'height': 72}, 'type': 'rectangle'},{'label': 'tonsil', 'coordinates': {'x': 280, 'y': 53, 'width': 88, 'height': 59}, 'type': 'rectangle'},{'label': 'tongue', 'coordinates': {'x': 201, 'y': 194, 'width': 329, 'height': 193}, 'type': 'rectangle'}]\"\n",
      "/Users/samuelfolledo/Desktop/Convolutional-Neural-Network-Practice/Images/1cbb78a0-6fc3-46f7-aace-519309134acb.jpg,\"[{'label': 'uvula', 'coordinates': {'x': 367, 'y': 558, 'width': 107, 'height': 122}, 'type': 'rectangle'},{'label': 'tonsil', 'coordinates': {'x': 205, 'y': 586, 'width': 148, 'height': 235}, 'type': 'rectangle'},{'label': 'tonsil', 'coordinates': {'x': 511, 'y': 571, 'width': 133, 'height': 223}, 'type': 'rectangle'},{'label': 'tongue', 'coordinates': {'x': 389, 'y': 1043, 'width': 678, 'height': 603}, 'type': 'rectangle'},{'label': 'pharynx', 'coordinates': {'x': 382, 'y': 722, 'width': 217, 'height': 67}, 'type': 'rectangle'}]\"\n",
      "/Users/samuelfolledo/Desktop/Convolutional-Neural-Network-Practice/Images/1cd52681-8ffc-4e7a-b8bf-cf808d43aa22.jpg,\"[{'label': 'tongue', 'coordinates': {'x': 304, 'y': 290, 'width': 165, 'height': 119}, 'type': 'rectangle'},{'label': 'uvula', 'coordinates': {'x': 299, 'y': 215, 'width': 56, 'height': 32}, 'type': 'rectangle'}]\"\n",
      "/Users/samuelfolledo/Desktop/Convolutional-Neural-Network-Practice/Images/1d495247-c421-4ba4-820b-55fc64ffd340.jpg,\"[{'label': 'uvula', 'coordinates': {'x': 662, 'y': 234, 'width': 96, 'height': 65}, 'type': 'rectangle'}]\"\n",
      "/Users/samuelfolledo/Desktop/Convolutional-Neural-Network-Practice/Images/1dfca0ab-968d-447f-aba9-85234d9a946d.jpg,\"[{'label': 'uvula', 'coordinates': {'x': 256, 'y': 177, 'width': 36, 'height': 42}, 'type': 'rectangle'},{'label': 'tonsil', 'coordinates': {'x': 203, 'y': 178, 'width': 41, 'height': 65}, 'type': 'rectangle'},{'label': 'tonsil', 'coordinates': {'x': 299, 'y': 194, 'width': 38, 'height': 62}, 'type': 'rectangle'}]\"\n",
      "/Users/samuelfolledo/Desktop/Convolutional-Neural-Network-Practice/Images/1e28a7b9-73df-468d-8e0b-30f4b201eaf9.jpg,\"[{'label': 'uvula', 'coordinates': {'x': 81, 'y': 179, 'width': 42, 'height': 40}, 'type': 'rectangle'}]\"\n",
      "/Users/samuelfolledo/Desktop/Convolutional-Neural-Network-Practice/Images/1e80a609-e4e2-4598-9662-c51406babb84.jpg,\"[{'label': 'tongue', 'coordinates': {'x': 449, 'y': 623, 'width': 831, 'height': 852}, 'type': 'rectangle'}]\"\n",
      "/Users/samuelfolledo/Desktop/Convolutional-Neural-Network-Practice/Images/1e9901fa-1ddf-4204-8fb4-f2090690cc30.jpg,\"[{'label': 'uvula', 'coordinates': {'x': 741, 'y': 285, 'width': 68, 'height': 55}, 'type': 'rectangle'}]\"\n",
      "/Users/samuelfolledo/Desktop/Convolutional-Neural-Network-Practice/Images/1ed91ce5-51ca-42d3-a942-2ac0d4e8c454.jpg,\"[{'label': 'uvula', 'coordinates': {'x': 387, 'y': 521, 'width': 101, 'height': 125}, 'type': 'rectangle'},{'label': 'tonsil', 'coordinates': {'x': 244, 'y': 552, 'width': 104, 'height': 235}, 'type': 'rectangle'},{'label': 'tonsil', 'coordinates': {'x': 544, 'y': 557, 'width': 155, 'height': 155}, 'type': 'rectangle'},{'label': 'tongue', 'coordinates': {'x': 479, 'y': 1011, 'width': 728, 'height': 678}, 'type': 'rectangle'}]\"\n",
      "/Users/samuelfolledo/Desktop/Convolutional-Neural-Network-Practice/Images/20914472-b3cc-4cf3-a3cd-390153efda7e.jpg,\"[{'label': 'uvula', 'coordinates': {'x': 118, 'y': 142, 'width': 25, 'height': 26}, 'type': 'rectangle'},{'label': 'tongue', 'coordinates': {'x': 126, 'y': 187, 'width': 112, 'height': 33}, 'type': 'rectangle'},{'label': 'tonsil', 'coordinates': {'x': 93, 'y': 150, 'width': 38, 'height': 32}, 'type': 'rectangle'},{'label': 'tonsil', 'coordinates': {'x': 154, 'y': 146, 'width': 43, 'height': 44}, 'type': 'rectangle'}]\"\n",
      "/Users/samuelfolledo/Desktop/Convolutional-Neural-Network-Practice/Images/20b182f8-dc44-4961-b60d-e9e019e7bfdc.jpg,\"[{'label': 'uvula', 'coordinates': {'x': 573, 'y': 235, 'width': 190, 'height': 161}, 'type': 'rectangle'},{'label': 'tonsil', 'coordinates': {'x': 449, 'y': 307, 'width': 135, 'height': 230}, 'type': 'rectangle'},{'label': 'tonsil', 'coordinates': {'x': 750, 'y': 294, 'width': 177, 'height': 220}, 'type': 'rectangle'},{'label': 'tongue', 'coordinates': {'x': 568, 'y': 513, 'width': 546, 'height': 244}, 'type': 'rectangle'},{'label': 'pharynx', 'coordinates': {'x': 595, 'y': 418, 'width': 173, 'height': 73}, 'type': 'rectangle'}]\"\n",
      "/Users/samuelfolledo/Desktop/Convolutional-Neural-Network-Practice/Images/20cb8c18-89dc-41a8-aa72-2728bc95c033.jpg,\"[{'label': 'uvula', 'coordinates': {'x': 635, 'y': 297, 'width': 79, 'height': 99}, 'type': 'rectangle'},{'label': 'tonsil', 'coordinates': {'x': 515, 'y': 289, 'width': 100, 'height': 93}, 'type': 'rectangle'},{'label': 'tonsil', 'coordinates': {'x': 776, 'y': 291, 'width': 118, 'height': 105}, 'type': 'rectangle'}]\"\n",
      "/Users/samuelfolledo/Desktop/Convolutional-Neural-Network-Practice/Images/20fc966a-2c30-43c7-8125-dcfcc5b94db5.jpg,\"[{'label': 'uvula', 'coordinates': {'x': 773, 'y': 297, 'width': 73, 'height': 106}, 'type': 'rectangle'}]\"\n",
      "/Users/samuelfolledo/Desktop/Convolutional-Neural-Network-Practice/Images/21190f7c-570e-45ef-bf93-d09e43cf712b.jpg,\"[{'label': 'uvula', 'coordinates': {'x': 737, 'y': 330, 'width': 88, 'height': 68}, 'type': 'rectangle'},{'label': 'tonsil', 'coordinates': {'x': 598, 'y': 362, 'width': 117, 'height': 101}, 'type': 'rectangle'},{'label': 'tonsil', 'coordinates': {'x': 887, 'y': 300, 'width': 142, 'height': 106}, 'type': 'rectangle'}]\"\n",
      "/Users/samuelfolledo/Desktop/Convolutional-Neural-Network-Practice/Images/214d61f5-5de1-457b-8b96-83d87838551f.jpg,\"[{'label': 'uvula', 'coordinates': {'x': 855, 'y': 629, 'width': 126, 'height': 94}, 'type': 'rectangle'}]\"\n",
      "/Users/samuelfolledo/Desktop/Convolutional-Neural-Network-Practice/Images/216877eb-f000-44fc-ba79-74c36e206b7d.jpg,\"[{'label': 'uvula', 'coordinates': {'x': 179, 'y': 87, 'width': 50, 'height': 51}, 'type': 'rectangle'},{'label': 'tonsil', 'coordinates': {'x': 104, 'y': 111, 'width': 58, 'height': 79}, 'type': 'rectangle'},{'label': 'tonsil', 'coordinates': {'x': 251, 'y': 100, 'width': 70, 'height': 83}, 'type': 'rectangle'}]\"\n",
      "/Users/samuelfolledo/Desktop/Convolutional-Neural-Network-Practice/Images/2181d860-e4a3-4a78-83fa-69ec232f3b4a.jpg,\"[{'label': 'uvula', 'coordinates': {'x': 142, 'y': 168, 'width': 40, 'height': 35}, 'type': 'rectangle'},{'label': 'tonsil', 'coordinates': {'x': 95, 'y': 172, 'width': 49, 'height': 36}, 'type': 'rectangle'},{'label': 'tonsil', 'coordinates': {'x': 188, 'y': 171, 'width': 40, 'height': 39}, 'type': 'rectangle'},{'label': 'tongue', 'coordinates': {'x': 134, 'y': 205, 'width': 135, 'height': 27}, 'type': 'rectangle'}]\"\n",
      "/Users/samuelfolledo/Desktop/Convolutional-Neural-Network-Practice/Images/235e28e4-c035-4d49-91aa-763c79cf4065.jpg,\"[{'label': 'tongue', 'coordinates': {'x': 197, 'y': 171, 'width': 112, 'height': 44}, 'type': 'rectangle'},{'label': 'uvula', 'coordinates': {'x': 190, 'y': 129, 'width': 23, 'height': 27}, 'type': 'rectangle'}]\"\n",
      "/Users/samuelfolledo/Desktop/Convolutional-Neural-Network-Practice/Images/2369633e-e099-4be1-9407-ac7b00feb635.jpg,\"[{'label': 'tongue', 'coordinates': {'x': 509, 'y': 1041, 'width': 601, 'height': 659}, 'type': 'rectangle'}]\"\n",
      "/Users/samuelfolledo/Desktop/Convolutional-Neural-Network-Practice/Images/240e84cd-5bab-40ea-b955-742f6049832f.jpg,\"[{'label': 'uvula', 'coordinates': {'x': 460, 'y': 448, 'width': 77, 'height': 149}, 'type': 'rectangle'},{'label': 'tonsil', 'coordinates': {'x': 312, 'y': 526, 'width': 149, 'height': 152}, 'type': 'rectangle'},{'label': 'tonsil', 'coordinates': {'x': 598, 'y': 508, 'width': 123, 'height': 147}, 'type': 'rectangle'},{'label': 'tongue', 'coordinates': {'x': 474, 'y': 819, 'width': 536, 'height': 443}, 'type': 'rectangle'}]\"\n",
      "/Users/samuelfolledo/Desktop/Convolutional-Neural-Network-Practice/Images/249c26f4-252f-4111-965f-1e67c7310afd.jpg,\"[{'label': 'tongue', 'coordinates': {'x': 194, 'y': 280, 'width': 188, 'height': 60}, 'type': 'rectangle'},{'label': 'tonsil', 'coordinates': {'x': 248, 'y': 199, 'width': 66, 'height': 68}, 'type': 'rectangle'},{'label': 'tonsil', 'coordinates': {'x': 152, 'y': 215, 'width': 69, 'height': 63}, 'type': 'rectangle'},{'label': 'uvula', 'coordinates': {'x': 201, 'y': 189, 'width': 36, 'height': 39}, 'type': 'rectangle'}]\"\n",
      "/Users/samuelfolledo/Desktop/Convolutional-Neural-Network-Practice/Images/24d77af9-40b3-40a7-b449-e98c85f1e195.jpg,\"[{'label': 'tongue', 'coordinates': {'x': 344, 'y': 312, 'width': 199, 'height': 117}, 'type': 'rectangle'}]\"\n",
      "/Users/samuelfolledo/Desktop/Convolutional-Neural-Network-Practice/Images/24fe3772-27ee-47ac-8d8a-e33a50c688a1.jpg,\"[{'label': 'uvula', 'coordinates': {'x': 167, 'y': 173, 'width': 116, 'height': 67}, 'type': 'rectangle'},{'label': 'tonsil', 'coordinates': {'x': 36, 'y': 234, 'width': 63, 'height': 155}, 'type': 'rectangle'},{'label': 'tonsil', 'coordinates': {'x': 275, 'y': 198, 'width': 104, 'height': 143}, 'type': 'rectangle'},{'label': 'pharynx', 'coordinates': {'x': 147, 'y': 261, 'width': 181, 'height': 73}, 'type': 'rectangle'},{'label': 'tonsil', 'coordinates': {'x': 379, 'y': 188, 'width': 81, 'height': 164}, 'type': 'rectangle'},{'label': 'uvula', 'coordinates': {'x': 482, 'y': 154, 'width': 82, 'height': 114}, 'type': 'rectangle'},{'label': 'tonsil', 'coordinates': {'x': 607, 'y': 172, 'width': 126, 'height': 153}, 'type': 'rectangle'},{'label': 'pharynx', 'coordinates': {'x': 483, 'y': 234, 'width': 147, 'height': 38}, 'type': 'rectangle'},{'label': 'tongue', 'coordinates': {'x': 505, 'y': 320, 'width': 345, 'height': 107}, 'type': 'rectangle'},{'label': 'tongue', 'coordinates': {'x': 167, 'y': 338, 'width': 313, 'height': 65}, 'type': 'rectangle'}]\"\n",
      "/Users/samuelfolledo/Desktop/Convolutional-Neural-Network-Practice/Images/25b512d6-6bfd-49e2-9b19-0b088203e4ba.jpg,\"[{'label': 'tongue', 'coordinates': {'x': 134, 'y': 218, 'width': 39, 'height': 41}, 'type': 'rectangle'}]\"\n",
      "/Users/samuelfolledo/Desktop/Convolutional-Neural-Network-Practice/Images/25bbe97a-073f-4e79-a398-597a3a1107fb.jpg,\"[{'label': 'uvula', 'coordinates': {'x': 188, 'y': 121, 'width': 53, 'height': 76}, 'type': 'rectangle'},{'label': 'tonsil', 'coordinates': {'x': 98, 'y': 112, 'width': 78, 'height': 114}, 'type': 'rectangle'},{'label': 'tonsil', 'coordinates': {'x': 283, 'y': 117, 'width': 92, 'height': 120}, 'type': 'rectangle'}]\"\n",
      "/Users/samuelfolledo/Desktop/Convolutional-Neural-Network-Practice/Images/25f91770-6f50-4d72-b949-52674ea65a9a.jpg,\"[{'label': 'uvula', 'coordinates': {'x': 473, 'y': 456, 'width': 134, 'height': 112}, 'type': 'rectangle'}]\"\n",
      "/Users/samuelfolledo/Desktop/Convolutional-Neural-Network-Practice/Images/26024722-caa1-4ba1-b39e-1cf27738552e.jpg,\"[{'label': 'uvula', 'coordinates': {'x': 775, 'y': 545, 'width': 111, 'height': 59}, 'type': 'rectangle'},{'label': 'tongue', 'coordinates': {'x': 750, 'y': 741, 'width': 459, 'height': 236}, 'type': 'rectangle'},{'label': 'tonsil', 'coordinates': {'x': 632, 'y': 559, 'width': 114, 'height': 97}, 'type': 'rectangle'},{'label': 'tonsil', 'coordinates': {'x': 934, 'y': 585, 'width': 137, 'height': 112}, 'type': 'rectangle'}]\"\n",
      "/Users/samuelfolledo/Desktop/Convolutional-Neural-Network-Practice/Images/263ea9c0-575e-4683-ab47-36efd3e9e16d.jpg,\"[{'label': 'uvula', 'coordinates': {'x': 309, 'y': 213, 'width': 97, 'height': 105}, 'type': 'rectangle'},{'label': 'tonsil', 'coordinates': {'x': 204, 'y': 240, 'width': 120, 'height': 154}, 'type': 'rectangle'},{'label': 'tonsil', 'coordinates': {'x': 446, 'y': 227, 'width': 148, 'height': 169}, 'type': 'rectangle'},{'label': 'pharynx', 'coordinates': {'x': 325, 'y': 330, 'width': 156, 'height': 64}, 'type': 'rectangle'}]\"\n",
      "/Users/samuelfolledo/Desktop/Convolutional-Neural-Network-Practice/Images/266ccb41-d08f-49bd-887a-dcabc0f16ece.jpg,\"[{'label': 'tongue', 'coordinates': {'x': 304, 'y': 107, 'width': 115, 'height': 23}, 'type': 'rectangle'}]\"\n",
      "/Users/samuelfolledo/Desktop/Convolutional-Neural-Network-Practice/Images/268378eb-2c05-4bce-afb0-3598628ec8b3.jpg,\"[{'label': 'uvula', 'coordinates': {'x': 252, 'y': 173, 'width': 73, 'height': 77}, 'type': 'rectangle'},{'label': 'tongue', 'coordinates': {'x': 216, 'y': 309, 'width': 174, 'height': 95}, 'type': 'rectangle'},{'label': 'tonsil', 'coordinates': {'x': 168, 'y': 201, 'width': 111, 'height': 169}, 'type': 'rectangle'},{'label': 'tonsil', 'coordinates': {'x': 334, 'y': 198, 'width': 99, 'height': 138}, 'type': 'rectangle'},{'label': 'pharynx', 'coordinates': {'x': 266, 'y': 267, 'width': 130, 'height': 45}, 'type': 'rectangle'}]\"\n",
      "/Users/samuelfolledo/Desktop/Convolutional-Neural-Network-Practice/Images/2758ef78-f159-4b3f-9291-b679307b52ea.jpg,\"[{'label': 'tongue', 'coordinates': {'x': 640, 'y': 816, 'width': 372, 'height': 196}, 'type': 'rectangle'},{'label': 'tonsil', 'coordinates': {'x': 507, 'y': 596, 'width': 110, 'height': 176}, 'type': 'rectangle'},{'label': 'tonsil', 'coordinates': {'x': 819, 'y': 615, 'width': 146, 'height': 190}, 'type': 'rectangle'},{'label': 'uvula', 'coordinates': {'x': 652, 'y': 657, 'width': 116, 'height': 142}, 'type': 'rectangle'}]\"\n",
      "/Users/samuelfolledo/Desktop/Convolutional-Neural-Network-Practice/Images/27ca27d6-8af2-42b8-83d1-8477272a7d0b.jpg,\"[{'label': 'tongue', 'coordinates': {'x': 592, 'y': 1247, 'width': 863, 'height': 505}, 'type': 'rectangle'}]\"\n",
      "/Users/samuelfolledo/Desktop/Convolutional-Neural-Network-Practice/Images/28c82db7-65bc-4d39-b726-dbcaea916c1f.jpg,\"[{'label': 'tongue', 'coordinates': {'x': 676, 'y': 834, 'width': 548, 'height': 436}, 'type': 'rectangle'},{'label': 'uvula', 'coordinates': {'x': 734, 'y': 409, 'width': 144, 'height': 110}, 'type': 'rectangle'},{'label': 'tonsil', 'coordinates': {'x': 555, 'y': 540, 'width': 178, 'height': 220}, 'type': 'rectangle'},{'label': 'tonsil', 'coordinates': {'x': 887, 'y': 538, 'width': 246, 'height': 204}, 'type': 'rectangle'}]\"\n",
      "/Users/samuelfolledo/Desktop/Convolutional-Neural-Network-Practice/Images/29190f37-7f30-4457-9017-47711dba2b57.jpg,\"[{'label': 'uvula', 'coordinates': {'x': 164, 'y': 94, 'width': 52, 'height': 48}, 'type': 'rectangle'},{'label': 'tonsil', 'coordinates': {'x': 95, 'y': 102, 'width': 46, 'height': 51}, 'type': 'rectangle'},{'label': 'tonsil', 'coordinates': {'x': 224, 'y': 101, 'width': 55, 'height': 65}, 'type': 'rectangle'},{'label': 'tongue', 'coordinates': {'x': 147, 'y': 170, 'width': 194, 'height': 79}, 'type': 'rectangle'}]\"\n",
      "/Users/samuelfolledo/Desktop/Convolutional-Neural-Network-Practice/Images/2951e37f-f85f-43db-aa27-ec01f37cf7e2.jpg,\"[{'label': 'uvula', 'coordinates': {'x': 289, 'y': 248, 'width': 77, 'height': 120}, 'type': 'rectangle'},{'label': 'tonsil', 'coordinates': {'x': 179, 'y': 265, 'width': 82, 'height': 223}, 'type': 'rectangle'},{'label': 'tonsil', 'coordinates': {'x': 418, 'y': 259, 'width': 130, 'height': 193}, 'type': 'rectangle'},{'label': 'pharynx', 'coordinates': {'x': 289, 'y': 341, 'width': 187, 'height': 66}, 'type': 'rectangle'},{'label': 'tongue', 'coordinates': {'x': 239, 'y': 494, 'width': 355, 'height': 269}, 'type': 'rectangle'}]\"\n",
      "/Users/samuelfolledo/Desktop/Convolutional-Neural-Network-Practice/Images/299c4097-64bb-4675-9eca-3bb499c6b779.jpg,\"[{'label': 'tongue', 'coordinates': {'x': 164, 'y': 166, 'width': 143, 'height': 99}, 'type': 'rectangle'}]\"\n",
      "/Users/samuelfolledo/Desktop/Convolutional-Neural-Network-Practice/Images/2b37dd7b-6fd2-4986-b757-237be471ac5f.jpg,\"[{'label': 'tongue', 'coordinates': {'x': 746, 'y': 583, 'width': 431, 'height': 275}, 'type': 'rectangle'},{'label': 'uvula', 'coordinates': {'x': 716, 'y': 405, 'width': 85, 'height': 91}, 'type': 'rectangle'}]\"\n",
      "/Users/samuelfolledo/Desktop/Convolutional-Neural-Network-Practice/Images/2b397c6d-0356-4089-8742-6b2dcd04ae2a.jpg,\"[{'label': 'uvula', 'coordinates': {'x': 784, 'y': 297, 'width': 69, 'height': 59}, 'type': 'rectangle'},{'label': 'tonsil', 'coordinates': {'x': 676, 'y': 354, 'width': 88, 'height': 159}, 'type': 'rectangle'},{'label': 'tonsil', 'coordinates': {'x': 904, 'y': 350, 'width': 111, 'height': 151}, 'type': 'rectangle'},{'label': 'pharynx', 'coordinates': {'x': 785, 'y': 381, 'width': 142, 'height': 81}, 'type': 'rectangle'}]\"\n",
      "/Users/samuelfolledo/Desktop/Convolutional-Neural-Network-Practice/Images/2b451a9e-f39b-4eb8-a674-05f84d12e9bf.jpg,\"[{'label': 'uvula', 'coordinates': {'x': 706, 'y': 372, 'width': 103, 'height': 90}, 'type': 'rectangle'},{'label': 'tonsil', 'coordinates': {'x': 582, 'y': 397, 'width': 114, 'height': 120}, 'type': 'rectangle'},{'label': 'tonsil', 'coordinates': {'x': 834, 'y': 383, 'width': 93, 'height': 116}, 'type': 'rectangle'},{'label': 'pharynx', 'coordinates': {'x': 699, 'y': 429, 'width': 165, 'height': 48}, 'type': 'rectangle'},{'label': 'tongue', 'coordinates': {'x': 711, 'y': 557, 'width': 495, 'height': 188}, 'type': 'rectangle'}]\"\n",
      "/Users/samuelfolledo/Desktop/Convolutional-Neural-Network-Practice/Images/2be32d04-6864-4d17-9b5d-61b17878be15.jpg,\"[{'label': 'uvula', 'coordinates': {'x': 200, 'y': 182, 'width': 111, 'height': 104}, 'type': 'rectangle'},{'label': 'tonsil', 'coordinates': {'x': 61, 'y': 173, 'width': 116, 'height': 151}, 'type': 'rectangle'},{'label': 'tonsil', 'coordinates': {'x': 359, 'y': 142, 'width': 125, 'height': 139}, 'type': 'rectangle'}]\"\n",
      "/Users/samuelfolledo/Desktop/Convolutional-Neural-Network-Practice/Images/2c22b3f0-e3be-4b96-83da-583428c1723b.jpg,\"[{'label': 'uvula', 'coordinates': {'x': 246, 'y': 63, 'width': 79, 'height': 60}, 'type': 'rectangle'},{'label': 'tonsil', 'coordinates': {'x': 135, 'y': 129, 'width': 91, 'height': 171}, 'type': 'rectangle'},{'label': 'tonsil', 'coordinates': {'x': 373, 'y': 133, 'width': 91, 'height': 163}, 'type': 'rectangle'},{'label': 'pharynx', 'coordinates': {'x': 256, 'y': 195, 'width': 156, 'height': 134}, 'type': 'rectangle'}]\"\n",
      "/Users/samuelfolledo/Desktop/Convolutional-Neural-Network-Practice/Images/2ac68911-ee53-4cdd-9f80-0b90b81c326a.jpg,\"[{'label': 'tongue', 'coordinates': {'x': 257, 'y': 241, 'width': 115, 'height': 71}, 'type': 'rectangle'}]\"\n",
      "/Users/samuelfolledo/Desktop/Convolutional-Neural-Network-Practice/Images/2ad3bbf6-d409-49bd-910b-2d1e5d83fc6c.jpg,\"[{'label': 'tongue', 'coordinates': {'x': 268, 'y': 211, 'width': 246, 'height': 143}, 'type': 'rectangle'}]\"\n",
      "/Users/samuelfolledo/Desktop/Convolutional-Neural-Network-Practice/Images/2c8562d3-a195-43f0-8d35-8951b65c59f0.jpg,\"[{'label': 'uvula', 'coordinates': {'x': 246, 'y': 176, 'width': 55, 'height': 71}, 'type': 'rectangle'},{'label': 'tongue', 'coordinates': {'x': 253, 'y': 266, 'width': 268, 'height': 144}, 'type': 'rectangle'},{'label': 'tonsil', 'coordinates': {'x': 177, 'y': 162, 'width': 74, 'height': 70}, 'type': 'rectangle'},{'label': 'tonsil', 'coordinates': {'x': 308, 'y': 163, 'width': 57, 'height': 65}, 'type': 'rectangle'}]\"\n",
      "/Users/samuelfolledo/Desktop/Convolutional-Neural-Network-Practice/Images/2c6f270c-486d-4108-8278-7a2678806108.jpg,\"[{'label': 'tongue', 'coordinates': {'x': 805, 'y': 171, 'width': 148, 'height': 86}, 'type': 'rectangle'}]\"\n",
      "/Users/samuelfolledo/Desktop/Convolutional-Neural-Network-Practice/Images/2cad7def-3753-41a3-813c-eae4634a2b12.jpg,\"[{'label': 'tongue', 'coordinates': {'x': 166, 'y': 216, 'width': 299, 'height': 123}, 'type': 'rectangle'}]\"\n",
      "/Users/samuelfolledo/Desktop/Convolutional-Neural-Network-Practice/Images/2d65ca62-2e3e-42ed-bfe0-ff6525e4feaa.jpg,\"[{'label': 'uvula', 'coordinates': {'x': 158, 'y': 116, 'width': 98, 'height': 89}, 'type': 'rectangle'}]\"\n",
      "/Users/samuelfolledo/Desktop/Convolutional-Neural-Network-Practice/Images/2df82bc9-4fbe-4b86-8359-d1f032a6ed77.jpg,\"[{'label': 'uvula', 'coordinates': {'x': 498, 'y': 405, 'width': 151, 'height': 152}, 'type': 'rectangle'},{'label': 'tonsil', 'coordinates': {'x': 277, 'y': 453, 'width': 220, 'height': 287}, 'type': 'rectangle'},{'label': 'tonsil', 'coordinates': {'x': 727, 'y': 445, 'width': 245, 'height': 272}, 'type': 'rectangle'}]\"\n",
      "/Users/samuelfolledo/Desktop/Convolutional-Neural-Network-Practice/Images/2de8ac8f-8dc9-4022-a245-7f8313fb9616.jpg,\"[{'label': 'uvula', 'coordinates': {'x': 282, 'y': 72, 'width': 65, 'height': 72}, 'type': 'rectangle'},{'label': 'tonsil', 'coordinates': {'x': 184, 'y': 137, 'width': 119, 'height': 193}, 'type': 'rectangle'},{'label': 'tonsil', 'coordinates': {'x': 394, 'y': 126, 'width': 119, 'height': 183}, 'type': 'rectangle'},{'label': 'tongue', 'coordinates': {'x': 272, 'y': 294, 'width': 384, 'height': 122}, 'type': 'rectangle'}]\"\n",
      "/Users/samuelfolledo/Desktop/Convolutional-Neural-Network-Practice/Images/2e0a899e-014d-4850-8fcc-9f07d9cc96a3.jpg,\"[{'label': 'uvula', 'coordinates': {'x': 253, 'y': 143, 'width': 51, 'height': 42}, 'type': 'rectangle'}]\"\n",
      "/Users/samuelfolledo/Desktop/Convolutional-Neural-Network-Practice/Images/2e59c234-bc40-448f-9467-2e4abceebf5a.jpg,\"[{'label': 'uvula', 'coordinates': {'x': 244, 'y': 190, 'width': 87, 'height': 90}, 'type': 'rectangle'},{'label': 'tonsil', 'coordinates': {'x': 129, 'y': 166, 'width': 134, 'height': 127}, 'type': 'rectangle'},{'label': 'tonsil', 'coordinates': {'x': 353, 'y': 162, 'width': 136, 'height': 130}, 'type': 'rectangle'},{'label': 'tongue', 'coordinates': {'x': 250, 'y': 288, 'width': 358, 'height': 103}, 'type': 'rectangle'}]\"\n",
      "/Users/samuelfolledo/Desktop/Convolutional-Neural-Network-Practice/Images/2ede5ae1-1696-4349-98ea-69d2d32bfdcf.jpg,\"[{'label': 'uvula', 'coordinates': {'x': 162, 'y': 93, 'width': 50, 'height': 66}, 'type': 'rectangle'},{'label': 'tonsil', 'coordinates': {'x': 69, 'y': 120, 'width': 69, 'height': 165}, 'type': 'rectangle'},{'label': 'tonsil', 'coordinates': {'x': 244, 'y': 124, 'width': 56, 'height': 153}, 'type': 'rectangle'},{'label': 'pharynx', 'coordinates': {'x': 154, 'y': 178, 'width': 128, 'height': 88}, 'type': 'rectangle'}]\"\n",
      "/Users/samuelfolledo/Desktop/Convolutional-Neural-Network-Practice/Images/2f493e4f-9051-443a-b668-adbf150551ac.jpg,\"[{'label': 'tongue', 'coordinates': {'x': 437, 'y': 797, 'width': 530, 'height': 231}, 'type': 'rectangle'},{'label': 'uvula', 'coordinates': {'x': 447, 'y': 678, 'width': 84, 'height': 89}, 'type': 'rectangle'}]\"\n",
      "/Users/samuelfolledo/Desktop/Convolutional-Neural-Network-Practice/Images/1d8ab685-d14e-4981-bf75-cebdf7d2dc15.jpg,\"[{'label': 'tongue', 'coordinates': {'x': 779, 'y': 584, 'width': 670, 'height': 91}, 'type': 'rectangle'},{'label': 'tonsil', 'coordinates': {'x': 632, 'y': 421, 'width': 236, 'height': 252}, 'type': 'rectangle'},{'label': 'tonsil', 'coordinates': {'x': 917, 'y': 406, 'width': 233, 'height': 275}, 'type': 'rectangle'},{'label': 'uvula', 'coordinates': {'x': 769, 'y': 335, 'width': 112, 'height': 139}, 'type': 'rectangle'}]\"\n",
      "/Users/samuelfolledo/Desktop/Convolutional-Neural-Network-Practice/Images/1dc0653a-d01e-4936-af62-cc546272c167.jpg,\"[{'label': 'uvula', 'coordinates': {'x': 214, 'y': 187, 'width': 68, 'height': 50}, 'type': 'rectangle'}]\"\n",
      "/Users/samuelfolledo/Desktop/Convolutional-Neural-Network-Practice/Images/1efd38d4-c0c6-48e3-bffd-eb4637f76ced.jpg,\"[{'label': 'uvula', 'coordinates': {'x': 674, 'y': 224, 'width': 268, 'height': 263}, 'type': 'rectangle'},{'label': 'tonsil', 'coordinates': {'x': 305, 'y': 255, 'width': 405, 'height': 456}, 'type': 'rectangle'},{'label': 'tonsil', 'coordinates': {'x': 1068, 'y': 306, 'width': 387, 'height': 602}, 'type': 'rectangle'},{'label': 'tongue', 'coordinates': {'x': 682, 'y': 561, 'width': 1174, 'height': 318}, 'type': 'rectangle'}]\"\n",
      "/Users/samuelfolledo/Desktop/Convolutional-Neural-Network-Practice/Images/1fa42373-7181-4b84-b917-c2332cd7c18a.jpg,\"[{'label': 'uvula', 'coordinates': {'x': 798, 'y': 238, 'width': 523, 'height': 354}, 'type': 'rectangle'}]\"\n",
      "/Users/samuelfolledo/Desktop/Convolutional-Neural-Network-Practice/Images/2424a0ca-0949-49eb-8ee2-ec89870c2b99.jpg,\"[{'label': 'uvula', 'coordinates': {'x': 824, 'y': 246, 'width': 320, 'height': 244}, 'type': 'rectangle'},{'label': 'tonsil', 'coordinates': {'x': 589, 'y': 385, 'width': 414, 'height': 378}, 'type': 'rectangle'},{'label': 'tonsil', 'coordinates': {'x': 1149, 'y': 436, 'width': 450, 'height': 396}, 'type': 'rectangle'}]\"\n",
      "/Users/samuelfolledo/Desktop/Convolutional-Neural-Network-Practice/Images/249177c8-8625-42ed-aeca-39d38cb5fe3c.jpg,\"[{'label': 'uvula', 'coordinates': {'x': 679, 'y': 635, 'width': 140, 'height': 135}, 'type': 'rectangle'},{'label': 'tonsil', 'coordinates': {'x': 495, 'y': 562, 'width': 191, 'height': 228}, 'type': 'rectangle'}]\"\n",
      "/Users/samuelfolledo/Desktop/Convolutional-Neural-Network-Practice/Images/25414c81-388b-40e3-851d-ca5149371780.jpg,\"[{'label': 'uvula', 'coordinates': {'x': 690, 'y': 370, 'width': 133, 'height': 118}, 'type': 'rectangle'},{'label': 'tonsil', 'coordinates': {'x': 541, 'y': 339, 'width': 142, 'height': 133}, 'type': 'rectangle'},{'label': 'tonsil', 'coordinates': {'x': 818, 'y': 344, 'width': 109, 'height': 119}, 'type': 'rectangle'}]\"\n",
      "/Users/samuelfolledo/Desktop/Convolutional-Neural-Network-Practice/Images/272c6733-b09e-40bd-9c64-f8d80a3e23a1.jpg,\"[{'label': 'uvula', 'coordinates': {'x': 423, 'y': 250, 'width': 58, 'height': 40}, 'type': 'rectangle'},{'label': 'tonsil', 'coordinates': {'x': 371, 'y': 268, 'width': 63, 'height': 74}, 'type': 'rectangle'},{'label': 'tonsil', 'coordinates': {'x': 494, 'y': 269, 'width': 80, 'height': 76}, 'type': 'rectangle'},{'label': 'tongue', 'coordinates': {'x': 427, 'y': 336, 'width': 209, 'height': 52}, 'type': 'rectangle'}]\"\n",
      "/Users/samuelfolledo/Desktop/Convolutional-Neural-Network-Practice/Images/2f2369fb-5984-4bcc-8b45-09aa72d3702d.jpg,\"[{'label': 'tonsil', 'coordinates': {'x': 79, 'y': 151, 'width': 54, 'height': 62}, 'type': 'rectangle'},{'label': 'tonsil', 'coordinates': {'x': 173, 'y': 152, 'width': 43, 'height': 64}, 'type': 'rectangle'},{'label': 'tongue', 'coordinates': {'x': 129, 'y': 215, 'width': 130, 'height': 59}, 'type': 'rectangle'}]\"\n",
      "/Users/samuelfolledo/Desktop/Convolutional-Neural-Network-Practice/Images/2f65e514-9cb1-44ab-a6d2-a1b12e37e525.jpg,\"[{'label': 'uvula', 'coordinates': {'x': 328, 'y': 271, 'width': 74, 'height': 70}, 'type': 'rectangle'},{'label': 'tonsil', 'coordinates': {'x': 242, 'y': 276, 'width': 92, 'height': 94}, 'type': 'rectangle'},{'label': 'tonsil', 'coordinates': {'x': 416, 'y': 283, 'width': 95, 'height': 97}, 'type': 'rectangle'},{'label': 'tongue', 'coordinates': {'x': 307, 'y': 418, 'width': 252, 'height': 181}, 'type': 'rectangle'}]\"\n",
      "/Users/samuelfolledo/Desktop/Convolutional-Neural-Network-Practice/Images/2f96634c-4aee-4741-8d4b-dcbd28110be7.jpg,\"[{'label': 'tongue', 'coordinates': {'x': 648, 'y': 466, 'width': 337, 'height': 182}, 'type': 'rectangle'},{'label': 'tonsil', 'coordinates': {'x': 594, 'y': 335, 'width': 118, 'height': 77}, 'type': 'rectangle'},{'label': 'tonsil', 'coordinates': {'x': 822, 'y': 342, 'width': 124, 'height': 90}, 'type': 'rectangle'}]\"\n",
      "/Users/samuelfolledo/Desktop/Convolutional-Neural-Network-Practice/Images/2f992dd0-5804-4592-8c31-b8c09cdf0861.jpg,\"[{'label': 'uvula', 'coordinates': {'x': 556, 'y': 339, 'width': 88, 'height': 84}, 'type': 'rectangle'},{'label': 'tonsil', 'coordinates': {'x': 427, 'y': 390, 'width': 115, 'height': 136}, 'type': 'rectangle'},{'label': 'tonsil', 'coordinates': {'x': 673, 'y': 377, 'width': 87, 'height': 124}, 'type': 'rectangle'},{'label': 'pharynx', 'coordinates': {'x': 553, 'y': 426, 'width': 165, 'height': 43}, 'type': 'rectangle'}]\"\n",
      "/Users/samuelfolledo/Desktop/Convolutional-Neural-Network-Practice/Images/30feec01-36ab-48d0-809c-531c2bd2a262.jpg,\"[{'label': 'uvula', 'coordinates': {'x': 718, 'y': 355, 'width': 58, 'height': 63}, 'type': 'rectangle'},{'label': 'tonsil', 'coordinates': {'x': 622, 'y': 346, 'width': 84, 'height': 72}, 'type': 'rectangle'},{'label': 'tonsil', 'coordinates': {'x': 814, 'y': 345, 'width': 108, 'height': 66}, 'type': 'rectangle'},{'label': 'tongue', 'coordinates': {'x': 724, 'y': 490, 'width': 417, 'height': 183}, 'type': 'rectangle'}]\"\n",
      "/Users/samuelfolledo/Desktop/Convolutional-Neural-Network-Practice/Images/31e19a85-c4c1-4667-b67e-13ae711cde9e.jpg,\"[{'label': 'uvula', 'coordinates': {'x': 164, 'y': 182, 'width': 59, 'height': 49}, 'type': 'rectangle'}]\"\n",
      "/Users/samuelfolledo/Desktop/Convolutional-Neural-Network-Practice/Images/31f12835-f9fa-4480-b9e0-12fefd42ccdd.jpg,\"[{'label': 'uvula', 'coordinates': {'x': 789, 'y': 306, 'width': 69, 'height': 72}, 'type': 'rectangle'},{'label': 'tonsil', 'coordinates': {'x': 657, 'y': 375, 'width': 105, 'height': 144}, 'type': 'rectangle'},{'label': 'tonsil', 'coordinates': {'x': 901, 'y': 365, 'width': 105, 'height': 160}, 'type': 'rectangle'}]\"\n",
      "/Users/samuelfolledo/Desktop/Convolutional-Neural-Network-Practice/Images/321feeab-05dc-4108-97d6-2ed879b5755a.jpg,\"[{'label': 'uvula', 'coordinates': {'x': 394, 'y': 513, 'width': 109, 'height': 109}, 'type': 'rectangle'},{'label': 'tonsil', 'coordinates': {'x': 246, 'y': 573, 'width': 165, 'height': 139}, 'type': 'rectangle'},{'label': 'tonsil', 'coordinates': {'x': 532, 'y': 546, 'width': 109, 'height': 133}, 'type': 'rectangle'},{'label': 'tongue', 'coordinates': {'x': 431, 'y': 872, 'width': 542, 'height': 486}, 'type': 'rectangle'}]\"\n",
      "/Users/samuelfolledo/Desktop/Convolutional-Neural-Network-Practice/Images/32727fd7-be7c-4f35-a97f-dd204fe293da.jpg,\"[{'label': 'tongue', 'coordinates': {'x': 163, 'y': 210, 'width': 160, 'height': 91}, 'type': 'rectangle'}]\"\n",
      "/Users/samuelfolledo/Desktop/Convolutional-Neural-Network-Practice/Images/32794bef-dbd4-433f-a58d-0422710dfadd.jpg,\"[{'label': 'uvula', 'coordinates': {'x': 274, 'y': 163, 'width': 44, 'height': 34}, 'type': 'rectangle'},{'label': 'tonsil', 'coordinates': {'x': 230, 'y': 185, 'width': 47, 'height': 61}, 'type': 'rectangle'},{'label': 'tonsil', 'coordinates': {'x': 324, 'y': 174, 'width': 42, 'height': 55}, 'type': 'rectangle'},{'label': 'tongue', 'coordinates': {'x': 284, 'y': 240, 'width': 98, 'height': 48}, 'type': 'rectangle'}]\"\n",
      "/Users/samuelfolledo/Desktop/Convolutional-Neural-Network-Practice/Images/333eadd9-0fbb-405a-b14d-4bd4100b9954.jpg,\"[{'label': 'uvula', 'coordinates': {'x': 229, 'y': 178, 'width': 49, 'height': 48}, 'type': 'rectangle'},{'label': 'tongue', 'coordinates': {'x': 241, 'y': 244, 'width': 232, 'height': 111}, 'type': 'rectangle'}]\"\n",
      "/Users/samuelfolledo/Desktop/Convolutional-Neural-Network-Practice/Images/34503d6b-04d1-4f99-a5e2-2d62531a72fc.jpg,\"[{'label': 'uvula', 'coordinates': {'x': 442, 'y': 653, 'width': 152, 'height': 123}, 'type': 'rectangle'},{'label': 'tongue', 'coordinates': {'x': 491, 'y': 1116, 'width': 823, 'height': 766}, 'type': 'rectangle'}]\"\n",
      "/Users/samuelfolledo/Desktop/Convolutional-Neural-Network-Practice/Images/35d4a510-0f92-4bc5-ab5a-07740952d257.jpg,\"[{'label': 'uvula', 'coordinates': {'x': 796, 'y': 679, 'width': 152, 'height': 142}, 'type': 'rectangle'},{'label': 'tonsil', 'coordinates': {'x': 613, 'y': 655, 'width': 178, 'height': 162}, 'type': 'rectangle'},{'label': 'tonsil', 'coordinates': {'x': 1007, 'y': 638, 'width': 254, 'height': 148}, 'type': 'rectangle'},{'label': 'tongue', 'coordinates': {'x': 885, 'y': 948, 'width': 1026, 'height': 355}, 'type': 'rectangle'}]\"\n",
      "/Users/samuelfolledo/Desktop/Convolutional-Neural-Network-Practice/Images/36425b39-bc22-4fa4-adc7-022283d383f9.jpg,\"[{'label': 'uvula', 'coordinates': {'x': 619, 'y': 291, 'width': 93, 'height': 91}, 'type': 'rectangle'},{'label': 'tonsil', 'coordinates': {'x': 491, 'y': 281, 'width': 135, 'height': 83}, 'type': 'rectangle'},{'label': 'tonsil', 'coordinates': {'x': 762, 'y': 295, 'width': 132, 'height': 84}, 'type': 'rectangle'}]\"\n",
      "/Users/samuelfolledo/Desktop/Convolutional-Neural-Network-Practice/Images/368ee5d3-98ab-4756-983b-0d78b2ff3531.jpg,\"[{'label': 'uvula', 'coordinates': {'x': 141, 'y': 291, 'width': 73, 'height': 56}, 'type': 'rectangle'}]\"\n",
      "/Users/samuelfolledo/Desktop/Convolutional-Neural-Network-Practice/Images/372c4580-e637-4c7b-ac0e-31edcff891f4.jpg,\"[{'label': 'uvula', 'coordinates': {'x': 507, 'y': 504, 'width': 128, 'height': 91}, 'type': 'rectangle'},{'label': 'tongue', 'coordinates': {'x': 532, 'y': 708, 'width': 604, 'height': 328}, 'type': 'rectangle'}]\"\n",
      "/Users/samuelfolledo/Desktop/Convolutional-Neural-Network-Practice/Images/3832aca5-4986-4409-9de6-6b1af5617d0c.jpg,\"[{'label': 'uvula', 'coordinates': {'x': 330, 'y': 144, 'width': 117, 'height': 79}, 'type': 'rectangle'},{'label': 'tonsil', 'coordinates': {'x': 217, 'y': 149, 'width': 78, 'height': 110}, 'type': 'rectangle'},{'label': 'tonsil', 'coordinates': {'x': 433, 'y': 149, 'width': 61, 'height': 101}, 'type': 'rectangle'},{'label': 'pharynx', 'coordinates': {'x': 317, 'y': 196, 'width': 127, 'height': 38}, 'type': 'rectangle'},{'label': 'tongue', 'coordinates': {'x': 312, 'y': 288, 'width': 304, 'height': 147}, 'type': 'rectangle'}]\"\n",
      "/Users/samuelfolledo/Desktop/Convolutional-Neural-Network-Practice/Images/38498cec-4f6b-453f-9d0b-68ad176f62c8.jpg,\"[{'label': 'uvula', 'coordinates': {'x': 823, 'y': 301, 'width': 253, 'height': 278}, 'type': 'rectangle'},{'label': 'pharynx', 'coordinates': {'x': 855, 'y': 673, 'width': 602, 'height': 416}, 'type': 'rectangle'}]\"\n",
      "/Users/samuelfolledo/Desktop/Convolutional-Neural-Network-Practice/Images/3a360ee4-1149-4051-b2b2-f650d916dae5.jpg,\"[{'label': 'uvula', 'coordinates': {'x': 274, 'y': 119, 'width': 50, 'height': 43}, 'type': 'rectangle'}]\"\n",
      "/Users/samuelfolledo/Desktop/Convolutional-Neural-Network-Practice/Images/3a36f4f2-5f37-4572-8439-04903542f023.jpg,\"[{'label': 'uvula', 'coordinates': {'x': 271, 'y': 171, 'width': 123, 'height': 101}, 'type': 'rectangle'},{'label': 'tonsil', 'coordinates': {'x': 110, 'y': 190, 'width': 176, 'height': 238}, 'type': 'rectangle'},{'label': 'tonsil', 'coordinates': {'x': 448, 'y': 176, 'width': 191, 'height': 229}, 'type': 'rectangle'},{'label': 'pharynx', 'coordinates': {'x': 271, 'y': 309, 'width': 227, 'height': 95}, 'type': 'rectangle'}]\"\n",
      "/Users/samuelfolledo/Desktop/Convolutional-Neural-Network-Practice/Images/3a6a2ee4-4ed8-4cf0-b024-a8f27a72435d.jpg,\"[{'label': 'uvula', 'coordinates': {'x': 300, 'y': 244, 'width': 74, 'height': 87}, 'type': 'rectangle'},{'label': 'tonsil', 'coordinates': {'x': 416, 'y': 240, 'width': 133, 'height': 103}, 'type': 'rectangle'},{'label': 'tonsil', 'coordinates': {'x': 207, 'y': 243, 'width': 92, 'height': 91}, 'type': 'rectangle'},{'label': 'tongue', 'coordinates': {'x': 308, 'y': 373, 'width': 376, 'height': 149}, 'type': 'rectangle'}]\"\n",
      "/Users/samuelfolledo/Desktop/Convolutional-Neural-Network-Practice/Images/3a7485df-312e-4d36-b78d-8e4aa3c100af.jpg,\"[{'label': 'uvula', 'coordinates': {'x': 302, 'y': 177, 'width': 68, 'height': 74}, 'type': 'rectangle'},{'label': 'tonsil', 'coordinates': {'x': 228, 'y': 200, 'width': 83, 'height': 98}, 'type': 'rectangle'},{'label': 'tonsil', 'coordinates': {'x': 386, 'y': 190, 'width': 103, 'height': 95}, 'type': 'rectangle'},{'label': 'tongue', 'coordinates': {'x': 312, 'y': 351, 'width': 294, 'height': 193}, 'type': 'rectangle'}]\"\n",
      "/Users/samuelfolledo/Desktop/Convolutional-Neural-Network-Practice/Images/3acbfcac-0d07-4763-b8ea-c32fd9c948d7.jpg,\"[{'label': 'uvula', 'coordinates': {'x': 163, 'y': 242, 'width': 68, 'height': 92}, 'type': 'rectangle'},{'label': 'tonsil', 'coordinates': {'x': 82, 'y': 248, 'width': 69, 'height': 110}, 'type': 'rectangle'},{'label': 'tonsil', 'coordinates': {'x': 234, 'y': 248, 'width': 55, 'height': 103}, 'type': 'rectangle'}]\"\n",
      "/Users/samuelfolledo/Desktop/Convolutional-Neural-Network-Practice/Images/3c6f581c-c8b9-4d11-bd17-063fbf1283e9.jpg,\"[{'label': 'tongue', 'coordinates': {'x': 495, 'y': 821, 'width': 446, 'height': 427}, 'type': 'rectangle'}]\"\n",
      "/Users/samuelfolledo/Desktop/Convolutional-Neural-Network-Practice/Images/3c8da4b5-cadc-4a29-b855-a4a3b824b4ad.jpg,\"[{'label': 'uvula', 'coordinates': {'x': 772, 'y': 302, 'width': 73, 'height': 89}, 'type': 'rectangle'},{'label': 'tonsil', 'coordinates': {'x': 649, 'y': 350, 'width': 106, 'height': 157}, 'type': 'rectangle'},{'label': 'tonsil', 'coordinates': {'x': 888, 'y': 349, 'width': 106, 'height': 141}, 'type': 'rectangle'},{'label': 'pharynx', 'coordinates': {'x': 769, 'y': 381, 'width': 141, 'height': 59}, 'type': 'rectangle'}]\"\n",
      "/Users/samuelfolledo/Desktop/Convolutional-Neural-Network-Practice/Images/3cee473f-018e-4201-b1c9-b7d0221754b4.jpg,\"[{'label': 'tongue', 'coordinates': {'x': 771, 'y': 610, 'width': 779, 'height': 446}, 'type': 'rectangle'},{'label': 'tonsil', 'coordinates': {'x': 467, 'y': 265, 'width': 188, 'height': 270}, 'type': 'rectangle'},{'label': 'tonsil', 'coordinates': {'x': 974, 'y': 244, 'width': 210, 'height': 287}, 'type': 'rectangle'},{'label': 'uvula', 'coordinates': {'x': 701, 'y': 338, 'width': 228, 'height': 257}, 'type': 'rectangle'}]\"\n",
      "/Users/samuelfolledo/Desktop/Convolutional-Neural-Network-Practice/Images/3d7f74be-6d82-46e3-966b-ab5caa47bd57.jpg,\"[{'label': 'tongue', 'coordinates': {'x': 244, 'y': 405, 'width': 230, 'height': 153}, 'type': 'rectangle'}]\"\n",
      "/Users/samuelfolledo/Desktop/Convolutional-Neural-Network-Practice/Images/3f0ce066-4971-4eab-8170-286ca9d2cf6e.jpg,\"[{'label': 'uvula', 'coordinates': {'x': 188, 'y': 209, 'width': 64, 'height': 53}, 'type': 'rectangle'},{'label': 'tonsil', 'coordinates': {'x': 99, 'y': 242, 'width': 91, 'height': 130}, 'type': 'rectangle'},{'label': 'tonsil', 'coordinates': {'x': 280, 'y': 236, 'width': 116, 'height': 127}, 'type': 'rectangle'},{'label': 'tongue', 'coordinates': {'x': 204, 'y': 355, 'width': 393, 'height': 89}, 'type': 'rectangle'}]\"\n",
      "/Users/samuelfolledo/Desktop/Convolutional-Neural-Network-Practice/Images/40449e5a-f83a-4ca0-a639-dc8bd0334350.jpg,\"[{'label': 'uvula', 'coordinates': {'x': 730, 'y': 209, 'width': 76, 'height': 82}, 'type': 'rectangle'},{'label': 'tonsil', 'coordinates': {'x': 624, 'y': 204, 'width': 102, 'height': 78}, 'type': 'rectangle'},{'label': 'tonsil', 'coordinates': {'x': 830, 'y': 199, 'width': 100, 'height': 69}, 'type': 'rectangle'}]\"\n",
      "/Users/samuelfolledo/Desktop/Convolutional-Neural-Network-Practice/Images/4099aaf2-2253-47c2-8717-f55204b3dbf3.jpg,\"[{'label': 'uvula', 'coordinates': {'x': 332, 'y': 489, 'width': 109, 'height': 131}, 'type': 'rectangle'},{'label': 'tonsil', 'coordinates': {'x': 171, 'y': 532, 'width': 133, 'height': 254}, 'type': 'rectangle'},{'label': 'tonsil', 'coordinates': {'x': 488, 'y': 517, 'width': 160, 'height': 256}, 'type': 'rectangle'},{'label': 'pharynx', 'coordinates': {'x': 342, 'y': 650, 'width': 272, 'height': 112}, 'type': 'rectangle'},{'label': 'tongue', 'coordinates': {'x': 426, 'y': 1067, 'width': 835, 'height': 779}, 'type': 'rectangle'}]\"\n",
      "/Users/samuelfolledo/Desktop/Convolutional-Neural-Network-Practice/Images/40f784f1-c356-4a9b-81ec-92e56618dd0a.jpg,\"[{'label': 'uvula', 'coordinates': {'x': 698, 'y': 364, 'width': 76, 'height': 84}, 'type': 'rectangle'},{'label': 'tonsil', 'coordinates': {'x': 553, 'y': 408, 'width': 94, 'height': 165}, 'type': 'rectangle'},{'label': 'tonsil', 'coordinates': {'x': 836, 'y': 404, 'width': 136, 'height': 191}, 'type': 'rectangle'},{'label': 'pharynx', 'coordinates': {'x': 698, 'y': 455, 'width': 208, 'height': 83}, 'type': 'rectangle'},{'label': 'tongue', 'coordinates': {'x': 697, 'y': 579, 'width': 495, 'height': 191}, 'type': 'rectangle'}]\"\n",
      "/Users/samuelfolledo/Desktop/Convolutional-Neural-Network-Practice/Images/41169299-b44e-4f62-b22a-2f1b8c476c2e.jpg,\"[{'label': 'uvula', 'coordinates': {'x': 230, 'y': 146, 'width': 51, 'height': 48}, 'type': 'rectangle'},{'label': 'tonsil', 'coordinates': {'x': 161, 'y': 153, 'width': 60, 'height': 70}, 'type': 'rectangle'},{'label': 'tonsil', 'coordinates': {'x': 314, 'y': 145, 'width': 79, 'height': 62}, 'type': 'rectangle'},{'label': 'tongue', 'coordinates': {'x': 256, 'y': 222, 'width': 257, 'height': 65}, 'type': 'rectangle'}]\"\n",
      "/Users/samuelfolledo/Desktop/Convolutional-Neural-Network-Practice/Images/41ac9f83-40de-4955-b1bd-b2d6fb27760b.jpg,\"[{'label': 'tongue', 'coordinates': {'x': 476, 'y': 919, 'width': 579, 'height': 515}, 'type': 'rectangle'}]\"\n",
      "/Users/samuelfolledo/Desktop/Convolutional-Neural-Network-Practice/Images/42913123-2a6c-402e-a072-ba2d91542e43.jpg,\"[{'label': 'uvula', 'coordinates': {'x': 689, 'y': 763, 'width': 118, 'height': 96}, 'type': 'rectangle'},{'label': 'tonsil', 'coordinates': {'x': 552, 'y': 836, 'width': 168, 'height': 270}, 'type': 'rectangle'},{'label': 'tonsil', 'coordinates': {'x': 821, 'y': 815, 'width': 147, 'height': 248}, 'type': 'rectangle'},{'label': 'tongue', 'coordinates': {'x': 660, 'y': 1122, 'width': 449, 'height': 296}, 'type': 'rectangle'},{'label': 'pharynx', 'coordinates': {'x': 696, 'y': 937, 'width': 168, 'height': 93}, 'type': 'rectangle'}]\"\n",
      "/Users/samuelfolledo/Desktop/Convolutional-Neural-Network-Practice/Images/430e85e2-208c-4229-b348-8120034942d6.jpg,\"[{'label': 'uvula', 'coordinates': {'x': 930, 'y': 381, 'width': 78, 'height': 98}, 'type': 'rectangle'},{'label': 'tonsil', 'coordinates': {'x': 822, 'y': 420, 'width': 105, 'height': 140}, 'type': 'rectangle'},{'label': 'tonsil', 'coordinates': {'x': 1046, 'y': 435, 'width': 121, 'height': 134}, 'type': 'rectangle'}]\"\n",
      "/Users/samuelfolledo/Desktop/Convolutional-Neural-Network-Practice/Images/443da38c-04e6-4dce-9c08-f5311c967e9e.jpg,\"[{'label': 'uvula', 'coordinates': {'x': 323, 'y': 212, 'width': 56, 'height': 50}, 'type': 'rectangle'}]\"\n",
      "/Users/samuelfolledo/Desktop/Convolutional-Neural-Network-Practice/Images/44b21dab-f271-4130-a8b4-e3fb8aa3acb4.jpg,\"[{'label': 'uvula', 'coordinates': {'x': 695, 'y': 359, 'width': 88, 'height': 98}, 'type': 'rectangle'},{'label': 'tonsil', 'coordinates': {'x': 559, 'y': 391, 'width': 91, 'height': 156}, 'type': 'rectangle'},{'label': 'tonsil', 'coordinates': {'x': 840, 'y': 393, 'width': 139, 'height': 150}, 'type': 'rectangle'},{'label': 'pharynx', 'coordinates': {'x': 698, 'y': 440, 'width': 193, 'height': 62}, 'type': 'rectangle'},{'label': 'tongue', 'coordinates': {'x': 698, 'y': 575, 'width': 538, 'height': 187}, 'type': 'rectangle'}]\"\n",
      "/Users/samuelfolledo/Desktop/Convolutional-Neural-Network-Practice/Images/45097eed-b55c-45c8-a466-dc07842c86b9.jpg,\"[{'label': 'tonsil', 'coordinates': {'x': 168, 'y': 233, 'width': 65, 'height': 91}, 'type': 'rectangle'},{'label': 'tonsil', 'coordinates': {'x': 305, 'y': 231, 'width': 74, 'height': 84}, 'type': 'rectangle'},{'label': 'pharynx', 'coordinates': {'x': 238, 'y': 262, 'width': 102, 'height': 41}, 'type': 'rectangle'}]\"\n",
      "/Users/samuelfolledo/Desktop/Convolutional-Neural-Network-Practice/Images/44b3ecb8-5450-41cf-bb84-fa73d29c0225.jpg,\"[{'label': 'pharynx', 'coordinates': {'x': 442, 'y': 410, 'width': 159, 'height': 72}, 'type': 'rectangle'},{'label': 'tonsil', 'coordinates': {'x': 330, 'y': 371, 'width': 132, 'height': 149}, 'type': 'rectangle'}]\"\n",
      "/Users/samuelfolledo/Desktop/Convolutional-Neural-Network-Practice/Images/4ab57ff8-4f82-4094-a12d-0fcd519b7c2d.jpg,\"[{'label': 'uvula', 'coordinates': {'x': 99, 'y': 78, 'width': 24, 'height': 25}, 'type': 'rectangle'},{'label': 'tonsil', 'coordinates': {'x': 75, 'y': 77, 'width': 29, 'height': 33}, 'type': 'rectangle'},{'label': 'tonsil', 'coordinates': {'x': 121, 'y': 71, 'width': 28, 'height': 30}, 'type': 'rectangle'},{'label': 'tongue', 'coordinates': {'x': 94, 'y': 128, 'width': 115, 'height': 70}, 'type': 'rectangle'}]\"\n",
      "/Users/samuelfolledo/Desktop/Convolutional-Neural-Network-Practice/Images/4bf8cb92-500c-43b5-b5e1-27cc032c1b87.jpg,\"[{'label': 'uvula', 'coordinates': {'x': 718, 'y': 279, 'width': 73, 'height': 80}, 'type': 'rectangle'},{'label': 'tongue', 'coordinates': {'x': 711, 'y': 467, 'width': 536, 'height': 271}, 'type': 'rectangle'}]\"\n",
      "/Users/samuelfolledo/Desktop/Convolutional-Neural-Network-Practice/Images/4ce95d4a-06d4-411e-bd63-9c951f8d5850.jpg,\"[{'label': 'uvula', 'coordinates': {'x': 786, 'y': 284, 'width': 81, 'height': 79}, 'type': 'rectangle'},{'label': 'tonsil', 'coordinates': {'x': 644, 'y': 344, 'width': 115, 'height': 173}, 'type': 'rectangle'},{'label': 'tonsil', 'coordinates': {'x': 893, 'y': 338, 'width': 106, 'height': 164}, 'type': 'rectangle'},{'label': 'pharynx', 'coordinates': {'x': 784, 'y': 386, 'width': 163, 'height': 71}, 'type': 'rectangle'}]\"\n",
      "/Users/samuelfolledo/Desktop/Convolutional-Neural-Network-Practice/Images/4f2107d1-66ff-4f35-98bc-7fc23705ff28.jpg,\"[{'label': 'uvula', 'coordinates': {'x': 627, 'y': 309, 'width': 138, 'height': 87}, 'type': 'rectangle'},{'label': 'tonsil', 'coordinates': {'x': 458, 'y': 452, 'width': 207, 'height': 336}, 'type': 'rectangle'},{'label': 'tonsil', 'coordinates': {'x': 807, 'y': 419, 'width': 236, 'height': 268}, 'type': 'rectangle'},{'label': 'tongue', 'coordinates': {'x': 560, 'y': 738, 'width': 800, 'height': 376}, 'type': 'rectangle'}]\"\n",
      "/Users/samuelfolledo/Desktop/Convolutional-Neural-Network-Practice/Images/4f580f48-3365-4100-9daa-8aca7ee9bdd2.jpg,\"[{'label': 'uvula', 'coordinates': {'x': 85, 'y': 34, 'width': 31, 'height': 28}, 'type': 'rectangle'},{'label': 'tonsil', 'coordinates': {'x': 39, 'y': 65, 'width': 39, 'height': 61}, 'type': 'rectangle'},{'label': 'tonsil', 'coordinates': {'x': 125, 'y': 58, 'width': 38, 'height': 44}, 'type': 'rectangle'}]\"\n",
      "/Users/samuelfolledo/Desktop/Convolutional-Neural-Network-Practice/Images/4fa5abd6-4096-4fb2-97e3-956dc0179242.jpg,\"[{'label': 'uvula', 'coordinates': {'x': 153, 'y': 128, 'width': 65, 'height': 53}, 'type': 'rectangle'},{'label': 'tonsil', 'coordinates': {'x': 71, 'y': 178, 'width': 93, 'height': 103}, 'type': 'rectangle'},{'label': 'tonsil', 'coordinates': {'x': 242, 'y': 184, 'width': 93, 'height': 123}, 'type': 'rectangle'},{'label': 'pharynx', 'coordinates': {'x': 160, 'y': 210, 'width': 128, 'height': 61}, 'type': 'rectangle'},{'label': 'tongue', 'coordinates': {'x': 149, 'y': 254, 'width': 297, 'height': 43}, 'type': 'rectangle'}]\"\n",
      "/Users/samuelfolledo/Desktop/Convolutional-Neural-Network-Practice/Images/53ff6e43-384c-45a8-8ce3-8b86b8cc01ce.jpg,\"[{'label': 'uvula', 'coordinates': {'x': 544, 'y': 285, 'width': 115, 'height': 93}, 'type': 'rectangle'},{'label': 'tonsil', 'coordinates': {'x': 401, 'y': 354, 'width': 120, 'height': 158}, 'type': 'rectangle'},{'label': 'tonsil', 'coordinates': {'x': 677, 'y': 334, 'width': 106, 'height': 138}, 'type': 'rectangle'}]\"\n",
      "/Users/samuelfolledo/Desktop/Convolutional-Neural-Network-Practice/Images/54af9658-a325-4a2b-b98f-20a5325d5d20.jpg,\"[{'label': 'uvula', 'coordinates': {'x': 488, 'y': 723, 'width': 91, 'height': 85}, 'type': 'rectangle'}]\"\n",
      "/Users/samuelfolledo/Desktop/Convolutional-Neural-Network-Practice/Images/560ed965-2790-4e02-af56-1c84fa271569.jpg,\"[{'label': 'uvula', 'coordinates': {'x': 457, 'y': 285, 'width': 140, 'height': 139}, 'type': 'rectangle'},{'label': 'pharynx', 'coordinates': {'x': 481, 'y': 389, 'width': 343, 'height': 76}, 'type': 'rectangle'},{'label': 'tongue', 'coordinates': {'x': 462, 'y': 533, 'width': 649, 'height': 229}, 'type': 'rectangle'},{'label': 'tonsil', 'coordinates': {'x': 282, 'y': 305, 'width': 142, 'height': 216}, 'type': 'rectangle'},{'label': 'tonsil', 'coordinates': {'x': 658, 'y': 292, 'width': 167, 'height': 223}, 'type': 'rectangle'}]\"\n",
      "/Users/samuelfolledo/Desktop/Convolutional-Neural-Network-Practice/Images/57291a7f-14d2-47ce-9028-3acf4640f006.jpg,\"[{'label': 'uvula', 'coordinates': {'x': 378, 'y': 504, 'width': 99, 'height': 101}, 'type': 'rectangle'},{'label': 'tonsil', 'coordinates': {'x': 242, 'y': 526, 'width': 125, 'height': 120}, 'type': 'rectangle'},{'label': 'tonsil', 'coordinates': {'x': 487, 'y': 502, 'width': 104, 'height': 99}, 'type': 'rectangle'},{'label': 'tongue', 'coordinates': {'x': 394, 'y': 837, 'width': 563, 'height': 550}, 'type': 'rectangle'}]\"\n",
      "/Users/samuelfolledo/Desktop/Convolutional-Neural-Network-Practice/Images/5b278616-8ef1-4b86-a2e0-997df3a758e9.jpg,\"[{'label': 'uvula', 'coordinates': {'x': 278, 'y': 95, 'width': 51, 'height': 52}, 'type': 'rectangle'},{'label': 'tonsil', 'coordinates': {'x': 210, 'y': 138, 'width': 68, 'height': 129}, 'type': 'rectangle'},{'label': 'tonsil', 'coordinates': {'x': 370, 'y': 138, 'width': 87, 'height': 134}, 'type': 'rectangle'},{'label': 'tongue', 'coordinates': {'x': 279, 'y': 280, 'width': 294, 'height': 139}, 'type': 'rectangle'}]\"\n",
      "/Users/samuelfolledo/Desktop/Convolutional-Neural-Network-Practice/Images/58e0787c-b258-40d6-921c-f3e3ff45ed18.jpg,\"[{'label': 'tongue', 'coordinates': {'x': 503, 'y': 1107, 'width': 494, 'height': 544}, 'type': 'rectangle'}]\"\n",
      "/Users/samuelfolledo/Desktop/Convolutional-Neural-Network-Practice/Images/593b99fa-1e20-4405-8316-db30b87c90f6.jpg,\"[{'label': 'uvula', 'coordinates': {'x': 281, 'y': 94, 'width': 52, 'height': 62}, 'type': 'rectangle'},{'label': 'tonsil', 'coordinates': {'x': 207, 'y': 136, 'width': 74, 'height': 143}, 'type': 'rectangle'},{'label': 'tonsil', 'coordinates': {'x': 361, 'y': 131, 'width': 83, 'height': 138}, 'type': 'rectangle'},{'label': 'pharynx', 'coordinates': {'x': 287, 'y': 191, 'width': 100, 'height': 44}, 'type': 'rectangle'},{'label': 'tongue', 'coordinates': {'x': 286, 'y': 281, 'width': 277, 'height': 137}, 'type': 'rectangle'}]\"\n",
      "/Users/samuelfolledo/Desktop/Convolutional-Neural-Network-Practice/Images/5b75e61e-784d-4090-ab47-5ae0ead25318.jpg,\"[{'label': 'tongue', 'coordinates': {'x': 403, 'y': 513, 'width': 298, 'height': 239}, 'type': 'rectangle'}]\"\n",
      "/Users/samuelfolledo/Desktop/Convolutional-Neural-Network-Practice/Images/5c876bde-0d24-4fdf-9473-2ac21e139693.jpg,\"[{'label': 'uvula', 'coordinates': {'x': 378, 'y': 526, 'width': 115, 'height': 91}, 'type': 'rectangle'},{'label': 'tonsil', 'coordinates': {'x': 243, 'y': 553, 'width': 126, 'height': 168}, 'type': 'rectangle'},{'label': 'tonsil', 'coordinates': {'x': 480, 'y': 551, 'width': 111, 'height': 100}, 'type': 'rectangle'},{'label': 'tongue', 'coordinates': {'x': 355, 'y': 743, 'width': 430, 'height': 251}, 'type': 'rectangle'}]\"\n",
      "/Users/samuelfolledo/Desktop/Convolutional-Neural-Network-Practice/Images/5c1ff011-e0bc-4954-adc1-d5e0fbd71fac.jpg,\"[{'label': 'tongue', 'coordinates': {'x': 360, 'y': 1111, 'width': 517, 'height': 440}, 'type': 'rectangle'}]\"\n",
      "/Users/samuelfolledo/Desktop/Convolutional-Neural-Network-Practice/Images/5da3fee8-745f-4ec6-af43-b6049a2088f7.jpg,\"[{'label': 'uvula', 'coordinates': {'x': 375, 'y': 513, 'width': 93, 'height': 115}, 'type': 'rectangle'},{'label': 'tonsil', 'coordinates': {'x': 232, 'y': 546, 'width': 123, 'height': 203}, 'type': 'rectangle'},{'label': 'tonsil', 'coordinates': {'x': 520, 'y': 548, 'width': 155, 'height': 163}, 'type': 'rectangle'},{'label': 'pharynx', 'coordinates': {'x': 368, 'y': 634, 'width': 267, 'height': 101}, 'type': 'rectangle'},{'label': 'tongue', 'coordinates': {'x': 448, 'y': 1003, 'width': 790, 'height': 662}, 'type': 'rectangle'}]\"\n",
      "/Users/samuelfolledo/Desktop/Convolutional-Neural-Network-Practice/Images/5ded444e-181e-41d1-9a23-3ca8ff888205.jpg,\"[{'label': 'uvula', 'coordinates': {'x': 392, 'y': 676, 'width': 165, 'height': 141}, 'type': 'rectangle'},{'label': 'tonsil', 'coordinates': {'x': 155, 'y': 779, 'width': 197, 'height': 203}, 'type': 'rectangle'},{'label': 'tonsil', 'coordinates': {'x': 575, 'y': 753, 'width': 165, 'height': 206}, 'type': 'rectangle'},{'label': 'tongue', 'coordinates': {'x': 406, 'y': 1162, 'width': 631, 'height': 462}, 'type': 'rectangle'}]\"\n",
      "/Users/samuelfolledo/Desktop/Convolutional-Neural-Network-Practice/Images/5ea05584-31f0-4ecf-a19d-265de8e17e55.jpg,\"[{'label': 'uvula', 'coordinates': {'x': 218, 'y': 204, 'width': 53, 'height': 73}, 'type': 'rectangle'},{'label': 'tonsil', 'coordinates': {'x': 156, 'y': 205, 'width': 61, 'height': 91}, 'type': 'rectangle'},{'label': 'tonsil', 'coordinates': {'x': 273, 'y': 202, 'width': 45, 'height': 92}, 'type': 'rectangle'},{'label': 'tongue', 'coordinates': {'x': 204, 'y': 280, 'width': 172, 'height': 56}, 'type': 'rectangle'}]\"\n",
      "/Users/samuelfolledo/Desktop/Convolutional-Neural-Network-Practice/Images/5ebc003b-652f-462f-82fb-05689d973ab0.jpg,\"[{'label': 'tongue', 'coordinates': {'x': 673, 'y': 513, 'width': 436, 'height': 143}, 'type': 'rectangle'}]\"\n",
      "/Users/samuelfolledo/Desktop/Convolutional-Neural-Network-Practice/Images/5f741a7f-bbb0-4ee6-bf90-97a67b062774.jpg,\"[{'label': 'uvula', 'coordinates': {'x': 217, 'y': 120, 'width': 73, 'height': 97}, 'type': 'rectangle'},{'label': 'tonsil', 'coordinates': {'x': 145, 'y': 123, 'width': 67, 'height': 106}, 'type': 'rectangle'},{'label': 'tonsil', 'coordinates': {'x': 303, 'y': 133, 'width': 87, 'height': 126}, 'type': 'rectangle'},{'label': 'tongue', 'coordinates': {'x': 225, 'y': 215, 'width': 294, 'height': 70}, 'type': 'rectangle'}]\"\n",
      "/Users/samuelfolledo/Desktop/Convolutional-Neural-Network-Practice/Images/60b001fa-6e47-425d-ae1d-04c167b99fd1.jpg,\"[{'label': 'pharynx', 'coordinates': {'x': 487, 'y': 561, 'width': 111, 'height': 138}, 'type': 'rectangle'},{'label': 'tongue', 'coordinates': {'x': 498, 'y': 683, 'width': 320, 'height': 173}, 'type': 'rectangle'}]\"\n",
      "/Users/samuelfolledo/Desktop/Convolutional-Neural-Network-Practice/Images/61c86776-40ea-4700-8bcf-968a95f227db.jpg,\"[{'label': 'uvula', 'coordinates': {'x': 197, 'y': 154, 'width': 108, 'height': 98}, 'type': 'rectangle'},{'label': 'tonsil', 'coordinates': {'x': 337, 'y': 222, 'width': 166, 'height': 253}, 'type': 'rectangle'},{'label': 'tonsil', 'coordinates': {'x': 66, 'y': 227, 'width': 114, 'height': 276}, 'type': 'rectangle'},{'label': 'pharynx', 'coordinates': {'x': 200, 'y': 324, 'width': 247, 'height': 123}, 'type': 'rectangle'},{'label': 'tongue', 'coordinates': {'x': 250, 'y': 432, 'width': 500, 'height': 135}, 'type': 'rectangle'}]\"\n",
      "/Users/samuelfolledo/Desktop/Convolutional-Neural-Network-Practice/Images/63cf74f9-46f5-45fa-aef0-99db9b6eb18c.jpg,\"[{'label': 'tongue', 'coordinates': {'x': 151, 'y': 177, 'width': 158, 'height': 91}, 'type': 'rectangle'}]\"\n",
      "/Users/samuelfolledo/Desktop/Convolutional-Neural-Network-Practice/Images/63d51ea7-bd0c-4206-a9a8-56146905a608.jpg,\"[{'label': 'uvula', 'coordinates': {'x': 99, 'y': 99, 'width': 27, 'height': 32}, 'type': 'rectangle'},{'label': 'tonsil', 'coordinates': {'x': 60, 'y': 101, 'width': 36, 'height': 46}, 'type': 'rectangle'},{'label': 'tonsil', 'coordinates': {'x': 134, 'y': 103, 'width': 36, 'height': 36}, 'type': 'rectangle'}]\"\n",
      "/Users/samuelfolledo/Desktop/Convolutional-Neural-Network-Practice/Images/65cf6221-aeb0-41a7-b754-fa75da2d55f6.jpg,\"[{'label': 'pharynx', 'coordinates': {'x': 119, 'y': 125, 'width': 124, 'height': 83}, 'type': 'rectangle'},{'label': 'uvula', 'coordinates': {'x': 121, 'y': 94, 'width': 49, 'height': 45}, 'type': 'rectangle'},{'label': 'tonsil', 'coordinates': {'x': 59, 'y': 119, 'width': 54, 'height': 76}, 'type': 'rectangle'},{'label': 'tonsil', 'coordinates': {'x': 177, 'y': 106, 'width': 50, 'height': 48}, 'type': 'rectangle'}]\"\n",
      "/Users/samuelfolledo/Desktop/Convolutional-Neural-Network-Practice/Images/694f3264-dc4d-433a-86b1-9c4b2e9c3e27.jpg,\"[{'label': 'pharynx', 'coordinates': {'x': 306, 'y': 494, 'width': 244, 'height': 148}, 'type': 'rectangle'},{'label': 'uvula', 'coordinates': {'x': 336, 'y': 472, 'width': 96, 'height': 123}, 'type': 'rectangle'},{'label': 'tonsil', 'coordinates': {'x': 187, 'y': 502, 'width': 128, 'height': 152}, 'type': 'rectangle'},{'label': 'tonsil', 'coordinates': {'x': 426, 'y': 484, 'width': 88, 'height': 93}, 'type': 'rectangle'},{'label': 'tongue', 'coordinates': {'x': 326, 'y': 787, 'width': 502, 'height': 486}, 'type': 'rectangle'}]\"\n",
      "/Users/samuelfolledo/Desktop/Convolutional-Neural-Network-Practice/Images/f4d9ba29-cbe1-4e02-b8f6-d8155210b02f.jpg,\"[{'label': 'pharynx', 'coordinates': {'x': 401, 'y': 533, 'width': 200, 'height': 148}, 'type': 'rectangle'},{'label': 'uvula', 'coordinates': {'x': 407, 'y': 505, 'width': 109, 'height': 131}, 'type': 'rectangle'},{'label': 'tonsil', 'coordinates': {'x': 263, 'y': 536, 'width': 152, 'height': 165}, 'type': 'rectangle'},{'label': 'tonsil', 'coordinates': {'x': 516, 'y': 517, 'width': 109, 'height': 128}, 'type': 'rectangle'},{'label': 'tongue', 'coordinates': {'x': 414, 'y': 808, 'width': 507, 'height': 427}, 'type': 'rectangle'}]\"\n",
      "/Users/samuelfolledo/Desktop/Convolutional-Neural-Network-Practice/Images/f85d7aae-17af-4047-a777-a26d9b69a240.jpg,\"[{'label': 'uvula', 'coordinates': {'x': 75, 'y': 47, 'width': 25, 'height': 26}, 'type': 'rectangle'},{'label': 'tonsil', 'coordinates': {'x': 41, 'y': 62, 'width': 39, 'height': 43}, 'type': 'rectangle'},{'label': 'tonsil', 'coordinates': {'x': 113, 'y': 66, 'width': 34, 'height': 53}, 'type': 'rectangle'},{'label': 'pharynx', 'coordinates': {'x': 75, 'y': 79, 'width': 43, 'height': 20}, 'type': 'rectangle'}]\"\n",
      "/Users/samuelfolledo/Desktop/Convolutional-Neural-Network-Practice/Images/f873a871-b804-4095-b23b-0b2576796a9e.jpg,\"[{'label': 'uvula', 'coordinates': {'x': 459, 'y': 477, 'width': 101, 'height': 117}, 'type': 'rectangle'},{'label': 'tonsil', 'coordinates': {'x': 304, 'y': 524, 'width': 155, 'height': 200}, 'type': 'rectangle'},{'label': 'tonsil', 'coordinates': {'x': 571, 'y': 505, 'width': 96, 'height': 152}, 'type': 'rectangle'},{'label': 'tongue', 'coordinates': {'x': 466, 'y': 813, 'width': 574, 'height': 464}, 'type': 'rectangle'}]\"\n",
      "/Users/samuelfolledo/Desktop/Convolutional-Neural-Network-Practice/Images/f9bfec77-22dd-4525-8a18-d5f32dd806de.jpg,\"[{'label': 'uvula', 'coordinates': {'x': 192, 'y': 141, 'width': 127, 'height': 125}, 'type': 'rectangle'},{'label': 'tonsil', 'coordinates': {'x': 335, 'y': 211, 'width': 163, 'height': 272}, 'type': 'rectangle'},{'label': 'tonsil', 'coordinates': {'x': 64, 'y': 211, 'width': 95, 'height': 289}, 'type': 'rectangle'},{'label': 'pharynx', 'coordinates': {'x': 199, 'y': 308, 'width': 241, 'height': 158}, 'type': 'rectangle'}]\"\n",
      "/Users/samuelfolledo/Desktop/Convolutional-Neural-Network-Practice/Images/fa4b4c49-4850-45c5-92eb-57a7e3b6ae11.jpg,\"[{'label': 'pharynx', 'coordinates': {'x': 318, 'y': 471, 'width': 239, 'height': 156}, 'type': 'rectangle'},{'label': 'uvula', 'coordinates': {'x': 350, 'y': 450, 'width': 91, 'height': 123}, 'type': 'rectangle'},{'label': 'tonsil', 'coordinates': {'x': 208, 'y': 474, 'width': 149, 'height': 155}, 'type': 'rectangle'},{'label': 'tonsil', 'coordinates': {'x': 456, 'y': 446, 'width': 107, 'height': 104}, 'type': 'rectangle'},{'label': 'tongue', 'coordinates': {'x': 370, 'y': 745, 'width': 462, 'height': 467}, 'type': 'rectangle'}]\"\n",
      "/Users/samuelfolledo/Desktop/Convolutional-Neural-Network-Practice/Images/ea616519-3359-46bc-8de9-c1397479f643.jpg,\"[{'label': 'uvula', 'coordinates': {'x': 370, 'y': 516, 'width': 83, 'height': 115}, 'type': 'rectangle'},{'label': 'tonsil', 'coordinates': {'x': 219, 'y': 574, 'width': 144, 'height': 190}, 'type': 'rectangle'},{'label': 'tonsil', 'coordinates': {'x': 484, 'y': 550, 'width': 104, 'height': 152}, 'type': 'rectangle'},{'label': 'tongue', 'coordinates': {'x': 404, 'y': 889, 'width': 510, 'height': 494}, 'type': 'rectangle'}]\"\n",
      "/Users/samuelfolledo/Desktop/Convolutional-Neural-Network-Practice/Images/e6670909-6728-4a60-8bc8-251ba03a3994.jpg,\"[{'label': 'uvula', 'coordinates': {'x': 359, 'y': 557, 'width': 115, 'height': 128}, 'type': 'rectangle'},{'label': 'tonsil', 'coordinates': {'x': 208, 'y': 577, 'width': 165, 'height': 248}, 'type': 'rectangle'},{'label': 'tonsil', 'coordinates': {'x': 514, 'y': 566, 'width': 157, 'height': 184}, 'type': 'rectangle'},{'label': 'tongue', 'coordinates': {'x': 432, 'y': 1048, 'width': 779, 'height': 683}, 'type': 'rectangle'}]\"\n",
      "/Users/samuelfolledo/Desktop/Convolutional-Neural-Network-Practice/Images/e6261455-d1f3-42c0-a10e-ab2cbb6d1d22.jpg,\"[{'label': 'uvula', 'coordinates': {'x': 479, 'y': 693, 'width': 77, 'height': 91}, 'type': 'rectangle'},{'label': 'tonsil', 'coordinates': {'x': 359, 'y': 713, 'width': 109, 'height': 115}, 'type': 'rectangle'},{'label': 'tonsil', 'coordinates': {'x': 575, 'y': 717, 'width': 104, 'height': 117}, 'type': 'rectangle'}]\"\n",
      "/Users/samuelfolledo/Desktop/Convolutional-Neural-Network-Practice/Images/e68bb598-7911-4b95-bd22-38548be38425.jpg,\"[{'label': 'uvula', 'coordinates': {'x': 113, 'y': 163, 'width': 28, 'height': 32}, 'type': 'rectangle'},{'label': 'tonsil', 'coordinates': {'x': 80, 'y': 172, 'width': 29, 'height': 44}, 'type': 'rectangle'},{'label': 'tonsil', 'coordinates': {'x': 143, 'y': 172, 'width': 23, 'height': 39}, 'type': 'rectangle'},{'label': 'tongue', 'coordinates': {'x': 105, 'y': 226, 'width': 71, 'height': 61}, 'type': 'rectangle'}]\"\n",
      "/Users/samuelfolledo/Desktop/Convolutional-Neural-Network-Practice/Images/e61c1f4c-5d13-4bf6-8f09-f8c1b80f0ba6.jpg,\"[{'label': 'uvula', 'coordinates': {'x': 715, 'y': 275, 'width': 85, 'height': 94}, 'type': 'rectangle'},{'label': 'tonsil', 'coordinates': {'x': 601, 'y': 272, 'width': 109, 'height': 101}, 'type': 'rectangle'},{'label': 'tonsil', 'coordinates': {'x': 825, 'y': 269, 'width': 87, 'height': 95}, 'type': 'rectangle'},{'label': 'tongue', 'coordinates': {'x': 734, 'y': 436, 'width': 520, 'height': 228}, 'type': 'rectangle'}]\"\n",
      "/Users/samuelfolledo/Desktop/Convolutional-Neural-Network-Practice/Images/e4fed272-62de-4266-aa8a-507ba85215dd.jpg,\"[{'label': 'tongue', 'coordinates': {'x': 342, 'y': 545, 'width': 438, 'height': 603}, 'type': 'rectangle'},{'label': 'uvula', 'coordinates': {'x': 346, 'y': 180, 'width': 89, 'height': 70}, 'type': 'rectangle'},{'label': 'tonsil', 'coordinates': {'x': 222, 'y': 185, 'width': 108, 'height': 134}, 'type': 'rectangle'},{'label': 'tonsil', 'coordinates': {'x': 437, 'y': 186, 'width': 76, 'height': 134}, 'type': 'rectangle'}]\"\n",
      "/Users/samuelfolledo/Desktop/Convolutional-Neural-Network-Practice/Images/e3ba898c-5624-413a-99bd-a206c0984225.jpg,\"[{'label': 'tonsil', 'coordinates': {'x': 104, 'y': 174, 'width': 79, 'height': 119}, 'type': 'rectangle'}]\"\n",
      "/Users/samuelfolledo/Desktop/Convolutional-Neural-Network-Practice/Images/e38fb583-c6aa-489f-81b5-4bc87504a033.jpg,\"[{'label': 'uvula', 'coordinates': {'x': 371, 'y': 513, 'width': 101, 'height': 125}, 'type': 'rectangle'},{'label': 'tonsil', 'coordinates': {'x': 207, 'y': 554, 'width': 125, 'height': 181}, 'type': 'rectangle'},{'label': 'tonsil', 'coordinates': {'x': 486, 'y': 524, 'width': 85, 'height': 163}, 'type': 'rectangle'},{'label': 'tongue', 'coordinates': {'x': 407, 'y': 879, 'width': 483, 'height': 494}, 'type': 'rectangle'}]\"\n",
      "/Users/samuelfolledo/Desktop/Convolutional-Neural-Network-Practice/Images/c350dda9-5907-447c-b49b-1a29f994ce18.jpg,\"[{'label': 'uvula', 'coordinates': {'x': 712, 'y': 249, 'width': 72, 'height': 80}, 'type': 'rectangle'},{'label': 'tonsil', 'coordinates': {'x': 616, 'y': 254, 'width': 100, 'height': 74}, 'type': 'rectangle'},{'label': 'tonsil', 'coordinates': {'x': 792, 'y': 249, 'width': 85, 'height': 64}, 'type': 'rectangle'}]\"\n",
      "/Users/samuelfolledo/Desktop/Convolutional-Neural-Network-Practice/Images/b02b6480-6d59-4505-b671-ed32ba5dd5b6.jpg,\"[{'label': 'uvula', 'coordinates': {'x': 451, 'y': 472, 'width': 101, 'height': 128}, 'type': 'rectangle'},{'label': 'tonsil', 'coordinates': {'x': 282, 'y': 532, 'width': 200, 'height': 206}, 'type': 'rectangle'},{'label': 'tonsil', 'coordinates': {'x': 570, 'y': 502, 'width': 93, 'height': 157}, 'type': 'rectangle'},{'label': 'tongue', 'coordinates': {'x': 483, 'y': 827, 'width': 539, 'height': 480}, 'type': 'rectangle'}]\"\n",
      "/Users/samuelfolledo/Desktop/Convolutional-Neural-Network-Practice/Images/af605de3-39a8-413c-bb4b-25efe9ea4137.jpg,\"[{'label': 'uvula', 'coordinates': {'x': 945, 'y': 407, 'width': 91, 'height': 89}, 'type': 'rectangle'},{'label': 'tonsil', 'coordinates': {'x': 826, 'y': 456, 'width': 111, 'height': 193}, 'type': 'rectangle'},{'label': 'tonsil', 'coordinates': {'x': 1065, 'y': 480, 'width': 127, 'height': 228}, 'type': 'rectangle'}]\"\n",
      "/Users/samuelfolledo/Desktop/Convolutional-Neural-Network-Practice/Images/aeca6c2b-4a2a-4380-9f41-f4bcf74073bb.jpg,\"[{'label': 'uvula', 'coordinates': {'x': 516, 'y': 280, 'width': 147, 'height': 152}, 'type': 'rectangle'},{'label': 'tonsil', 'coordinates': {'x': 347, 'y': 303, 'width': 178, 'height': 294}, 'type': 'rectangle'},{'label': 'tonsil', 'coordinates': {'x': 714, 'y': 306, 'width': 136, 'height': 276}, 'type': 'rectangle'}]\"\n"
     ]
    }
   ],
   "source": [
    "import json\n",
    "import csv\n",
    "import os\n",
    "\n",
    "jsonFileName = \"annotations.json\"\n",
    "\n",
    "projectDirectory = os.getcwd() #get currrent working directory\n",
    "imagesDirectory = projectDirectory + \"/Images\" # directory path where all our labeled images is contained\n",
    "\n",
    "def main():\n",
    "    #read json\n",
    "    with open(jsonFileName) as f:\n",
    "        imagesDictionary = json.load(f)\n",
    "    \n",
    "    #create a csv to write on\n",
    "    with open('annotations.csv', 'w', newline='') as csvfile:\n",
    "        writer = csv.writer(csvfile, escapechar=' ', quoting=csv.QUOTE_NONE)\n",
    "        writer.writerow([\"path,annotations\"])\n",
    "        for imageDict in imagesDictionary: # start converting each images\n",
    "            # add (path) first column\n",
    "            imageName = imageDict[\"image\"]\n",
    "            imagePath = \"{}/{}\".format(imagesDirectory, imageName)\n",
    "            row = imagePath\n",
    "            \n",
    "            # START annotation (second column)\n",
    "            row += \",\\\"[\"\n",
    "            for index, labelDictionary in enumerate(imageDict[\"annotations\"]): # loop through each label in each images\n",
    "                labelDictionary[\"type\"] = \"rectangle\" #add shape type\n",
    "                labelString = json.dumps(labelDictionary) #converts dictionary into string\n",
    "                if labelDictionary[\"label\"] == \"tounge\": #handle mislabeled labels\n",
    "                    labelDictionary[\"label\"] = \"tongue\"\n",
    "                    labelString = json.dumps(labelDictionary)\n",
    "                singleQuotedString = labelString.replace('\"', \"\\'\") #turn labelString's double quotes to single quotes\n",
    "                row += singleQuotedString\n",
    "                if index != len(imageDict[\"annotations\"]) - 1: #while not the last annotation, add comma\n",
    "                    row += \",\"\n",
    "            row += \"]\\\"\"\n",
    "            print(row)\n",
    "            writer.writerow([row])\n",
    "\n",
    "if __name__ == \"__main__\":\n",
    "    main()"
   ]
  },
  {
   "cell_type": "code",
   "execution_count": null,
   "metadata": {},
   "outputs": [],
   "source": []
  },
  {
   "cell_type": "markdown",
   "metadata": {},
   "source": [
    "# Model Trainer for StrepScan\n",
    "\n",
    "Train and create an ML model for StrepScan using [Convolutional Neural Network](https://en.wikipedia.org/wiki/Convolutional_neural_network) class\n",
    "\n",
    "**Make sure we have the following files and directories:**\n",
    "- **annotations.json** - labeled images\n",
    "- **Images directory** - folder which contains all the labeled images"
   ]
  },
  {
   "cell_type": "code",
   "execution_count": 5,
   "metadata": {},
   "outputs": [],
   "source": [
    "import turicreate as tc"
   ]
  },
  {
   "cell_type": "markdown",
   "metadata": {},
   "source": [
    "## Load Images"
   ]
  },
  {
   "cell_type": "code",
   "execution_count": 6,
   "metadata": {},
   "outputs": [
    {
     "data": {
      "text/html": [
       "<div style=\"max-height:1000px;max-width:1500px;overflow:auto;\"><table frame=\"box\" rules=\"cols\">\n",
       "    <tr>\n",
       "        <th style=\"padding-left: 1em; padding-right: 1em; text-align: center\">path</th>\n",
       "        <th style=\"padding-left: 1em; padding-right: 1em; text-align: center\">image</th>\n",
       "    </tr>\n",
       "    <tr>\n",
       "        <td style=\"padding-left: 1em; padding-right: 1em; text-align: center; vertical-align: top\">/Users/samuelfolledo/Desk<br>top/Convolutional-Neu ...</td>\n",
       "        <td style=\"padding-left: 1em; padding-right: 1em; text-align: center; vertical-align: top\">Height: 500 Width: 375</td>\n",
       "    </tr>\n",
       "    <tr>\n",
       "        <td style=\"padding-left: 1em; padding-right: 1em; text-align: center; vertical-align: top\">/Users/samuelfolledo/Desk<br>top/Convolutional-Neu ...</td>\n",
       "        <td style=\"padding-left: 1em; padding-right: 1em; text-align: center; vertical-align: top\">Height: 843 Width: 1500</td>\n",
       "    </tr>\n",
       "    <tr>\n",
       "        <td style=\"padding-left: 1em; padding-right: 1em; text-align: center; vertical-align: top\">/Users/samuelfolledo/Desk<br>top/Convolutional-Neu ...</td>\n",
       "        <td style=\"padding-left: 1em; padding-right: 1em; text-align: center; vertical-align: top\">Height: 360 Width: 480</td>\n",
       "    </tr>\n",
       "    <tr>\n",
       "        <td style=\"padding-left: 1em; padding-right: 1em; text-align: center; vertical-align: top\">/Users/samuelfolledo/Desk<br>top/Convolutional-Neu ...</td>\n",
       "        <td style=\"padding-left: 1em; padding-right: 1em; text-align: center; vertical-align: top\">Height: 266 Width: 508</td>\n",
       "    </tr>\n",
       "    <tr>\n",
       "        <td style=\"padding-left: 1em; padding-right: 1em; text-align: center; vertical-align: top\">/Users/samuelfolledo/Desk<br>top/Convolutional-Neu ...</td>\n",
       "        <td style=\"padding-left: 1em; padding-right: 1em; text-align: center; vertical-align: top\">Height: 1390 Width: 1300</td>\n",
       "    </tr>\n",
       "    <tr>\n",
       "        <td style=\"padding-left: 1em; padding-right: 1em; text-align: center; vertical-align: top\">/Users/samuelfolledo/Desk<br>top/Convolutional-Neu ...</td>\n",
       "        <td style=\"padding-left: 1em; padding-right: 1em; text-align: center; vertical-align: top\">Height: 1500 Width: 1125</td>\n",
       "    </tr>\n",
       "    <tr>\n",
       "        <td style=\"padding-left: 1em; padding-right: 1em; text-align: center; vertical-align: top\">/Users/samuelfolledo/Desk<br>top/Convolutional-Neu ...</td>\n",
       "        <td style=\"padding-left: 1em; padding-right: 1em; text-align: center; vertical-align: top\">Height: 180 Width: 320</td>\n",
       "    </tr>\n",
       "    <tr>\n",
       "        <td style=\"padding-left: 1em; padding-right: 1em; text-align: center; vertical-align: top\">/Users/samuelfolledo/Desk<br>top/Convolutional-Neu ...</td>\n",
       "        <td style=\"padding-left: 1em; padding-right: 1em; text-align: center; vertical-align: top\">Height: 299 Width: 450</td>\n",
       "    </tr>\n",
       "    <tr>\n",
       "        <td style=\"padding-left: 1em; padding-right: 1em; text-align: center; vertical-align: top\">/Users/samuelfolledo/Desk<br>top/Convolutional-Neu ...</td>\n",
       "        <td style=\"padding-left: 1em; padding-right: 1em; text-align: center; vertical-align: top\">Height: 262 Width: 400</td>\n",
       "    </tr>\n",
       "    <tr>\n",
       "        <td style=\"padding-left: 1em; padding-right: 1em; text-align: center; vertical-align: top\">/Users/samuelfolledo/Desk<br>top/Convolutional-Neu ...</td>\n",
       "        <td style=\"padding-left: 1em; padding-right: 1em; text-align: center; vertical-align: top\">Height: 321 Width: 400</td>\n",
       "    </tr>\n",
       "</table>\n",
       "[278 rows x 2 columns]<br/>Note: Only the head of the SFrame is printed.<br/>You can use print_rows(num_rows=m, num_columns=n) to print more rows and columns.\n",
       "</div>"
      ],
      "text/plain": [
       "Columns:\n",
       "\tpath\tstr\n",
       "\timage\tImage\n",
       "\n",
       "Rows: 278\n",
       "\n",
       "Data:\n",
       "+-------------------------------+--------------------------+\n",
       "|              path             |          image           |\n",
       "+-------------------------------+--------------------------+\n",
       "| /Users/samuelfolledo/Deskt... |  Height: 500 Width: 375  |\n",
       "| /Users/samuelfolledo/Deskt... | Height: 843 Width: 1500  |\n",
       "| /Users/samuelfolledo/Deskt... |  Height: 360 Width: 480  |\n",
       "| /Users/samuelfolledo/Deskt... |  Height: 266 Width: 508  |\n",
       "| /Users/samuelfolledo/Deskt... | Height: 1390 Width: 1300 |\n",
       "| /Users/samuelfolledo/Deskt... | Height: 1500 Width: 1125 |\n",
       "| /Users/samuelfolledo/Deskt... |  Height: 180 Width: 320  |\n",
       "| /Users/samuelfolledo/Deskt... |  Height: 299 Width: 450  |\n",
       "| /Users/samuelfolledo/Deskt... |  Height: 262 Width: 400  |\n",
       "| /Users/samuelfolledo/Deskt... |  Height: 321 Width: 400  |\n",
       "+-------------------------------+--------------------------+\n",
       "[278 rows x 2 columns]\n",
       "Note: Only the head of the SFrame is printed.\n",
       "You can use print_rows(num_rows=m, num_columns=n) to print more rows and columns."
      ]
     },
     "execution_count": 6,
     "metadata": {},
     "output_type": "execute_result"
    }
   ],
   "source": [
    "images = tc.image_analysis.load_images(\"Images\")\n",
    "images"
   ]
  },
  {
   "cell_type": "code",
   "execution_count": 7,
   "metadata": {},
   "outputs": [],
   "source": [
    "# images.explore() # show all images"
   ]
  },
  {
   "cell_type": "markdown",
   "metadata": {},
   "source": [
    "## Load Annotations.csv"
   ]
  },
  {
   "cell_type": "code",
   "execution_count": 8,
   "metadata": {},
   "outputs": [
    {
     "data": {
      "text/html": [
       "<pre>Finished parsing file /Users/samuelfolledo/Desktop/Convolutional-Neural-Network-Practice/annotations.csv</pre>"
      ],
      "text/plain": [
       "Finished parsing file /Users/samuelfolledo/Desktop/Convolutional-Neural-Network-Practice/annotations.csv"
      ]
     },
     "metadata": {},
     "output_type": "display_data"
    },
    {
     "data": {
      "text/html": [
       "<pre>Parsing completed. Parsed 100 lines in 0.053046 secs.</pre>"
      ],
      "text/plain": [
       "Parsing completed. Parsed 100 lines in 0.053046 secs."
      ]
     },
     "metadata": {},
     "output_type": "display_data"
    },
    {
     "name": "stdout",
     "output_type": "stream",
     "text": [
      "------------------------------------------------------\n",
      "Inferred types from first 100 line(s) of file as \n",
      "column_type_hints=[str,list]\n",
      "If parsing fails due to incorrect types, you can correct\n",
      "the inferred type list above and pass it to read_csv in\n",
      "the column_type_hints argument\n",
      "------------------------------------------------------\n"
     ]
    },
    {
     "data": {
      "text/html": [
       "<pre>Finished parsing file /Users/samuelfolledo/Desktop/Convolutional-Neural-Network-Practice/annotations.csv</pre>"
      ],
      "text/plain": [
       "Finished parsing file /Users/samuelfolledo/Desktop/Convolutional-Neural-Network-Practice/annotations.csv"
      ]
     },
     "metadata": {},
     "output_type": "display_data"
    },
    {
     "data": {
      "text/html": [
       "<pre>Parsing completed. Parsed 278 lines in 0.016492 secs.</pre>"
      ],
      "text/plain": [
       "Parsing completed. Parsed 278 lines in 0.016492 secs."
      ]
     },
     "metadata": {},
     "output_type": "display_data"
    },
    {
     "data": {
      "text/html": [
       "<div style=\"max-height:1000px;max-width:1500px;overflow:auto;\"><table frame=\"box\" rules=\"cols\">\n",
       "    <tr>\n",
       "        <th style=\"padding-left: 1em; padding-right: 1em; text-align: center\">path</th>\n",
       "        <th style=\"padding-left: 1em; padding-right: 1em; text-align: center\">annotations</th>\n",
       "    </tr>\n",
       "    <tr>\n",
       "        <td style=\"padding-left: 1em; padding-right: 1em; text-align: center; vertical-align: top\">/Users/samuelfolledo/Desk<br>top/Convolutional-Neu ...</td>\n",
       "        <td style=\"padding-left: 1em; padding-right: 1em; text-align: center; vertical-align: top\">[{&#x27;label&#x27;: &#x27;tonsil&#x27;,<br>&#x27;coordinates&#x27;: {&#x27;x&#x27;:  ...</td>\n",
       "    </tr>\n",
       "    <tr>\n",
       "        <td style=\"padding-left: 1em; padding-right: 1em; text-align: center; vertical-align: top\">/Users/samuelfolledo/Desk<br>top/Convolutional-Neu ...</td>\n",
       "        <td style=\"padding-left: 1em; padding-right: 1em; text-align: center; vertical-align: top\">[{&#x27;label&#x27;: &#x27;tongue&#x27;,<br>&#x27;coordinates&#x27;: {&#x27;x&#x27;:  ...</td>\n",
       "    </tr>\n",
       "    <tr>\n",
       "        <td style=\"padding-left: 1em; padding-right: 1em; text-align: center; vertical-align: top\">/Users/samuelfolledo/Desk<br>top/Convolutional-Neu ...</td>\n",
       "        <td style=\"padding-left: 1em; padding-right: 1em; text-align: center; vertical-align: top\">[{&#x27;label&#x27;: &#x27;pharynx&#x27;,<br>&#x27;coordinates&#x27;: {&#x27;x&#x27;:  ...</td>\n",
       "    </tr>\n",
       "    <tr>\n",
       "        <td style=\"padding-left: 1em; padding-right: 1em; text-align: center; vertical-align: top\">/Users/samuelfolledo/Desk<br>top/Convolutional-Neu ...</td>\n",
       "        <td style=\"padding-left: 1em; padding-right: 1em; text-align: center; vertical-align: top\">[{&#x27;label&#x27;: &#x27;pharynx&#x27;,<br>&#x27;coordinates&#x27;: {&#x27;x&#x27;:  ...</td>\n",
       "    </tr>\n",
       "    <tr>\n",
       "        <td style=\"padding-left: 1em; padding-right: 1em; text-align: center; vertical-align: top\">/Users/samuelfolledo/Desk<br>top/Convolutional-Neu ...</td>\n",
       "        <td style=\"padding-left: 1em; padding-right: 1em; text-align: center; vertical-align: top\">[{&#x27;label&#x27;: &#x27;tongue&#x27;,<br>&#x27;coordinates&#x27;: {&#x27;x&#x27;:  ...</td>\n",
       "    </tr>\n",
       "    <tr>\n",
       "        <td style=\"padding-left: 1em; padding-right: 1em; text-align: center; vertical-align: top\">/Users/samuelfolledo/Desk<br>top/Convolutional-Neu ...</td>\n",
       "        <td style=\"padding-left: 1em; padding-right: 1em; text-align: center; vertical-align: top\">[{&#x27;label&#x27;: &#x27;tonsil&#x27;,<br>&#x27;coordinates&#x27;: {&#x27;x&#x27;:  ...</td>\n",
       "    </tr>\n",
       "    <tr>\n",
       "        <td style=\"padding-left: 1em; padding-right: 1em; text-align: center; vertical-align: top\">/Users/samuelfolledo/Desk<br>top/Convolutional-Neu ...</td>\n",
       "        <td style=\"padding-left: 1em; padding-right: 1em; text-align: center; vertical-align: top\">[{&#x27;label&#x27;: &#x27;tongue&#x27;,<br>&#x27;coordinates&#x27;: {&#x27;x&#x27;:  ...</td>\n",
       "    </tr>\n",
       "    <tr>\n",
       "        <td style=\"padding-left: 1em; padding-right: 1em; text-align: center; vertical-align: top\">/Users/samuelfolledo/Desk<br>top/Convolutional-Neu ...</td>\n",
       "        <td style=\"padding-left: 1em; padding-right: 1em; text-align: center; vertical-align: top\">[{&#x27;label&#x27;: &#x27;tonsil&#x27;,<br>&#x27;coordinates&#x27;: {&#x27;x&#x27;:  ...</td>\n",
       "    </tr>\n",
       "    <tr>\n",
       "        <td style=\"padding-left: 1em; padding-right: 1em; text-align: center; vertical-align: top\">/Users/samuelfolledo/Desk<br>top/Convolutional-Neu ...</td>\n",
       "        <td style=\"padding-left: 1em; padding-right: 1em; text-align: center; vertical-align: top\">[{&#x27;label&#x27;: &#x27;tongue&#x27;,<br>&#x27;coordinates&#x27;: {&#x27;x&#x27;:  ...</td>\n",
       "    </tr>\n",
       "    <tr>\n",
       "        <td style=\"padding-left: 1em; padding-right: 1em; text-align: center; vertical-align: top\">/Users/samuelfolledo/Desk<br>top/Convolutional-Neu ...</td>\n",
       "        <td style=\"padding-left: 1em; padding-right: 1em; text-align: center; vertical-align: top\">[{&#x27;label&#x27;: &#x27;pharynx&#x27;,<br>&#x27;coordinates&#x27;: {&#x27;x&#x27;:  ...</td>\n",
       "    </tr>\n",
       "</table>\n",
       "[10 rows x 2 columns]<br/>\n",
       "</div>"
      ],
      "text/plain": [
       "Columns:\n",
       "\tpath\tstr\n",
       "\tannotations\tlist\n",
       "\n",
       "Rows: 10\n",
       "\n",
       "Data:\n",
       "+-------------------------------+-------------------------------+\n",
       "|              path             |          annotations          |\n",
       "+-------------------------------+-------------------------------+\n",
       "| /Users/samuelfolledo/Deskt... | [{'label': 'tonsil', 'coor... |\n",
       "| /Users/samuelfolledo/Deskt... | [{'label': 'tongue', 'coor... |\n",
       "| /Users/samuelfolledo/Deskt... | [{'label': 'pharynx', 'coo... |\n",
       "| /Users/samuelfolledo/Deskt... | [{'label': 'pharynx', 'coo... |\n",
       "| /Users/samuelfolledo/Deskt... | [{'label': 'tongue', 'coor... |\n",
       "| /Users/samuelfolledo/Deskt... | [{'label': 'tonsil', 'coor... |\n",
       "| /Users/samuelfolledo/Deskt... | [{'label': 'tongue', 'coor... |\n",
       "| /Users/samuelfolledo/Deskt... | [{'label': 'tonsil', 'coor... |\n",
       "| /Users/samuelfolledo/Deskt... | [{'label': 'tongue', 'coor... |\n",
       "| /Users/samuelfolledo/Deskt... | [{'label': 'pharynx', 'coo... |\n",
       "+-------------------------------+-------------------------------+\n",
       "[10 rows x 2 columns]"
      ]
     },
     "execution_count": 8,
     "metadata": {},
     "output_type": "execute_result"
    }
   ],
   "source": [
    "annotations = tc.SFrame.read_csv(\"annotations.csv\")\n",
    "annotations.head()"
   ]
  },
  {
   "cell_type": "markdown",
   "metadata": {},
   "source": [
    "## Joining SFrames\n",
    "To be able to train your model, you have to join both SFrames (annotations and images)."
   ]
  },
  {
   "cell_type": "code",
   "execution_count": 9,
   "metadata": {},
   "outputs": [
    {
     "data": {
      "text/html": [
       "<div style=\"max-height:1000px;max-width:1500px;overflow:auto;\"><table frame=\"box\" rules=\"cols\">\n",
       "    <tr>\n",
       "        <th style=\"padding-left: 1em; padding-right: 1em; text-align: center\">path</th>\n",
       "        <th style=\"padding-left: 1em; padding-right: 1em; text-align: center\">image</th>\n",
       "        <th style=\"padding-left: 1em; padding-right: 1em; text-align: center\">annotations</th>\n",
       "    </tr>\n",
       "    <tr>\n",
       "        <td style=\"padding-left: 1em; padding-right: 1em; text-align: center; vertical-align: top\">/Users/samuelfolledo/Desk<br>top/Convolutional-Neu ...</td>\n",
       "        <td style=\"padding-left: 1em; padding-right: 1em; text-align: center; vertical-align: top\">Height: 1500 Width: 843</td>\n",
       "        <td style=\"padding-left: 1em; padding-right: 1em; text-align: center; vertical-align: top\">[{&#x27;label&#x27;: &#x27;tonsil&#x27;,<br>&#x27;coordinates&#x27;: {&#x27;x&#x27;:  ...</td>\n",
       "    </tr>\n",
       "    <tr>\n",
       "        <td style=\"padding-left: 1em; padding-right: 1em; text-align: center; vertical-align: top\">/Users/samuelfolledo/Desk<br>top/Convolutional-Neu ...</td>\n",
       "        <td style=\"padding-left: 1em; padding-right: 1em; text-align: center; vertical-align: top\">Height: 1500 Width: 843</td>\n",
       "        <td style=\"padding-left: 1em; padding-right: 1em; text-align: center; vertical-align: top\">[{&#x27;label&#x27;: &#x27;tongue&#x27;,<br>&#x27;coordinates&#x27;: {&#x27;x&#x27;:  ...</td>\n",
       "    </tr>\n",
       "    <tr>\n",
       "        <td style=\"padding-left: 1em; padding-right: 1em; text-align: center; vertical-align: top\">/Users/samuelfolledo/Desk<br>top/Convolutional-Neu ...</td>\n",
       "        <td style=\"padding-left: 1em; padding-right: 1em; text-align: center; vertical-align: top\">Height: 500 Width: 375</td>\n",
       "        <td style=\"padding-left: 1em; padding-right: 1em; text-align: center; vertical-align: top\">[{&#x27;label&#x27;: &#x27;pharynx&#x27;,<br>&#x27;coordinates&#x27;: {&#x27;x&#x27;:  ...</td>\n",
       "    </tr>\n",
       "    <tr>\n",
       "        <td style=\"padding-left: 1em; padding-right: 1em; text-align: center; vertical-align: top\">/Users/samuelfolledo/Desk<br>top/Convolutional-Neu ...</td>\n",
       "        <td style=\"padding-left: 1em; padding-right: 1em; text-align: center; vertical-align: top\">Height: 843 Width: 1500</td>\n",
       "        <td style=\"padding-left: 1em; padding-right: 1em; text-align: center; vertical-align: top\">[{&#x27;label&#x27;: &#x27;pharynx&#x27;,<br>&#x27;coordinates&#x27;: {&#x27;x&#x27;:  ...</td>\n",
       "    </tr>\n",
       "    <tr>\n",
       "        <td style=\"padding-left: 1em; padding-right: 1em; text-align: center; vertical-align: top\">/Users/samuelfolledo/Desk<br>top/Convolutional-Neu ...</td>\n",
       "        <td style=\"padding-left: 1em; padding-right: 1em; text-align: center; vertical-align: top\">Height: 360 Width: 480</td>\n",
       "        <td style=\"padding-left: 1em; padding-right: 1em; text-align: center; vertical-align: top\">[{&#x27;label&#x27;: &#x27;tongue&#x27;,<br>&#x27;coordinates&#x27;: {&#x27;x&#x27;:  ...</td>\n",
       "    </tr>\n",
       "    <tr>\n",
       "        <td style=\"padding-left: 1em; padding-right: 1em; text-align: center; vertical-align: top\">/Users/samuelfolledo/Desk<br>top/Convolutional-Neu ...</td>\n",
       "        <td style=\"padding-left: 1em; padding-right: 1em; text-align: center; vertical-align: top\">Height: 266 Width: 508</td>\n",
       "        <td style=\"padding-left: 1em; padding-right: 1em; text-align: center; vertical-align: top\">[{&#x27;label&#x27;: &#x27;tonsil&#x27;,<br>&#x27;coordinates&#x27;: {&#x27;x&#x27;:  ...</td>\n",
       "    </tr>\n",
       "    <tr>\n",
       "        <td style=\"padding-left: 1em; padding-right: 1em; text-align: center; vertical-align: top\">/Users/samuelfolledo/Desk<br>top/Convolutional-Neu ...</td>\n",
       "        <td style=\"padding-left: 1em; padding-right: 1em; text-align: center; vertical-align: top\">Height: 1390 Width: 1300</td>\n",
       "        <td style=\"padding-left: 1em; padding-right: 1em; text-align: center; vertical-align: top\">[{&#x27;label&#x27;: &#x27;tongue&#x27;,<br>&#x27;coordinates&#x27;: {&#x27;x&#x27;:  ...</td>\n",
       "    </tr>\n",
       "    <tr>\n",
       "        <td style=\"padding-left: 1em; padding-right: 1em; text-align: center; vertical-align: top\">/Users/samuelfolledo/Desk<br>top/Convolutional-Neu ...</td>\n",
       "        <td style=\"padding-left: 1em; padding-right: 1em; text-align: center; vertical-align: top\">Height: 1500 Width: 1125</td>\n",
       "        <td style=\"padding-left: 1em; padding-right: 1em; text-align: center; vertical-align: top\">[{&#x27;label&#x27;: &#x27;tonsil&#x27;,<br>&#x27;coordinates&#x27;: {&#x27;x&#x27;:  ...</td>\n",
       "    </tr>\n",
       "    <tr>\n",
       "        <td style=\"padding-left: 1em; padding-right: 1em; text-align: center; vertical-align: top\">/Users/samuelfolledo/Desk<br>top/Convolutional-Neu ...</td>\n",
       "        <td style=\"padding-left: 1em; padding-right: 1em; text-align: center; vertical-align: top\">Height: 180 Width: 320</td>\n",
       "        <td style=\"padding-left: 1em; padding-right: 1em; text-align: center; vertical-align: top\">[{&#x27;label&#x27;: &#x27;tongue&#x27;,<br>&#x27;coordinates&#x27;: {&#x27;x&#x27;:  ...</td>\n",
       "    </tr>\n",
       "    <tr>\n",
       "        <td style=\"padding-left: 1em; padding-right: 1em; text-align: center; vertical-align: top\">/Users/samuelfolledo/Desk<br>top/Convolutional-Neu ...</td>\n",
       "        <td style=\"padding-left: 1em; padding-right: 1em; text-align: center; vertical-align: top\">Height: 262 Width: 400</td>\n",
       "        <td style=\"padding-left: 1em; padding-right: 1em; text-align: center; vertical-align: top\">[{&#x27;label&#x27;: &#x27;pharynx&#x27;,<br>&#x27;coordinates&#x27;: {&#x27;x&#x27;:  ...</td>\n",
       "    </tr>\n",
       "</table>\n",
       "[278 rows x 3 columns]<br/>Note: Only the head of the SFrame is printed.<br/>You can use print_rows(num_rows=m, num_columns=n) to print more rows and columns.\n",
       "</div>"
      ],
      "text/plain": [
       "Columns:\n",
       "\tpath\tstr\n",
       "\timage\tImage\n",
       "\tannotations\tlist\n",
       "\n",
       "Rows: 278\n",
       "\n",
       "Data:\n",
       "+-------------------------------+--------------------------+\n",
       "|              path             |          image           |\n",
       "+-------------------------------+--------------------------+\n",
       "| /Users/samuelfolledo/Deskt... | Height: 1500 Width: 843  |\n",
       "| /Users/samuelfolledo/Deskt... | Height: 1500 Width: 843  |\n",
       "| /Users/samuelfolledo/Deskt... |  Height: 500 Width: 375  |\n",
       "| /Users/samuelfolledo/Deskt... | Height: 843 Width: 1500  |\n",
       "| /Users/samuelfolledo/Deskt... |  Height: 360 Width: 480  |\n",
       "| /Users/samuelfolledo/Deskt... |  Height: 266 Width: 508  |\n",
       "| /Users/samuelfolledo/Deskt... | Height: 1390 Width: 1300 |\n",
       "| /Users/samuelfolledo/Deskt... | Height: 1500 Width: 1125 |\n",
       "| /Users/samuelfolledo/Deskt... |  Height: 180 Width: 320  |\n",
       "| /Users/samuelfolledo/Deskt... |  Height: 262 Width: 400  |\n",
       "+-------------------------------+--------------------------+\n",
       "+-------------------------------+\n",
       "|          annotations          |\n",
       "+-------------------------------+\n",
       "| [{'label': 'tonsil', 'coor... |\n",
       "| [{'label': 'tongue', 'coor... |\n",
       "| [{'label': 'pharynx', 'coo... |\n",
       "| [{'label': 'pharynx', 'coo... |\n",
       "| [{'label': 'tongue', 'coor... |\n",
       "| [{'label': 'tonsil', 'coor... |\n",
       "| [{'label': 'tongue', 'coor... |\n",
       "| [{'label': 'tonsil', 'coor... |\n",
       "| [{'label': 'tongue', 'coor... |\n",
       "| [{'label': 'pharynx', 'coo... |\n",
       "+-------------------------------+\n",
       "[278 rows x 3 columns]\n",
       "Note: Only the head of the SFrame is printed.\n",
       "You can use print_rows(num_rows=m, num_columns=n) to print more rows and columns."
      ]
     },
     "execution_count": 9,
     "metadata": {},
     "output_type": "execute_result"
    }
   ],
   "source": [
    "joined_sframe = images.join(annotations)\n",
    "joined_sframe"
   ]
  },
  {
   "cell_type": "markdown",
   "metadata": {},
   "source": [
    "## Training\n",
    "Split dataframe. 80% of the rows/samples will be used for training and the rest will be for testing our model"
   ]
  },
  {
   "cell_type": "code",
   "execution_count": 10,
   "metadata": {},
   "outputs": [
    {
     "data": {
      "text/html": [
       "<div style=\"max-height:1000px;max-width:1500px;overflow:auto;\"><table frame=\"box\" rules=\"cols\">\n",
       "    <tr>\n",
       "        <th style=\"padding-left: 1em; padding-right: 1em; text-align: center\">path</th>\n",
       "        <th style=\"padding-left: 1em; padding-right: 1em; text-align: center\">image</th>\n",
       "        <th style=\"padding-left: 1em; padding-right: 1em; text-align: center\">annotations</th>\n",
       "    </tr>\n",
       "    <tr>\n",
       "        <td style=\"padding-left: 1em; padding-right: 1em; text-align: center; vertical-align: top\">/Users/samuelfolledo/Desk<br>top/Convolutional-Neu ...</td>\n",
       "        <td style=\"padding-left: 1em; padding-right: 1em; text-align: center; vertical-align: top\">Height: 1500 Width: 843</td>\n",
       "        <td style=\"padding-left: 1em; padding-right: 1em; text-align: center; vertical-align: top\">[{&#x27;label&#x27;: &#x27;tonsil&#x27;,<br>&#x27;coordinates&#x27;: {&#x27;x&#x27;:  ...</td>\n",
       "    </tr>\n",
       "    <tr>\n",
       "        <td style=\"padding-left: 1em; padding-right: 1em; text-align: center; vertical-align: top\">/Users/samuelfolledo/Desk<br>top/Convolutional-Neu ...</td>\n",
       "        <td style=\"padding-left: 1em; padding-right: 1em; text-align: center; vertical-align: top\">Height: 1500 Width: 843</td>\n",
       "        <td style=\"padding-left: 1em; padding-right: 1em; text-align: center; vertical-align: top\">[{&#x27;label&#x27;: &#x27;tongue&#x27;,<br>&#x27;coordinates&#x27;: {&#x27;x&#x27;:  ...</td>\n",
       "    </tr>\n",
       "    <tr>\n",
       "        <td style=\"padding-left: 1em; padding-right: 1em; text-align: center; vertical-align: top\">/Users/samuelfolledo/Desk<br>top/Convolutional-Neu ...</td>\n",
       "        <td style=\"padding-left: 1em; padding-right: 1em; text-align: center; vertical-align: top\">Height: 500 Width: 375</td>\n",
       "        <td style=\"padding-left: 1em; padding-right: 1em; text-align: center; vertical-align: top\">[{&#x27;label&#x27;: &#x27;pharynx&#x27;,<br>&#x27;coordinates&#x27;: {&#x27;x&#x27;:  ...</td>\n",
       "    </tr>\n",
       "    <tr>\n",
       "        <td style=\"padding-left: 1em; padding-right: 1em; text-align: center; vertical-align: top\">/Users/samuelfolledo/Desk<br>top/Convolutional-Neu ...</td>\n",
       "        <td style=\"padding-left: 1em; padding-right: 1em; text-align: center; vertical-align: top\">Height: 843 Width: 1500</td>\n",
       "        <td style=\"padding-left: 1em; padding-right: 1em; text-align: center; vertical-align: top\">[{&#x27;label&#x27;: &#x27;pharynx&#x27;,<br>&#x27;coordinates&#x27;: {&#x27;x&#x27;:  ...</td>\n",
       "    </tr>\n",
       "    <tr>\n",
       "        <td style=\"padding-left: 1em; padding-right: 1em; text-align: center; vertical-align: top\">/Users/samuelfolledo/Desk<br>top/Convolutional-Neu ...</td>\n",
       "        <td style=\"padding-left: 1em; padding-right: 1em; text-align: center; vertical-align: top\">Height: 360 Width: 480</td>\n",
       "        <td style=\"padding-left: 1em; padding-right: 1em; text-align: center; vertical-align: top\">[{&#x27;label&#x27;: &#x27;tongue&#x27;,<br>&#x27;coordinates&#x27;: {&#x27;x&#x27;:  ...</td>\n",
       "    </tr>\n",
       "    <tr>\n",
       "        <td style=\"padding-left: 1em; padding-right: 1em; text-align: center; vertical-align: top\">/Users/samuelfolledo/Desk<br>top/Convolutional-Neu ...</td>\n",
       "        <td style=\"padding-left: 1em; padding-right: 1em; text-align: center; vertical-align: top\">Height: 266 Width: 508</td>\n",
       "        <td style=\"padding-left: 1em; padding-right: 1em; text-align: center; vertical-align: top\">[{&#x27;label&#x27;: &#x27;tonsil&#x27;,<br>&#x27;coordinates&#x27;: {&#x27;x&#x27;:  ...</td>\n",
       "    </tr>\n",
       "    <tr>\n",
       "        <td style=\"padding-left: 1em; padding-right: 1em; text-align: center; vertical-align: top\">/Users/samuelfolledo/Desk<br>top/Convolutional-Neu ...</td>\n",
       "        <td style=\"padding-left: 1em; padding-right: 1em; text-align: center; vertical-align: top\">Height: 1390 Width: 1300</td>\n",
       "        <td style=\"padding-left: 1em; padding-right: 1em; text-align: center; vertical-align: top\">[{&#x27;label&#x27;: &#x27;tongue&#x27;,<br>&#x27;coordinates&#x27;: {&#x27;x&#x27;:  ...</td>\n",
       "    </tr>\n",
       "    <tr>\n",
       "        <td style=\"padding-left: 1em; padding-right: 1em; text-align: center; vertical-align: top\">/Users/samuelfolledo/Desk<br>top/Convolutional-Neu ...</td>\n",
       "        <td style=\"padding-left: 1em; padding-right: 1em; text-align: center; vertical-align: top\">Height: 1500 Width: 1125</td>\n",
       "        <td style=\"padding-left: 1em; padding-right: 1em; text-align: center; vertical-align: top\">[{&#x27;label&#x27;: &#x27;tonsil&#x27;,<br>&#x27;coordinates&#x27;: {&#x27;x&#x27;:  ...</td>\n",
       "    </tr>\n",
       "    <tr>\n",
       "        <td style=\"padding-left: 1em; padding-right: 1em; text-align: center; vertical-align: top\">/Users/samuelfolledo/Desk<br>top/Convolutional-Neu ...</td>\n",
       "        <td style=\"padding-left: 1em; padding-right: 1em; text-align: center; vertical-align: top\">Height: 180 Width: 320</td>\n",
       "        <td style=\"padding-left: 1em; padding-right: 1em; text-align: center; vertical-align: top\">[{&#x27;label&#x27;: &#x27;tongue&#x27;,<br>&#x27;coordinates&#x27;: {&#x27;x&#x27;:  ...</td>\n",
       "    </tr>\n",
       "    <tr>\n",
       "        <td style=\"padding-left: 1em; padding-right: 1em; text-align: center; vertical-align: top\">/Users/samuelfolledo/Desk<br>top/Convolutional-Neu ...</td>\n",
       "        <td style=\"padding-left: 1em; padding-right: 1em; text-align: center; vertical-align: top\">Height: 262 Width: 400</td>\n",
       "        <td style=\"padding-left: 1em; padding-right: 1em; text-align: center; vertical-align: top\">[{&#x27;label&#x27;: &#x27;pharynx&#x27;,<br>&#x27;coordinates&#x27;: {&#x27;x&#x27;:  ...</td>\n",
       "    </tr>\n",
       "</table>\n",
       "[278 rows x 3 columns]<br/>Note: Only the head of the SFrame is printed.<br/>You can use print_rows(num_rows=m, num_columns=n) to print more rows and columns.\n",
       "</div>"
      ],
      "text/plain": [
       "Columns:\n",
       "\tpath\tstr\n",
       "\timage\tImage\n",
       "\tannotations\tlist\n",
       "\n",
       "Rows: 278\n",
       "\n",
       "Data:\n",
       "+-------------------------------+--------------------------+\n",
       "|              path             |          image           |\n",
       "+-------------------------------+--------------------------+\n",
       "| /Users/samuelfolledo/Deskt... | Height: 1500 Width: 843  |\n",
       "| /Users/samuelfolledo/Deskt... | Height: 1500 Width: 843  |\n",
       "| /Users/samuelfolledo/Deskt... |  Height: 500 Width: 375  |\n",
       "| /Users/samuelfolledo/Deskt... | Height: 843 Width: 1500  |\n",
       "| /Users/samuelfolledo/Deskt... |  Height: 360 Width: 480  |\n",
       "| /Users/samuelfolledo/Deskt... |  Height: 266 Width: 508  |\n",
       "| /Users/samuelfolledo/Deskt... | Height: 1390 Width: 1300 |\n",
       "| /Users/samuelfolledo/Deskt... | Height: 1500 Width: 1125 |\n",
       "| /Users/samuelfolledo/Deskt... |  Height: 180 Width: 320  |\n",
       "| /Users/samuelfolledo/Deskt... |  Height: 262 Width: 400  |\n",
       "+-------------------------------+--------------------------+\n",
       "+-------------------------------+\n",
       "|          annotations          |\n",
       "+-------------------------------+\n",
       "| [{'label': 'tonsil', 'coor... |\n",
       "| [{'label': 'tongue', 'coor... |\n",
       "| [{'label': 'pharynx', 'coo... |\n",
       "| [{'label': 'pharynx', 'coo... |\n",
       "| [{'label': 'tongue', 'coor... |\n",
       "| [{'label': 'tonsil', 'coor... |\n",
       "| [{'label': 'tongue', 'coor... |\n",
       "| [{'label': 'tonsil', 'coor... |\n",
       "| [{'label': 'tongue', 'coor... |\n",
       "| [{'label': 'pharynx', 'coo... |\n",
       "+-------------------------------+\n",
       "[278 rows x 3 columns]\n",
       "Note: Only the head of the SFrame is printed.\n",
       "You can use print_rows(num_rows=m, num_columns=n) to print more rows and columns."
      ]
     },
     "execution_count": 10,
     "metadata": {},
     "output_type": "execute_result"
    }
   ],
   "source": [
    "training_sframe, testing_sframe = joined_sframe.random_split(1.0)\n",
    "training_sframe"
   ]
  },
  {
   "cell_type": "code",
   "execution_count": 11,
   "metadata": {},
   "outputs": [
    {
     "data": {
      "text/html": [
       "<div style=\"max-height:1000px;max-width:1500px;overflow:auto;\"><table frame=\"box\" rules=\"cols\">\n",
       "    <tr>\n",
       "        <th style=\"padding-left: 1em; padding-right: 1em; text-align: center\">path</th>\n",
       "        <th style=\"padding-left: 1em; padding-right: 1em; text-align: center\">image</th>\n",
       "        <th style=\"padding-left: 1em; padding-right: 1em; text-align: center\">annotations</th>\n",
       "    </tr>\n",
       "</table>\n",
       "[0 rows x 3 columns]<br/>\n",
       "</div>"
      ],
      "text/plain": [
       "Columns:\n",
       "\tpath\tstr\n",
       "\timage\tImage\n",
       "\tannotations\tlist\n",
       "\n",
       "Rows: 0\n",
       "\n",
       "Data:\n",
       "\t[]"
      ]
     },
     "execution_count": 11,
     "metadata": {},
     "output_type": "execute_result"
    }
   ],
   "source": [
    "testing_sframe"
   ]
  },
  {
   "cell_type": "markdown",
   "metadata": {},
   "source": [
    "## Training SFrame\n",
    "To train a sample model, we will use the object_detector toolkit and the previously created training_sframe , with 50 iterations\n",
    "\n",
    "This model will not have high accuracy. **To get better accuracy, you would need to create a model with at least 300 iterations or more**, possibly on more pictures. Note, this can take time"
   ]
  },
  {
   "cell_type": "code",
   "execution_count": 12,
   "metadata": {},
   "outputs": [],
   "source": [
    "# model_50 = tc.object_detector.create(training_sframe, feature=\"image\", annotations=\"annotations\", max_iterations=50)"
   ]
  },
  {
   "cell_type": "code",
   "execution_count": 13,
   "metadata": {},
   "outputs": [],
   "source": [
    "# model_50"
   ]
  },
  {
   "cell_type": "code",
   "execution_count": null,
   "metadata": {},
   "outputs": [],
   "source": []
  },
  {
   "cell_type": "code",
   "execution_count": 14,
   "metadata": {},
   "outputs": [
    {
     "name": "stdout",
     "output_type": "stream",
     "text": [
      "Downloading https://docs-assets.developer.apple.com/turicreate/models/darknet.params\n",
      "Download completed: /var/folders/xd/zfjrkl2n7z3bjq6mnbs2w9600000gn/T/model_cache/darknet.params\n",
      "Downloading https://docs-assets.developer.apple.com/turicreate/models/darknet.mlmodel\n",
      "Download completed: /var/folders/xd/zfjrkl2n7z3bjq6mnbs2w9600000gn/T/model_cache/darknet.mlmodel\n"
     ]
    },
    {
     "data": {
      "text/html": [
       "<pre>Using GPU (\"AMD Radeon Pro 450\") to create model.</pre>"
      ],
      "text/plain": [
       "Using GPU (\"AMD Radeon Pro 450\") to create model."
      ]
     },
     "metadata": {},
     "output_type": "display_data"
    },
    {
     "data": {
      "text/html": [
       "<pre>Setting 'batch_size' to 16</pre>"
      ],
      "text/plain": [
       "Setting 'batch_size' to 16"
      ]
     },
     "metadata": {},
     "output_type": "display_data"
    },
    {
     "data": {
      "text/html": [
       "<pre>+--------------+--------------+--------------+</pre>"
      ],
      "text/plain": [
       "+--------------+--------------+--------------+"
      ]
     },
     "metadata": {},
     "output_type": "display_data"
    },
    {
     "data": {
      "text/html": [
       "<pre>| Iteration    | Loss         | Elapsed Time |</pre>"
      ],
      "text/plain": [
       "| Iteration    | Loss         | Elapsed Time |"
      ]
     },
     "metadata": {},
     "output_type": "display_data"
    },
    {
     "data": {
      "text/html": [
       "<pre>+--------------+--------------+--------------+</pre>"
      ],
      "text/plain": [
       "+--------------+--------------+--------------+"
      ]
     },
     "metadata": {},
     "output_type": "display_data"
    },
    {
     "data": {
      "text/html": [
       "<pre>| 1            | 9.10337      | 2.73s        |</pre>"
      ],
      "text/plain": [
       "| 1            | 9.10337      | 2.73s        |"
      ]
     },
     "metadata": {},
     "output_type": "display_data"
    },
    {
     "data": {
      "text/html": [
       "<pre>| 2            | 9.3056       | 4.37s        |</pre>"
      ],
      "text/plain": [
       "| 2            | 9.3056       | 4.37s        |"
      ]
     },
     "metadata": {},
     "output_type": "display_data"
    },
    {
     "data": {
      "text/html": [
       "<pre>| 3            | 9.6555       | 5.31s        |</pre>"
      ],
      "text/plain": [
       "| 3            | 9.6555       | 5.31s        |"
      ]
     },
     "metadata": {},
     "output_type": "display_data"
    },
    {
     "data": {
      "text/html": [
       "<pre>| 4            | 9.70616      | 6.17s        |</pre>"
      ],
      "text/plain": [
       "| 4            | 9.70616      | 6.17s        |"
      ]
     },
     "metadata": {},
     "output_type": "display_data"
    },
    {
     "data": {
      "text/html": [
       "<pre>| 5            | 9.86039      | 7.71s        |</pre>"
      ],
      "text/plain": [
       "| 5            | 9.86039      | 7.71s        |"
      ]
     },
     "metadata": {},
     "output_type": "display_data"
    },
    {
     "data": {
      "text/html": [
       "<pre>| 10           | 9.44775      | 12.53s       |</pre>"
      ],
      "text/plain": [
       "| 10           | 9.44775      | 12.53s       |"
      ]
     },
     "metadata": {},
     "output_type": "display_data"
    },
    {
     "data": {
      "text/html": [
       "<pre>| 15           | 8.99619      | 18.59s       |</pre>"
      ],
      "text/plain": [
       "| 15           | 8.99619      | 18.59s       |"
      ]
     },
     "metadata": {},
     "output_type": "display_data"
    },
    {
     "data": {
      "text/html": [
       "<pre>| 20           | 8.82089      | 25.80s       |</pre>"
      ],
      "text/plain": [
       "| 20           | 8.82089      | 25.80s       |"
      ]
     },
     "metadata": {},
     "output_type": "display_data"
    },
    {
     "data": {
      "text/html": [
       "<pre>| 25           | 8.39138      | 31.17s       |</pre>"
      ],
      "text/plain": [
       "| 25           | 8.39138      | 31.17s       |"
      ]
     },
     "metadata": {},
     "output_type": "display_data"
    },
    {
     "data": {
      "text/html": [
       "<pre>| 30           | 7.96672      | 37.91s       |</pre>"
      ],
      "text/plain": [
       "| 30           | 7.96672      | 37.91s       |"
      ]
     },
     "metadata": {},
     "output_type": "display_data"
    },
    {
     "data": {
      "text/html": [
       "<pre>| 35           | 7.81988      | 44.14s       |</pre>"
      ],
      "text/plain": [
       "| 35           | 7.81988      | 44.14s       |"
      ]
     },
     "metadata": {},
     "output_type": "display_data"
    },
    {
     "data": {
      "text/html": [
       "<pre>| 40           | 7.63566      | 51.41s       |</pre>"
      ],
      "text/plain": [
       "| 40           | 7.63566      | 51.41s       |"
      ]
     },
     "metadata": {},
     "output_type": "display_data"
    },
    {
     "data": {
      "text/html": [
       "<pre>| 45           | 7.37567      | 57.25s       |</pre>"
      ],
      "text/plain": [
       "| 45           | 7.37567      | 57.25s       |"
      ]
     },
     "metadata": {},
     "output_type": "display_data"
    },
    {
     "data": {
      "text/html": [
       "<pre>| 50           | 7.07731      | 1m 4s        |</pre>"
      ],
      "text/plain": [
       "| 50           | 7.07731      | 1m 4s        |"
      ]
     },
     "metadata": {},
     "output_type": "display_data"
    },
    {
     "data": {
      "text/html": [
       "<pre>| 55           | 6.69144      | 1m 12s       |</pre>"
      ],
      "text/plain": [
       "| 55           | 6.69144      | 1m 12s       |"
      ]
     },
     "metadata": {},
     "output_type": "display_data"
    },
    {
     "data": {
      "text/html": [
       "<pre>| 60           | 6.48934      | 1m 18s       |</pre>"
      ],
      "text/plain": [
       "| 60           | 6.48934      | 1m 18s       |"
      ]
     },
     "metadata": {},
     "output_type": "display_data"
    },
    {
     "data": {
      "text/html": [
       "<pre>| 65           | 6.40834      | 1m 26s       |</pre>"
      ],
      "text/plain": [
       "| 65           | 6.40834      | 1m 26s       |"
      ]
     },
     "metadata": {},
     "output_type": "display_data"
    },
    {
     "data": {
      "text/html": [
       "<pre>| 70           | 6.22914      | 1m 32s       |</pre>"
      ],
      "text/plain": [
       "| 70           | 6.22914      | 1m 32s       |"
      ]
     },
     "metadata": {},
     "output_type": "display_data"
    },
    {
     "data": {
      "text/html": [
       "<pre>| 75           | 6.24708      | 1m 40s       |</pre>"
      ],
      "text/plain": [
       "| 75           | 6.24708      | 1m 40s       |"
      ]
     },
     "metadata": {},
     "output_type": "display_data"
    },
    {
     "data": {
      "text/html": [
       "<pre>| 80           | 6.14065      | 1m 46s       |</pre>"
      ],
      "text/plain": [
       "| 80           | 6.14065      | 1m 46s       |"
      ]
     },
     "metadata": {},
     "output_type": "display_data"
    },
    {
     "data": {
      "text/html": [
       "<pre>| 85           | 5.80791      | 1m 53s       |</pre>"
      ],
      "text/plain": [
       "| 85           | 5.80791      | 1m 53s       |"
      ]
     },
     "metadata": {},
     "output_type": "display_data"
    },
    {
     "data": {
      "text/html": [
       "<pre>| 90           | 5.60317      | 2m 1s        |</pre>"
      ],
      "text/plain": [
       "| 90           | 5.60317      | 2m 1s        |"
      ]
     },
     "metadata": {},
     "output_type": "display_data"
    },
    {
     "data": {
      "text/html": [
       "<pre>| 95           | 5.46579      | 2m 6s        |</pre>"
      ],
      "text/plain": [
       "| 95           | 5.46579      | 2m 6s        |"
      ]
     },
     "metadata": {},
     "output_type": "display_data"
    },
    {
     "data": {
      "text/html": [
       "<pre>| 100          | 5.42623      | 2m 13s       |</pre>"
      ],
      "text/plain": [
       "| 100          | 5.42623      | 2m 13s       |"
      ]
     },
     "metadata": {},
     "output_type": "display_data"
    },
    {
     "data": {
      "text/html": [
       "<pre>| 105          | 5.4448       | 2m 19s       |</pre>"
      ],
      "text/plain": [
       "| 105          | 5.4448       | 2m 19s       |"
      ]
     },
     "metadata": {},
     "output_type": "display_data"
    },
    {
     "data": {
      "text/html": [
       "<pre>| 110          | 5.30962      | 2m 26s       |</pre>"
      ],
      "text/plain": [
       "| 110          | 5.30962      | 2m 26s       |"
      ]
     },
     "metadata": {},
     "output_type": "display_data"
    },
    {
     "data": {
      "text/html": [
       "<pre>| 115          | 5.24284      | 2m 33s       |</pre>"
      ],
      "text/plain": [
       "| 115          | 5.24284      | 2m 33s       |"
      ]
     },
     "metadata": {},
     "output_type": "display_data"
    },
    {
     "data": {
      "text/html": [
       "<pre>| 120          | 5.20422      | 2m 39s       |</pre>"
      ],
      "text/plain": [
       "| 120          | 5.20422      | 2m 39s       |"
      ]
     },
     "metadata": {},
     "output_type": "display_data"
    },
    {
     "data": {
      "text/html": [
       "<pre>| 125          | 5.14253      | 2m 46s       |</pre>"
      ],
      "text/plain": [
       "| 125          | 5.14253      | 2m 46s       |"
      ]
     },
     "metadata": {},
     "output_type": "display_data"
    },
    {
     "data": {
      "text/html": [
       "<pre>| 130          | 5.179        | 2m 53s       |</pre>"
      ],
      "text/plain": [
       "| 130          | 5.179        | 2m 53s       |"
      ]
     },
     "metadata": {},
     "output_type": "display_data"
    },
    {
     "data": {
      "text/html": [
       "<pre>| 135          | 5.18384      | 3m 0s        |</pre>"
      ],
      "text/plain": [
       "| 135          | 5.18384      | 3m 0s        |"
      ]
     },
     "metadata": {},
     "output_type": "display_data"
    },
    {
     "data": {
      "text/html": [
       "<pre>| 140          | 4.86677      | 3m 5s        |</pre>"
      ],
      "text/plain": [
       "| 140          | 4.86677      | 3m 5s        |"
      ]
     },
     "metadata": {},
     "output_type": "display_data"
    },
    {
     "data": {
      "text/html": [
       "<pre>| 145          | 4.63028      | 3m 13s       |</pre>"
      ],
      "text/plain": [
       "| 145          | 4.63028      | 3m 13s       |"
      ]
     },
     "metadata": {},
     "output_type": "display_data"
    },
    {
     "data": {
      "text/html": [
       "<pre>| 150          | 4.70131      | 3m 18s       |</pre>"
      ],
      "text/plain": [
       "| 150          | 4.70131      | 3m 18s       |"
      ]
     },
     "metadata": {},
     "output_type": "display_data"
    },
    {
     "data": {
      "text/html": [
       "<pre>| 155          | 4.80647      | 3m 25s       |</pre>"
      ],
      "text/plain": [
       "| 155          | 4.80647      | 3m 25s       |"
      ]
     },
     "metadata": {},
     "output_type": "display_data"
    },
    {
     "data": {
      "text/html": [
       "<pre>| 160          | 4.8532       | 3m 30s       |</pre>"
      ],
      "text/plain": [
       "| 160          | 4.8532       | 3m 30s       |"
      ]
     },
     "metadata": {},
     "output_type": "display_data"
    },
    {
     "data": {
      "text/html": [
       "<pre>| 165          | 4.6597       | 3m 37s       |</pre>"
      ],
      "text/plain": [
       "| 165          | 4.6597       | 3m 37s       |"
      ]
     },
     "metadata": {},
     "output_type": "display_data"
    },
    {
     "data": {
      "text/html": [
       "<pre>| 170          | 4.67945      | 3m 42s       |</pre>"
      ],
      "text/plain": [
       "| 170          | 4.67945      | 3m 42s       |"
      ]
     },
     "metadata": {},
     "output_type": "display_data"
    },
    {
     "data": {
      "text/html": [
       "<pre>| 175          | 4.4984       | 3m 47s       |</pre>"
      ],
      "text/plain": [
       "| 175          | 4.4984       | 3m 47s       |"
      ]
     },
     "metadata": {},
     "output_type": "display_data"
    },
    {
     "data": {
      "text/html": [
       "<pre>| 180          | 4.4758       | 3m 55s       |</pre>"
      ],
      "text/plain": [
       "| 180          | 4.4758       | 3m 55s       |"
      ]
     },
     "metadata": {},
     "output_type": "display_data"
    },
    {
     "data": {
      "text/html": [
       "<pre>| 185          | 4.33739      | 4m 0s        |</pre>"
      ],
      "text/plain": [
       "| 185          | 4.33739      | 4m 0s        |"
      ]
     },
     "metadata": {},
     "output_type": "display_data"
    },
    {
     "data": {
      "text/html": [
       "<pre>| 190          | 4.23781      | 4m 6s        |</pre>"
      ],
      "text/plain": [
       "| 190          | 4.23781      | 4m 6s        |"
      ]
     },
     "metadata": {},
     "output_type": "display_data"
    },
    {
     "data": {
      "text/html": [
       "<pre>| 195          | 4.33524      | 4m 11s       |</pre>"
      ],
      "text/plain": [
       "| 195          | 4.33524      | 4m 11s       |"
      ]
     },
     "metadata": {},
     "output_type": "display_data"
    },
    {
     "data": {
      "text/html": [
       "<pre>| 200          | 4.38294      | 4m 17s       |</pre>"
      ],
      "text/plain": [
       "| 200          | 4.38294      | 4m 17s       |"
      ]
     },
     "metadata": {},
     "output_type": "display_data"
    },
    {
     "data": {
      "text/html": [
       "<pre>| 205          | 4.23177      | 4m 23s       |</pre>"
      ],
      "text/plain": [
       "| 205          | 4.23177      | 4m 23s       |"
      ]
     },
     "metadata": {},
     "output_type": "display_data"
    },
    {
     "data": {
      "text/html": [
       "<pre>| 210          | 4.22845      | 4m 28s       |</pre>"
      ],
      "text/plain": [
       "| 210          | 4.22845      | 4m 28s       |"
      ]
     },
     "metadata": {},
     "output_type": "display_data"
    },
    {
     "data": {
      "text/html": [
       "<pre>| 215          | 4.10906      | 4m 33s       |</pre>"
      ],
      "text/plain": [
       "| 215          | 4.10906      | 4m 33s       |"
      ]
     },
     "metadata": {},
     "output_type": "display_data"
    },
    {
     "data": {
      "text/html": [
       "<pre>| 220          | 4.31915      | 4m 38s       |</pre>"
      ],
      "text/plain": [
       "| 220          | 4.31915      | 4m 38s       |"
      ]
     },
     "metadata": {},
     "output_type": "display_data"
    },
    {
     "data": {
      "text/html": [
       "<pre>| 225          | 4.2791       | 4m 43s       |</pre>"
      ],
      "text/plain": [
       "| 225          | 4.2791       | 4m 43s       |"
      ]
     },
     "metadata": {},
     "output_type": "display_data"
    },
    {
     "data": {
      "text/html": [
       "<pre>| 230          | 4.17577      | 4m 48s       |</pre>"
      ],
      "text/plain": [
       "| 230          | 4.17577      | 4m 48s       |"
      ]
     },
     "metadata": {},
     "output_type": "display_data"
    },
    {
     "data": {
      "text/html": [
       "<pre>| 235          | 4.03181      | 4m 53s       |</pre>"
      ],
      "text/plain": [
       "| 235          | 4.03181      | 4m 53s       |"
      ]
     },
     "metadata": {},
     "output_type": "display_data"
    },
    {
     "data": {
      "text/html": [
       "<pre>| 240          | 3.98882      | 4m 58s       |</pre>"
      ],
      "text/plain": [
       "| 240          | 3.98882      | 4m 58s       |"
      ]
     },
     "metadata": {},
     "output_type": "display_data"
    },
    {
     "data": {
      "text/html": [
       "<pre>| 245          | 4.1207       | 5m 3s        |</pre>"
      ],
      "text/plain": [
       "| 245          | 4.1207       | 5m 3s        |"
      ]
     },
     "metadata": {},
     "output_type": "display_data"
    },
    {
     "data": {
      "text/html": [
       "<pre>| 250          | 4.16831      | 5m 9s        |</pre>"
      ],
      "text/plain": [
       "| 250          | 4.16831      | 5m 9s        |"
      ]
     },
     "metadata": {},
     "output_type": "display_data"
    },
    {
     "data": {
      "text/html": [
       "<pre>| 255          | 4.05851      | 5m 14s       |</pre>"
      ],
      "text/plain": [
       "| 255          | 4.05851      | 5m 14s       |"
      ]
     },
     "metadata": {},
     "output_type": "display_data"
    },
    {
     "data": {
      "text/html": [
       "<pre>| 260          | 3.90251      | 5m 20s       |</pre>"
      ],
      "text/plain": [
       "| 260          | 3.90251      | 5m 20s       |"
      ]
     },
     "metadata": {},
     "output_type": "display_data"
    },
    {
     "data": {
      "text/html": [
       "<pre>| 265          | 3.99676      | 5m 25s       |</pre>"
      ],
      "text/plain": [
       "| 265          | 3.99676      | 5m 25s       |"
      ]
     },
     "metadata": {},
     "output_type": "display_data"
    },
    {
     "data": {
      "text/html": [
       "<pre>| 270          | 3.86514      | 5m 30s       |</pre>"
      ],
      "text/plain": [
       "| 270          | 3.86514      | 5m 30s       |"
      ]
     },
     "metadata": {},
     "output_type": "display_data"
    },
    {
     "data": {
      "text/html": [
       "<pre>| 275          | 4.05106      | 5m 35s       |</pre>"
      ],
      "text/plain": [
       "| 275          | 4.05106      | 5m 35s       |"
      ]
     },
     "metadata": {},
     "output_type": "display_data"
    },
    {
     "data": {
      "text/html": [
       "<pre>| 280          | 3.89745      | 5m 41s       |</pre>"
      ],
      "text/plain": [
       "| 280          | 3.89745      | 5m 41s       |"
      ]
     },
     "metadata": {},
     "output_type": "display_data"
    },
    {
     "data": {
      "text/html": [
       "<pre>| 285          | 3.77353      | 5m 46s       |</pre>"
      ],
      "text/plain": [
       "| 285          | 3.77353      | 5m 46s       |"
      ]
     },
     "metadata": {},
     "output_type": "display_data"
    },
    {
     "data": {
      "text/html": [
       "<pre>| 290          | 3.86809      | 5m 52s       |</pre>"
      ],
      "text/plain": [
       "| 290          | 3.86809      | 5m 52s       |"
      ]
     },
     "metadata": {},
     "output_type": "display_data"
    },
    {
     "data": {
      "text/html": [
       "<pre>| 295          | 3.77518      | 5m 57s       |</pre>"
      ],
      "text/plain": [
       "| 295          | 3.77518      | 5m 57s       |"
      ]
     },
     "metadata": {},
     "output_type": "display_data"
    },
    {
     "data": {
      "text/html": [
       "<pre>| 300          | 3.70919      | 6m 2s        |</pre>"
      ],
      "text/plain": [
       "| 300          | 3.70919      | 6m 2s        |"
      ]
     },
     "metadata": {},
     "output_type": "display_data"
    },
    {
     "data": {
      "text/html": [
       "<pre>| 305          | 3.85556      | 6m 8s        |</pre>"
      ],
      "text/plain": [
       "| 305          | 3.85556      | 6m 8s        |"
      ]
     },
     "metadata": {},
     "output_type": "display_data"
    },
    {
     "data": {
      "text/html": [
       "<pre>| 310          | 3.72338      | 6m 13s       |</pre>"
      ],
      "text/plain": [
       "| 310          | 3.72338      | 6m 13s       |"
      ]
     },
     "metadata": {},
     "output_type": "display_data"
    },
    {
     "data": {
      "text/html": [
       "<pre>| 315          | 3.82775      | 6m 19s       |</pre>"
      ],
      "text/plain": [
       "| 315          | 3.82775      | 6m 19s       |"
      ]
     },
     "metadata": {},
     "output_type": "display_data"
    },
    {
     "data": {
      "text/html": [
       "<pre>| 320          | 3.89012      | 6m 24s       |</pre>"
      ],
      "text/plain": [
       "| 320          | 3.89012      | 6m 24s       |"
      ]
     },
     "metadata": {},
     "output_type": "display_data"
    },
    {
     "data": {
      "text/html": [
       "<pre>| 325          | 3.80942      | 6m 28s       |</pre>"
      ],
      "text/plain": [
       "| 325          | 3.80942      | 6m 28s       |"
      ]
     },
     "metadata": {},
     "output_type": "display_data"
    },
    {
     "data": {
      "text/html": [
       "<pre>| 330          | 3.74731      | 6m 32s       |</pre>"
      ],
      "text/plain": [
       "| 330          | 3.74731      | 6m 32s       |"
      ]
     },
     "metadata": {},
     "output_type": "display_data"
    },
    {
     "data": {
      "text/html": [
       "<pre>| 335          | 3.78573      | 6m 37s       |</pre>"
      ],
      "text/plain": [
       "| 335          | 3.78573      | 6m 37s       |"
      ]
     },
     "metadata": {},
     "output_type": "display_data"
    },
    {
     "data": {
      "text/html": [
       "<pre>| 340          | 3.65585      | 6m 41s       |</pre>"
      ],
      "text/plain": [
       "| 340          | 3.65585      | 6m 41s       |"
      ]
     },
     "metadata": {},
     "output_type": "display_data"
    },
    {
     "data": {
      "text/html": [
       "<pre>| 345          | 3.83008      | 6m 45s       |</pre>"
      ],
      "text/plain": [
       "| 345          | 3.83008      | 6m 45s       |"
      ]
     },
     "metadata": {},
     "output_type": "display_data"
    },
    {
     "data": {
      "text/html": [
       "<pre>| 350          | 3.55118      | 6m 49s       |</pre>"
      ],
      "text/plain": [
       "| 350          | 3.55118      | 6m 49s       |"
      ]
     },
     "metadata": {},
     "output_type": "display_data"
    },
    {
     "data": {
      "text/html": [
       "<pre>| 355          | 3.44394      | 6m 53s       |</pre>"
      ],
      "text/plain": [
       "| 355          | 3.44394      | 6m 53s       |"
      ]
     },
     "metadata": {},
     "output_type": "display_data"
    },
    {
     "data": {
      "text/html": [
       "<pre>| 360          | 3.5019       | 6m 57s       |</pre>"
      ],
      "text/plain": [
       "| 360          | 3.5019       | 6m 57s       |"
      ]
     },
     "metadata": {},
     "output_type": "display_data"
    },
    {
     "data": {
      "text/html": [
       "<pre>| 365          | 3.74132      | 7m 1s        |</pre>"
      ],
      "text/plain": [
       "| 365          | 3.74132      | 7m 1s        |"
      ]
     },
     "metadata": {},
     "output_type": "display_data"
    },
    {
     "data": {
      "text/html": [
       "<pre>| 370          | 3.63003      | 7m 5s        |</pre>"
      ],
      "text/plain": [
       "| 370          | 3.63003      | 7m 5s        |"
      ]
     },
     "metadata": {},
     "output_type": "display_data"
    },
    {
     "data": {
      "text/html": [
       "<pre>| 375          | 3.57212      | 7m 9s        |</pre>"
      ],
      "text/plain": [
       "| 375          | 3.57212      | 7m 9s        |"
      ]
     },
     "metadata": {},
     "output_type": "display_data"
    },
    {
     "data": {
      "text/html": [
       "<pre>| 380          | 3.54793      | 7m 13s       |</pre>"
      ],
      "text/plain": [
       "| 380          | 3.54793      | 7m 13s       |"
      ]
     },
     "metadata": {},
     "output_type": "display_data"
    },
    {
     "data": {
      "text/html": [
       "<pre>| 385          | 3.57294      | 7m 17s       |</pre>"
      ],
      "text/plain": [
       "| 385          | 3.57294      | 7m 17s       |"
      ]
     },
     "metadata": {},
     "output_type": "display_data"
    },
    {
     "data": {
      "text/html": [
       "<pre>| 390          | 3.45448      | 7m 21s       |</pre>"
      ],
      "text/plain": [
       "| 390          | 3.45448      | 7m 21s       |"
      ]
     },
     "metadata": {},
     "output_type": "display_data"
    },
    {
     "data": {
      "text/html": [
       "<pre>| 395          | 3.39809      | 7m 25s       |</pre>"
      ],
      "text/plain": [
       "| 395          | 3.39809      | 7m 25s       |"
      ]
     },
     "metadata": {},
     "output_type": "display_data"
    },
    {
     "data": {
      "text/html": [
       "<pre>| 400          | 3.4758       | 7m 29s       |</pre>"
      ],
      "text/plain": [
       "| 400          | 3.4758       | 7m 29s       |"
      ]
     },
     "metadata": {},
     "output_type": "display_data"
    },
    {
     "data": {
      "text/html": [
       "<pre>| 405          | 3.49913      | 7m 33s       |</pre>"
      ],
      "text/plain": [
       "| 405          | 3.49913      | 7m 33s       |"
      ]
     },
     "metadata": {},
     "output_type": "display_data"
    },
    {
     "data": {
      "text/html": [
       "<pre>| 410          | 3.62163      | 7m 37s       |</pre>"
      ],
      "text/plain": [
       "| 410          | 3.62163      | 7m 37s       |"
      ]
     },
     "metadata": {},
     "output_type": "display_data"
    },
    {
     "data": {
      "text/html": [
       "<pre>| 415          | 3.53505      | 7m 41s       |</pre>"
      ],
      "text/plain": [
       "| 415          | 3.53505      | 7m 41s       |"
      ]
     },
     "metadata": {},
     "output_type": "display_data"
    },
    {
     "data": {
      "text/html": [
       "<pre>| 420          | 3.51463      | 7m 45s       |</pre>"
      ],
      "text/plain": [
       "| 420          | 3.51463      | 7m 45s       |"
      ]
     },
     "metadata": {},
     "output_type": "display_data"
    },
    {
     "data": {
      "text/html": [
       "<pre>| 425          | 3.55653      | 7m 49s       |</pre>"
      ],
      "text/plain": [
       "| 425          | 3.55653      | 7m 49s       |"
      ]
     },
     "metadata": {},
     "output_type": "display_data"
    },
    {
     "data": {
      "text/html": [
       "<pre>| 430          | 3.45865      | 7m 53s       |</pre>"
      ],
      "text/plain": [
       "| 430          | 3.45865      | 7m 53s       |"
      ]
     },
     "metadata": {},
     "output_type": "display_data"
    },
    {
     "data": {
      "text/html": [
       "<pre>| 435          | 3.61595      | 7m 57s       |</pre>"
      ],
      "text/plain": [
       "| 435          | 3.61595      | 7m 57s       |"
      ]
     },
     "metadata": {},
     "output_type": "display_data"
    },
    {
     "data": {
      "text/html": [
       "<pre>| 440          | 3.59593      | 8m 1s        |</pre>"
      ],
      "text/plain": [
       "| 440          | 3.59593      | 8m 1s        |"
      ]
     },
     "metadata": {},
     "output_type": "display_data"
    },
    {
     "data": {
      "text/html": [
       "<pre>| 445          | 3.45587      | 8m 5s        |</pre>"
      ],
      "text/plain": [
       "| 445          | 3.45587      | 8m 5s        |"
      ]
     },
     "metadata": {},
     "output_type": "display_data"
    },
    {
     "data": {
      "text/html": [
       "<pre>| 450          | 3.38966      | 8m 9s        |</pre>"
      ],
      "text/plain": [
       "| 450          | 3.38966      | 8m 9s        |"
      ]
     },
     "metadata": {},
     "output_type": "display_data"
    },
    {
     "data": {
      "text/html": [
       "<pre>| 455          | 3.41946      | 8m 13s       |</pre>"
      ],
      "text/plain": [
       "| 455          | 3.41946      | 8m 13s       |"
      ]
     },
     "metadata": {},
     "output_type": "display_data"
    },
    {
     "data": {
      "text/html": [
       "<pre>| 460          | 3.2779       | 8m 17s       |</pre>"
      ],
      "text/plain": [
       "| 460          | 3.2779       | 8m 17s       |"
      ]
     },
     "metadata": {},
     "output_type": "display_data"
    },
    {
     "data": {
      "text/html": [
       "<pre>| 465          | 3.27916      | 8m 21s       |</pre>"
      ],
      "text/plain": [
       "| 465          | 3.27916      | 8m 21s       |"
      ]
     },
     "metadata": {},
     "output_type": "display_data"
    },
    {
     "data": {
      "text/html": [
       "<pre>| 470          | 3.23322      | 8m 25s       |</pre>"
      ],
      "text/plain": [
       "| 470          | 3.23322      | 8m 25s       |"
      ]
     },
     "metadata": {},
     "output_type": "display_data"
    },
    {
     "data": {
      "text/html": [
       "<pre>| 475          | 3.07649      | 8m 29s       |</pre>"
      ],
      "text/plain": [
       "| 475          | 3.07649      | 8m 29s       |"
      ]
     },
     "metadata": {},
     "output_type": "display_data"
    },
    {
     "data": {
      "text/html": [
       "<pre>| 480          | 3.13583      | 8m 33s       |</pre>"
      ],
      "text/plain": [
       "| 480          | 3.13583      | 8m 33s       |"
      ]
     },
     "metadata": {},
     "output_type": "display_data"
    },
    {
     "data": {
      "text/html": [
       "<pre>| 485          | 3.10769      | 8m 37s       |</pre>"
      ],
      "text/plain": [
       "| 485          | 3.10769      | 8m 37s       |"
      ]
     },
     "metadata": {},
     "output_type": "display_data"
    },
    {
     "data": {
      "text/html": [
       "<pre>| 490          | 3.21131      | 8m 41s       |</pre>"
      ],
      "text/plain": [
       "| 490          | 3.21131      | 8m 41s       |"
      ]
     },
     "metadata": {},
     "output_type": "display_data"
    },
    {
     "data": {
      "text/html": [
       "<pre>| 495          | 3.19967      | 8m 45s       |</pre>"
      ],
      "text/plain": [
       "| 495          | 3.19967      | 8m 45s       |"
      ]
     },
     "metadata": {},
     "output_type": "display_data"
    },
    {
     "data": {
      "text/html": [
       "<pre>| 500          | 3.33659      | 8m 49s       |</pre>"
      ],
      "text/plain": [
       "| 500          | 3.33659      | 8m 49s       |"
      ]
     },
     "metadata": {},
     "output_type": "display_data"
    },
    {
     "data": {
      "text/html": [
       "<pre>| 505          | 3.22287      | 8m 53s       |</pre>"
      ],
      "text/plain": [
       "| 505          | 3.22287      | 8m 53s       |"
      ]
     },
     "metadata": {},
     "output_type": "display_data"
    },
    {
     "data": {
      "text/html": [
       "<pre>| 510          | 3.18293      | 8m 57s       |</pre>"
      ],
      "text/plain": [
       "| 510          | 3.18293      | 8m 57s       |"
      ]
     },
     "metadata": {},
     "output_type": "display_data"
    },
    {
     "data": {
      "text/html": [
       "<pre>| 515          | 3.31467      | 9m 1s        |</pre>"
      ],
      "text/plain": [
       "| 515          | 3.31467      | 9m 1s        |"
      ]
     },
     "metadata": {},
     "output_type": "display_data"
    },
    {
     "data": {
      "text/html": [
       "<pre>| 520          | 3.28461      | 9m 5s        |</pre>"
      ],
      "text/plain": [
       "| 520          | 3.28461      | 9m 5s        |"
      ]
     },
     "metadata": {},
     "output_type": "display_data"
    },
    {
     "data": {
      "text/html": [
       "<pre>| 525          | 3.20939      | 9m 9s        |</pre>"
      ],
      "text/plain": [
       "| 525          | 3.20939      | 9m 9s        |"
      ]
     },
     "metadata": {},
     "output_type": "display_data"
    },
    {
     "data": {
      "text/html": [
       "<pre>| 530          | 3.15779      | 9m 13s       |</pre>"
      ],
      "text/plain": [
       "| 530          | 3.15779      | 9m 13s       |"
      ]
     },
     "metadata": {},
     "output_type": "display_data"
    },
    {
     "data": {
      "text/html": [
       "<pre>| 535          | 3.29067      | 9m 17s       |</pre>"
      ],
      "text/plain": [
       "| 535          | 3.29067      | 9m 17s       |"
      ]
     },
     "metadata": {},
     "output_type": "display_data"
    },
    {
     "data": {
      "text/html": [
       "<pre>| 540          | 3.19922      | 9m 21s       |</pre>"
      ],
      "text/plain": [
       "| 540          | 3.19922      | 9m 21s       |"
      ]
     },
     "metadata": {},
     "output_type": "display_data"
    },
    {
     "data": {
      "text/html": [
       "<pre>| 545          | 3.31         | 9m 25s       |</pre>"
      ],
      "text/plain": [
       "| 545          | 3.31         | 9m 25s       |"
      ]
     },
     "metadata": {},
     "output_type": "display_data"
    },
    {
     "data": {
      "text/html": [
       "<pre>| 550          | 3.15943      | 9m 29s       |</pre>"
      ],
      "text/plain": [
       "| 550          | 3.15943      | 9m 29s       |"
      ]
     },
     "metadata": {},
     "output_type": "display_data"
    },
    {
     "data": {
      "text/html": [
       "<pre>| 555          | 3.1223       | 9m 33s       |</pre>"
      ],
      "text/plain": [
       "| 555          | 3.1223       | 9m 33s       |"
      ]
     },
     "metadata": {},
     "output_type": "display_data"
    },
    {
     "data": {
      "text/html": [
       "<pre>| 560          | 3.04647      | 9m 37s       |</pre>"
      ],
      "text/plain": [
       "| 560          | 3.04647      | 9m 37s       |"
      ]
     },
     "metadata": {},
     "output_type": "display_data"
    },
    {
     "data": {
      "text/html": [
       "<pre>| 565          | 3.04595      | 9m 41s       |</pre>"
      ],
      "text/plain": [
       "| 565          | 3.04595      | 9m 41s       |"
      ]
     },
     "metadata": {},
     "output_type": "display_data"
    },
    {
     "data": {
      "text/html": [
       "<pre>| 570          | 3.07956      | 9m 45s       |</pre>"
      ],
      "text/plain": [
       "| 570          | 3.07956      | 9m 45s       |"
      ]
     },
     "metadata": {},
     "output_type": "display_data"
    },
    {
     "data": {
      "text/html": [
       "<pre>| 575          | 3.25498      | 9m 49s       |</pre>"
      ],
      "text/plain": [
       "| 575          | 3.25498      | 9m 49s       |"
      ]
     },
     "metadata": {},
     "output_type": "display_data"
    },
    {
     "data": {
      "text/html": [
       "<pre>| 580          | 3.10161      | 9m 53s       |</pre>"
      ],
      "text/plain": [
       "| 580          | 3.10161      | 9m 53s       |"
      ]
     },
     "metadata": {},
     "output_type": "display_data"
    },
    {
     "data": {
      "text/html": [
       "<pre>| 585          | 3.14044      | 9m 57s       |</pre>"
      ],
      "text/plain": [
       "| 585          | 3.14044      | 9m 57s       |"
      ]
     },
     "metadata": {},
     "output_type": "display_data"
    },
    {
     "data": {
      "text/html": [
       "<pre>| 590          | 3.17022      | 10m 1s       |</pre>"
      ],
      "text/plain": [
       "| 590          | 3.17022      | 10m 1s       |"
      ]
     },
     "metadata": {},
     "output_type": "display_data"
    },
    {
     "data": {
      "text/html": [
       "<pre>| 595          | 3.09228      | 10m 5s       |</pre>"
      ],
      "text/plain": [
       "| 595          | 3.09228      | 10m 5s       |"
      ]
     },
     "metadata": {},
     "output_type": "display_data"
    },
    {
     "data": {
      "text/html": [
       "<pre>| 600          | 3.12391      | 10m 9s       |</pre>"
      ],
      "text/plain": [
       "| 600          | 3.12391      | 10m 9s       |"
      ]
     },
     "metadata": {},
     "output_type": "display_data"
    },
    {
     "data": {
      "text/html": [
       "<pre>| 605          | 3.09694      | 10m 13s      |</pre>"
      ],
      "text/plain": [
       "| 605          | 3.09694      | 10m 13s      |"
      ]
     },
     "metadata": {},
     "output_type": "display_data"
    },
    {
     "data": {
      "text/html": [
       "<pre>| 610          | 3.06105      | 10m 17s      |</pre>"
      ],
      "text/plain": [
       "| 610          | 3.06105      | 10m 17s      |"
      ]
     },
     "metadata": {},
     "output_type": "display_data"
    },
    {
     "data": {
      "text/html": [
       "<pre>| 615          | 3.06961      | 10m 21s      |</pre>"
      ],
      "text/plain": [
       "| 615          | 3.06961      | 10m 21s      |"
      ]
     },
     "metadata": {},
     "output_type": "display_data"
    },
    {
     "data": {
      "text/html": [
       "<pre>| 620          | 3.01905      | 10m 25s      |</pre>"
      ],
      "text/plain": [
       "| 620          | 3.01905      | 10m 25s      |"
      ]
     },
     "metadata": {},
     "output_type": "display_data"
    },
    {
     "data": {
      "text/html": [
       "<pre>| 625          | 3.06959      | 10m 29s      |</pre>"
      ],
      "text/plain": [
       "| 625          | 3.06959      | 10m 29s      |"
      ]
     },
     "metadata": {},
     "output_type": "display_data"
    },
    {
     "data": {
      "text/html": [
       "<pre>| 630          | 3.08005      | 10m 33s      |</pre>"
      ],
      "text/plain": [
       "| 630          | 3.08005      | 10m 33s      |"
      ]
     },
     "metadata": {},
     "output_type": "display_data"
    },
    {
     "data": {
      "text/html": [
       "<pre>| 635          | 3.03806      | 10m 37s      |</pre>"
      ],
      "text/plain": [
       "| 635          | 3.03806      | 10m 37s      |"
      ]
     },
     "metadata": {},
     "output_type": "display_data"
    },
    {
     "data": {
      "text/html": [
       "<pre>| 640          | 2.93173      | 10m 41s      |</pre>"
      ],
      "text/plain": [
       "| 640          | 2.93173      | 10m 41s      |"
      ]
     },
     "metadata": {},
     "output_type": "display_data"
    },
    {
     "data": {
      "text/html": [
       "<pre>| 645          | 3.00853      | 10m 45s      |</pre>"
      ],
      "text/plain": [
       "| 645          | 3.00853      | 10m 45s      |"
      ]
     },
     "metadata": {},
     "output_type": "display_data"
    },
    {
     "data": {
      "text/html": [
       "<pre>| 650          | 2.88322      | 10m 49s      |</pre>"
      ],
      "text/plain": [
       "| 650          | 2.88322      | 10m 49s      |"
      ]
     },
     "metadata": {},
     "output_type": "display_data"
    },
    {
     "data": {
      "text/html": [
       "<pre>| 655          | 3.13635      | 10m 53s      |</pre>"
      ],
      "text/plain": [
       "| 655          | 3.13635      | 10m 53s      |"
      ]
     },
     "metadata": {},
     "output_type": "display_data"
    },
    {
     "data": {
      "text/html": [
       "<pre>| 660          | 3.0857       | 10m 57s      |</pre>"
      ],
      "text/plain": [
       "| 660          | 3.0857       | 10m 57s      |"
      ]
     },
     "metadata": {},
     "output_type": "display_data"
    },
    {
     "data": {
      "text/html": [
       "<pre>| 665          | 3.00116      | 11m 1s       |</pre>"
      ],
      "text/plain": [
       "| 665          | 3.00116      | 11m 1s       |"
      ]
     },
     "metadata": {},
     "output_type": "display_data"
    },
    {
     "data": {
      "text/html": [
       "<pre>| 670          | 3.00067      | 11m 5s       |</pre>"
      ],
      "text/plain": [
       "| 670          | 3.00067      | 11m 5s       |"
      ]
     },
     "metadata": {},
     "output_type": "display_data"
    },
    {
     "data": {
      "text/html": [
       "<pre>| 675          | 2.98187      | 11m 9s       |</pre>"
      ],
      "text/plain": [
       "| 675          | 2.98187      | 11m 9s       |"
      ]
     },
     "metadata": {},
     "output_type": "display_data"
    },
    {
     "data": {
      "text/html": [
       "<pre>| 680          | 2.86794      | 11m 12s      |</pre>"
      ],
      "text/plain": [
       "| 680          | 2.86794      | 11m 12s      |"
      ]
     },
     "metadata": {},
     "output_type": "display_data"
    },
    {
     "data": {
      "text/html": [
       "<pre>| 685          | 2.80474      | 11m 16s      |</pre>"
      ],
      "text/plain": [
       "| 685          | 2.80474      | 11m 16s      |"
      ]
     },
     "metadata": {},
     "output_type": "display_data"
    },
    {
     "data": {
      "text/html": [
       "<pre>| 690          | 2.78509      | 11m 20s      |</pre>"
      ],
      "text/plain": [
       "| 690          | 2.78509      | 11m 20s      |"
      ]
     },
     "metadata": {},
     "output_type": "display_data"
    },
    {
     "data": {
      "text/html": [
       "<pre>| 695          | 2.81082      | 11m 24s      |</pre>"
      ],
      "text/plain": [
       "| 695          | 2.81082      | 11m 24s      |"
      ]
     },
     "metadata": {},
     "output_type": "display_data"
    },
    {
     "data": {
      "text/html": [
       "<pre>| 700          | 2.86084      | 11m 28s      |</pre>"
      ],
      "text/plain": [
       "| 700          | 2.86084      | 11m 28s      |"
      ]
     },
     "metadata": {},
     "output_type": "display_data"
    },
    {
     "data": {
      "text/html": [
       "<pre>| 705          | 2.87061      | 11m 32s      |</pre>"
      ],
      "text/plain": [
       "| 705          | 2.87061      | 11m 32s      |"
      ]
     },
     "metadata": {},
     "output_type": "display_data"
    },
    {
     "data": {
      "text/html": [
       "<pre>| 710          | 3.03561      | 11m 36s      |</pre>"
      ],
      "text/plain": [
       "| 710          | 3.03561      | 11m 36s      |"
      ]
     },
     "metadata": {},
     "output_type": "display_data"
    },
    {
     "data": {
      "text/html": [
       "<pre>| 715          | 3.04879      | 11m 40s      |</pre>"
      ],
      "text/plain": [
       "| 715          | 3.04879      | 11m 40s      |"
      ]
     },
     "metadata": {},
     "output_type": "display_data"
    },
    {
     "data": {
      "text/html": [
       "<pre>| 720          | 3.05641      | 11m 44s      |</pre>"
      ],
      "text/plain": [
       "| 720          | 3.05641      | 11m 44s      |"
      ]
     },
     "metadata": {},
     "output_type": "display_data"
    },
    {
     "data": {
      "text/html": [
       "<pre>| 725          | 2.88903      | 11m 48s      |</pre>"
      ],
      "text/plain": [
       "| 725          | 2.88903      | 11m 48s      |"
      ]
     },
     "metadata": {},
     "output_type": "display_data"
    },
    {
     "data": {
      "text/html": [
       "<pre>| 730          | 2.84668      | 11m 52s      |</pre>"
      ],
      "text/plain": [
       "| 730          | 2.84668      | 11m 52s      |"
      ]
     },
     "metadata": {},
     "output_type": "display_data"
    },
    {
     "data": {
      "text/html": [
       "<pre>| 735          | 2.83017      | 11m 56s      |</pre>"
      ],
      "text/plain": [
       "| 735          | 2.83017      | 11m 56s      |"
      ]
     },
     "metadata": {},
     "output_type": "display_data"
    },
    {
     "data": {
      "text/html": [
       "<pre>| 740          | 2.80867      | 12m 0s       |</pre>"
      ],
      "text/plain": [
       "| 740          | 2.80867      | 12m 0s       |"
      ]
     },
     "metadata": {},
     "output_type": "display_data"
    },
    {
     "data": {
      "text/html": [
       "<pre>| 745          | 2.76931      | 12m 4s       |</pre>"
      ],
      "text/plain": [
       "| 745          | 2.76931      | 12m 4s       |"
      ]
     },
     "metadata": {},
     "output_type": "display_data"
    },
    {
     "data": {
      "text/html": [
       "<pre>| 750          | 2.8414       | 12m 8s       |</pre>"
      ],
      "text/plain": [
       "| 750          | 2.8414       | 12m 8s       |"
      ]
     },
     "metadata": {},
     "output_type": "display_data"
    },
    {
     "data": {
      "text/html": [
       "<pre>| 755          | 2.8748       | 12m 12s      |</pre>"
      ],
      "text/plain": [
       "| 755          | 2.8748       | 12m 12s      |"
      ]
     },
     "metadata": {},
     "output_type": "display_data"
    },
    {
     "data": {
      "text/html": [
       "<pre>| 760          | 3.00239      | 12m 17s      |</pre>"
      ],
      "text/plain": [
       "| 760          | 3.00239      | 12m 17s      |"
      ]
     },
     "metadata": {},
     "output_type": "display_data"
    },
    {
     "data": {
      "text/html": [
       "<pre>| 765          | 2.93051      | 12m 21s      |</pre>"
      ],
      "text/plain": [
       "| 765          | 2.93051      | 12m 21s      |"
      ]
     },
     "metadata": {},
     "output_type": "display_data"
    },
    {
     "data": {
      "text/html": [
       "<pre>| 770          | 2.8708       | 12m 25s      |</pre>"
      ],
      "text/plain": [
       "| 770          | 2.8708       | 12m 25s      |"
      ]
     },
     "metadata": {},
     "output_type": "display_data"
    },
    {
     "data": {
      "text/html": [
       "<pre>| 775          | 2.73706      | 12m 30s      |</pre>"
      ],
      "text/plain": [
       "| 775          | 2.73706      | 12m 30s      |"
      ]
     },
     "metadata": {},
     "output_type": "display_data"
    },
    {
     "data": {
      "text/html": [
       "<pre>| 780          | 2.89913      | 12m 34s      |</pre>"
      ],
      "text/plain": [
       "| 780          | 2.89913      | 12m 34s      |"
      ]
     },
     "metadata": {},
     "output_type": "display_data"
    },
    {
     "data": {
      "text/html": [
       "<pre>| 785          | 2.8644       | 12m 38s      |</pre>"
      ],
      "text/plain": [
       "| 785          | 2.8644       | 12m 38s      |"
      ]
     },
     "metadata": {},
     "output_type": "display_data"
    },
    {
     "data": {
      "text/html": [
       "<pre>| 790          | 2.82131      | 12m 42s      |</pre>"
      ],
      "text/plain": [
       "| 790          | 2.82131      | 12m 42s      |"
      ]
     },
     "metadata": {},
     "output_type": "display_data"
    },
    {
     "data": {
      "text/html": [
       "<pre>| 795          | 2.81953      | 12m 46s      |</pre>"
      ],
      "text/plain": [
       "| 795          | 2.81953      | 12m 46s      |"
      ]
     },
     "metadata": {},
     "output_type": "display_data"
    },
    {
     "data": {
      "text/html": [
       "<pre>| 800          | 2.84757      | 12m 50s      |</pre>"
      ],
      "text/plain": [
       "| 800          | 2.84757      | 12m 50s      |"
      ]
     },
     "metadata": {},
     "output_type": "display_data"
    },
    {
     "data": {
      "text/html": [
       "<pre>| 805          | 2.79724      | 12m 54s      |</pre>"
      ],
      "text/plain": [
       "| 805          | 2.79724      | 12m 54s      |"
      ]
     },
     "metadata": {},
     "output_type": "display_data"
    },
    {
     "data": {
      "text/html": [
       "<pre>| 810          | 2.79262      | 12m 57s      |</pre>"
      ],
      "text/plain": [
       "| 810          | 2.79262      | 12m 57s      |"
      ]
     },
     "metadata": {},
     "output_type": "display_data"
    },
    {
     "data": {
      "text/html": [
       "<pre>| 815          | 2.73524      | 13m 2s       |</pre>"
      ],
      "text/plain": [
       "| 815          | 2.73524      | 13m 2s       |"
      ]
     },
     "metadata": {},
     "output_type": "display_data"
    },
    {
     "data": {
      "text/html": [
       "<pre>| 820          | 2.81513      | 13m 6s       |</pre>"
      ],
      "text/plain": [
       "| 820          | 2.81513      | 13m 6s       |"
      ]
     },
     "metadata": {},
     "output_type": "display_data"
    },
    {
     "data": {
      "text/html": [
       "<pre>| 825          | 2.70787      | 13m 10s      |</pre>"
      ],
      "text/plain": [
       "| 825          | 2.70787      | 13m 10s      |"
      ]
     },
     "metadata": {},
     "output_type": "display_data"
    },
    {
     "data": {
      "text/html": [
       "<pre>| 830          | 2.65444      | 13m 14s      |</pre>"
      ],
      "text/plain": [
       "| 830          | 2.65444      | 13m 14s      |"
      ]
     },
     "metadata": {},
     "output_type": "display_data"
    },
    {
     "data": {
      "text/html": [
       "<pre>| 835          | 2.72222      | 13m 18s      |</pre>"
      ],
      "text/plain": [
       "| 835          | 2.72222      | 13m 18s      |"
      ]
     },
     "metadata": {},
     "output_type": "display_data"
    },
    {
     "data": {
      "text/html": [
       "<pre>| 840          | 2.72723      | 13m 22s      |</pre>"
      ],
      "text/plain": [
       "| 840          | 2.72723      | 13m 22s      |"
      ]
     },
     "metadata": {},
     "output_type": "display_data"
    },
    {
     "data": {
      "text/html": [
       "<pre>| 845          | 2.72365      | 13m 25s      |</pre>"
      ],
      "text/plain": [
       "| 845          | 2.72365      | 13m 25s      |"
      ]
     },
     "metadata": {},
     "output_type": "display_data"
    },
    {
     "data": {
      "text/html": [
       "<pre>| 850          | 2.79162      | 13m 29s      |</pre>"
      ],
      "text/plain": [
       "| 850          | 2.79162      | 13m 29s      |"
      ]
     },
     "metadata": {},
     "output_type": "display_data"
    },
    {
     "data": {
      "text/html": [
       "<pre>| 855          | 2.82348      | 13m 33s      |</pre>"
      ],
      "text/plain": [
       "| 855          | 2.82348      | 13m 33s      |"
      ]
     },
     "metadata": {},
     "output_type": "display_data"
    },
    {
     "data": {
      "text/html": [
       "<pre>| 860          | 2.75956      | 13m 37s      |</pre>"
      ],
      "text/plain": [
       "| 860          | 2.75956      | 13m 37s      |"
      ]
     },
     "metadata": {},
     "output_type": "display_data"
    },
    {
     "data": {
      "text/html": [
       "<pre>| 865          | 2.83932      | 13m 41s      |</pre>"
      ],
      "text/plain": [
       "| 865          | 2.83932      | 13m 41s      |"
      ]
     },
     "metadata": {},
     "output_type": "display_data"
    },
    {
     "data": {
      "text/html": [
       "<pre>| 870          | 2.78734      | 13m 45s      |</pre>"
      ],
      "text/plain": [
       "| 870          | 2.78734      | 13m 45s      |"
      ]
     },
     "metadata": {},
     "output_type": "display_data"
    },
    {
     "data": {
      "text/html": [
       "<pre>| 875          | 2.75172      | 13m 49s      |</pre>"
      ],
      "text/plain": [
       "| 875          | 2.75172      | 13m 49s      |"
      ]
     },
     "metadata": {},
     "output_type": "display_data"
    },
    {
     "data": {
      "text/html": [
       "<pre>| 880          | 2.80175      | 13m 53s      |</pre>"
      ],
      "text/plain": [
       "| 880          | 2.80175      | 13m 53s      |"
      ]
     },
     "metadata": {},
     "output_type": "display_data"
    },
    {
     "data": {
      "text/html": [
       "<pre>| 885          | 2.68132      | 13m 57s      |</pre>"
      ],
      "text/plain": [
       "| 885          | 2.68132      | 13m 57s      |"
      ]
     },
     "metadata": {},
     "output_type": "display_data"
    },
    {
     "data": {
      "text/html": [
       "<pre>| 890          | 2.76185      | 14m 1s       |</pre>"
      ],
      "text/plain": [
       "| 890          | 2.76185      | 14m 1s       |"
      ]
     },
     "metadata": {},
     "output_type": "display_data"
    },
    {
     "data": {
      "text/html": [
       "<pre>| 895          | 2.70919      | 14m 5s       |</pre>"
      ],
      "text/plain": [
       "| 895          | 2.70919      | 14m 5s       |"
      ]
     },
     "metadata": {},
     "output_type": "display_data"
    },
    {
     "data": {
      "text/html": [
       "<pre>| 900          | 2.76668      | 14m 9s       |</pre>"
      ],
      "text/plain": [
       "| 900          | 2.76668      | 14m 9s       |"
      ]
     },
     "metadata": {},
     "output_type": "display_data"
    },
    {
     "data": {
      "text/html": [
       "<pre>| 905          | 2.88767      | 14m 13s      |</pre>"
      ],
      "text/plain": [
       "| 905          | 2.88767      | 14m 13s      |"
      ]
     },
     "metadata": {},
     "output_type": "display_data"
    },
    {
     "data": {
      "text/html": [
       "<pre>| 910          | 2.79852      | 14m 17s      |</pre>"
      ],
      "text/plain": [
       "| 910          | 2.79852      | 14m 17s      |"
      ]
     },
     "metadata": {},
     "output_type": "display_data"
    },
    {
     "data": {
      "text/html": [
       "<pre>| 915          | 2.75444      | 14m 21s      |</pre>"
      ],
      "text/plain": [
       "| 915          | 2.75444      | 14m 21s      |"
      ]
     },
     "metadata": {},
     "output_type": "display_data"
    },
    {
     "data": {
      "text/html": [
       "<pre>| 920          | 2.90561      | 14m 25s      |</pre>"
      ],
      "text/plain": [
       "| 920          | 2.90561      | 14m 25s      |"
      ]
     },
     "metadata": {},
     "output_type": "display_data"
    },
    {
     "data": {
      "text/html": [
       "<pre>| 925          | 2.82861      | 14m 29s      |</pre>"
      ],
      "text/plain": [
       "| 925          | 2.82861      | 14m 29s      |"
      ]
     },
     "metadata": {},
     "output_type": "display_data"
    },
    {
     "data": {
      "text/html": [
       "<pre>| 930          | 2.85354      | 14m 33s      |</pre>"
      ],
      "text/plain": [
       "| 930          | 2.85354      | 14m 33s      |"
      ]
     },
     "metadata": {},
     "output_type": "display_data"
    },
    {
     "data": {
      "text/html": [
       "<pre>| 935          | 2.75821      | 14m 37s      |</pre>"
      ],
      "text/plain": [
       "| 935          | 2.75821      | 14m 37s      |"
      ]
     },
     "metadata": {},
     "output_type": "display_data"
    },
    {
     "data": {
      "text/html": [
       "<pre>| 940          | 2.81328      | 14m 41s      |</pre>"
      ],
      "text/plain": [
       "| 940          | 2.81328      | 14m 41s      |"
      ]
     },
     "metadata": {},
     "output_type": "display_data"
    },
    {
     "data": {
      "text/html": [
       "<pre>| 945          | 2.71913      | 14m 45s      |</pre>"
      ],
      "text/plain": [
       "| 945          | 2.71913      | 14m 45s      |"
      ]
     },
     "metadata": {},
     "output_type": "display_data"
    },
    {
     "data": {
      "text/html": [
       "<pre>| 950          | 2.66163      | 14m 49s      |</pre>"
      ],
      "text/plain": [
       "| 950          | 2.66163      | 14m 49s      |"
      ]
     },
     "metadata": {},
     "output_type": "display_data"
    },
    {
     "data": {
      "text/html": [
       "<pre>| 955          | 2.67503      | 14m 53s      |</pre>"
      ],
      "text/plain": [
       "| 955          | 2.67503      | 14m 53s      |"
      ]
     },
     "metadata": {},
     "output_type": "display_data"
    },
    {
     "data": {
      "text/html": [
       "<pre>| 960          | 2.76913      | 14m 57s      |</pre>"
      ],
      "text/plain": [
       "| 960          | 2.76913      | 14m 57s      |"
      ]
     },
     "metadata": {},
     "output_type": "display_data"
    },
    {
     "data": {
      "text/html": [
       "<pre>| 965          | 2.59907      | 15m 1s       |</pre>"
      ],
      "text/plain": [
       "| 965          | 2.59907      | 15m 1s       |"
      ]
     },
     "metadata": {},
     "output_type": "display_data"
    },
    {
     "data": {
      "text/html": [
       "<pre>| 970          | 2.64398      | 15m 5s       |</pre>"
      ],
      "text/plain": [
       "| 970          | 2.64398      | 15m 5s       |"
      ]
     },
     "metadata": {},
     "output_type": "display_data"
    },
    {
     "data": {
      "text/html": [
       "<pre>| 975          | 2.77465      | 15m 9s       |</pre>"
      ],
      "text/plain": [
       "| 975          | 2.77465      | 15m 9s       |"
      ]
     },
     "metadata": {},
     "output_type": "display_data"
    },
    {
     "data": {
      "text/html": [
       "<pre>| 980          | 2.6849       | 15m 13s      |</pre>"
      ],
      "text/plain": [
       "| 980          | 2.6849       | 15m 13s      |"
      ]
     },
     "metadata": {},
     "output_type": "display_data"
    },
    {
     "data": {
      "text/html": [
       "<pre>| 985          | 2.69833      | 15m 17s      |</pre>"
      ],
      "text/plain": [
       "| 985          | 2.69833      | 15m 17s      |"
      ]
     },
     "metadata": {},
     "output_type": "display_data"
    },
    {
     "data": {
      "text/html": [
       "<pre>| 990          | 2.79608      | 15m 21s      |</pre>"
      ],
      "text/plain": [
       "| 990          | 2.79608      | 15m 21s      |"
      ]
     },
     "metadata": {},
     "output_type": "display_data"
    },
    {
     "data": {
      "text/html": [
       "<pre>| 995          | 2.69093      | 15m 24s      |</pre>"
      ],
      "text/plain": [
       "| 995          | 2.69093      | 15m 24s      |"
      ]
     },
     "metadata": {},
     "output_type": "display_data"
    },
    {
     "data": {
      "text/html": [
       "<pre>| 1000         | 2.59889      | 15m 28s      |</pre>"
      ],
      "text/plain": [
       "| 1000         | 2.59889      | 15m 28s      |"
      ]
     },
     "metadata": {},
     "output_type": "display_data"
    },
    {
     "data": {
      "text/html": [
       "<pre>| 1005         | 2.60339      | 15m 32s      |</pre>"
      ],
      "text/plain": [
       "| 1005         | 2.60339      | 15m 32s      |"
      ]
     },
     "metadata": {},
     "output_type": "display_data"
    },
    {
     "data": {
      "text/html": [
       "<pre>| 1010         | 2.60398      | 15m 36s      |</pre>"
      ],
      "text/plain": [
       "| 1010         | 2.60398      | 15m 36s      |"
      ]
     },
     "metadata": {},
     "output_type": "display_data"
    },
    {
     "data": {
      "text/html": [
       "<pre>| 1015         | 2.55933      | 15m 40s      |</pre>"
      ],
      "text/plain": [
       "| 1015         | 2.55933      | 15m 40s      |"
      ]
     },
     "metadata": {},
     "output_type": "display_data"
    },
    {
     "data": {
      "text/html": [
       "<pre>| 1020         | 2.4797       | 15m 44s      |</pre>"
      ],
      "text/plain": [
       "| 1020         | 2.4797       | 15m 44s      |"
      ]
     },
     "metadata": {},
     "output_type": "display_data"
    },
    {
     "data": {
      "text/html": [
       "<pre>| 1025         | 2.50175      | 15m 48s      |</pre>"
      ],
      "text/plain": [
       "| 1025         | 2.50175      | 15m 48s      |"
      ]
     },
     "metadata": {},
     "output_type": "display_data"
    },
    {
     "data": {
      "text/html": [
       "<pre>| 1030         | 2.63418      | 15m 52s      |</pre>"
      ],
      "text/plain": [
       "| 1030         | 2.63418      | 15m 52s      |"
      ]
     },
     "metadata": {},
     "output_type": "display_data"
    },
    {
     "data": {
      "text/html": [
       "<pre>| 1035         | 2.60707      | 15m 56s      |</pre>"
      ],
      "text/plain": [
       "| 1035         | 2.60707      | 15m 56s      |"
      ]
     },
     "metadata": {},
     "output_type": "display_data"
    },
    {
     "data": {
      "text/html": [
       "<pre>| 1040         | 2.65435      | 16m 0s       |</pre>"
      ],
      "text/plain": [
       "| 1040         | 2.65435      | 16m 0s       |"
      ]
     },
     "metadata": {},
     "output_type": "display_data"
    },
    {
     "data": {
      "text/html": [
       "<pre>| 1045         | 2.67972      | 16m 4s       |</pre>"
      ],
      "text/plain": [
       "| 1045         | 2.67972      | 16m 4s       |"
      ]
     },
     "metadata": {},
     "output_type": "display_data"
    },
    {
     "data": {
      "text/html": [
       "<pre>| 1050         | 2.79532      | 16m 8s       |</pre>"
      ],
      "text/plain": [
       "| 1050         | 2.79532      | 16m 8s       |"
      ]
     },
     "metadata": {},
     "output_type": "display_data"
    },
    {
     "data": {
      "text/html": [
       "<pre>| 1055         | 2.61416      | 16m 12s      |</pre>"
      ],
      "text/plain": [
       "| 1055         | 2.61416      | 16m 12s      |"
      ]
     },
     "metadata": {},
     "output_type": "display_data"
    },
    {
     "data": {
      "text/html": [
       "<pre>| 1060         | 2.50416      | 16m 16s      |</pre>"
      ],
      "text/plain": [
       "| 1060         | 2.50416      | 16m 16s      |"
      ]
     },
     "metadata": {},
     "output_type": "display_data"
    },
    {
     "data": {
      "text/html": [
       "<pre>| 1065         | 2.46822      | 16m 20s      |</pre>"
      ],
      "text/plain": [
       "| 1065         | 2.46822      | 16m 20s      |"
      ]
     },
     "metadata": {},
     "output_type": "display_data"
    },
    {
     "data": {
      "text/html": [
       "<pre>| 1070         | 2.48203      | 16m 24s      |</pre>"
      ],
      "text/plain": [
       "| 1070         | 2.48203      | 16m 24s      |"
      ]
     },
     "metadata": {},
     "output_type": "display_data"
    },
    {
     "data": {
      "text/html": [
       "<pre>| 1075         | 2.53019      | 16m 28s      |</pre>"
      ],
      "text/plain": [
       "| 1075         | 2.53019      | 16m 28s      |"
      ]
     },
     "metadata": {},
     "output_type": "display_data"
    },
    {
     "data": {
      "text/html": [
       "<pre>| 1080         | 2.5908       | 16m 32s      |</pre>"
      ],
      "text/plain": [
       "| 1080         | 2.5908       | 16m 32s      |"
      ]
     },
     "metadata": {},
     "output_type": "display_data"
    },
    {
     "data": {
      "text/html": [
       "<pre>| 1085         | 2.57794      | 16m 36s      |</pre>"
      ],
      "text/plain": [
       "| 1085         | 2.57794      | 16m 36s      |"
      ]
     },
     "metadata": {},
     "output_type": "display_data"
    },
    {
     "data": {
      "text/html": [
       "<pre>| 1090         | 2.57676      | 16m 40s      |</pre>"
      ],
      "text/plain": [
       "| 1090         | 2.57676      | 16m 40s      |"
      ]
     },
     "metadata": {},
     "output_type": "display_data"
    },
    {
     "data": {
      "text/html": [
       "<pre>| 1095         | 2.67865      | 16m 44s      |</pre>"
      ],
      "text/plain": [
       "| 1095         | 2.67865      | 16m 44s      |"
      ]
     },
     "metadata": {},
     "output_type": "display_data"
    },
    {
     "data": {
      "text/html": [
       "<pre>| 1100         | 2.74597      | 16m 48s      |</pre>"
      ],
      "text/plain": [
       "| 1100         | 2.74597      | 16m 48s      |"
      ]
     },
     "metadata": {},
     "output_type": "display_data"
    },
    {
     "data": {
      "text/html": [
       "<pre>| 1105         | 2.64244      | 16m 52s      |</pre>"
      ],
      "text/plain": [
       "| 1105         | 2.64244      | 16m 52s      |"
      ]
     },
     "metadata": {},
     "output_type": "display_data"
    },
    {
     "data": {
      "text/html": [
       "<pre>| 1110         | 2.54453      | 16m 56s      |</pre>"
      ],
      "text/plain": [
       "| 1110         | 2.54453      | 16m 56s      |"
      ]
     },
     "metadata": {},
     "output_type": "display_data"
    },
    {
     "data": {
      "text/html": [
       "<pre>| 1115         | 2.43624      | 17m 0s       |</pre>"
      ],
      "text/plain": [
       "| 1115         | 2.43624      | 17m 0s       |"
      ]
     },
     "metadata": {},
     "output_type": "display_data"
    },
    {
     "data": {
      "text/html": [
       "<pre>| 1120         | 2.42171      | 17m 4s       |</pre>"
      ],
      "text/plain": [
       "| 1120         | 2.42171      | 17m 4s       |"
      ]
     },
     "metadata": {},
     "output_type": "display_data"
    },
    {
     "data": {
      "text/html": [
       "<pre>| 1125         | 2.45925      | 17m 8s       |</pre>"
      ],
      "text/plain": [
       "| 1125         | 2.45925      | 17m 8s       |"
      ]
     },
     "metadata": {},
     "output_type": "display_data"
    },
    {
     "data": {
      "text/html": [
       "<pre>| 1130         | 2.49331      | 17m 12s      |</pre>"
      ],
      "text/plain": [
       "| 1130         | 2.49331      | 17m 12s      |"
      ]
     },
     "metadata": {},
     "output_type": "display_data"
    },
    {
     "data": {
      "text/html": [
       "<pre>| 1135         | 2.53119      | 17m 16s      |</pre>"
      ],
      "text/plain": [
       "| 1135         | 2.53119      | 17m 16s      |"
      ]
     },
     "metadata": {},
     "output_type": "display_data"
    },
    {
     "data": {
      "text/html": [
       "<pre>| 1140         | 2.45491      | 17m 19s      |</pre>"
      ],
      "text/plain": [
       "| 1140         | 2.45491      | 17m 19s      |"
      ]
     },
     "metadata": {},
     "output_type": "display_data"
    },
    {
     "data": {
      "text/html": [
       "<pre>| 1145         | 2.45813      | 17m 23s      |</pre>"
      ],
      "text/plain": [
       "| 1145         | 2.45813      | 17m 23s      |"
      ]
     },
     "metadata": {},
     "output_type": "display_data"
    },
    {
     "data": {
      "text/html": [
       "<pre>| 1150         | 2.41327      | 17m 27s      |</pre>"
      ],
      "text/plain": [
       "| 1150         | 2.41327      | 17m 27s      |"
      ]
     },
     "metadata": {},
     "output_type": "display_data"
    },
    {
     "data": {
      "text/html": [
       "<pre>| 1155         | 2.46865      | 17m 31s      |</pre>"
      ],
      "text/plain": [
       "| 1155         | 2.46865      | 17m 31s      |"
      ]
     },
     "metadata": {},
     "output_type": "display_data"
    },
    {
     "data": {
      "text/html": [
       "<pre>| 1160         | 2.48711      | 17m 35s      |</pre>"
      ],
      "text/plain": [
       "| 1160         | 2.48711      | 17m 35s      |"
      ]
     },
     "metadata": {},
     "output_type": "display_data"
    },
    {
     "data": {
      "text/html": [
       "<pre>| 1165         | 2.53174      | 17m 39s      |</pre>"
      ],
      "text/plain": [
       "| 1165         | 2.53174      | 17m 39s      |"
      ]
     },
     "metadata": {},
     "output_type": "display_data"
    },
    {
     "data": {
      "text/html": [
       "<pre>| 1170         | 2.42322      | 17m 43s      |</pre>"
      ],
      "text/plain": [
       "| 1170         | 2.42322      | 17m 43s      |"
      ]
     },
     "metadata": {},
     "output_type": "display_data"
    },
    {
     "data": {
      "text/html": [
       "<pre>| 1175         | 2.60655      | 17m 47s      |</pre>"
      ],
      "text/plain": [
       "| 1175         | 2.60655      | 17m 47s      |"
      ]
     },
     "metadata": {},
     "output_type": "display_data"
    },
    {
     "data": {
      "text/html": [
       "<pre>| 1180         | 2.62197      | 17m 51s      |</pre>"
      ],
      "text/plain": [
       "| 1180         | 2.62197      | 17m 51s      |"
      ]
     },
     "metadata": {},
     "output_type": "display_data"
    },
    {
     "data": {
      "text/html": [
       "<pre>| 1185         | 2.71145      | 17m 55s      |</pre>"
      ],
      "text/plain": [
       "| 1185         | 2.71145      | 17m 55s      |"
      ]
     },
     "metadata": {},
     "output_type": "display_data"
    },
    {
     "data": {
      "text/html": [
       "<pre>| 1190         | 2.66085      | 17m 59s      |</pre>"
      ],
      "text/plain": [
       "| 1190         | 2.66085      | 17m 59s      |"
      ]
     },
     "metadata": {},
     "output_type": "display_data"
    },
    {
     "data": {
      "text/html": [
       "<pre>| 1195         | 2.56674      | 18m 3s       |</pre>"
      ],
      "text/plain": [
       "| 1195         | 2.56674      | 18m 3s       |"
      ]
     },
     "metadata": {},
     "output_type": "display_data"
    },
    {
     "data": {
      "text/html": [
       "<pre>| 1200         | 2.48029      | 18m 7s       |</pre>"
      ],
      "text/plain": [
       "| 1200         | 2.48029      | 18m 7s       |"
      ]
     },
     "metadata": {},
     "output_type": "display_data"
    },
    {
     "data": {
      "text/html": [
       "<pre>+--------------+--------------+--------------+</pre>"
      ],
      "text/plain": [
       "+--------------+--------------+--------------+"
      ]
     },
     "metadata": {},
     "output_type": "display_data"
    }
   ],
   "source": [
    "model_1200 = tc.object_detector.create(training_sframe, feature=\"image\", annotations=\"annotations\", max_iterations=1200)"
   ]
  },
  {
   "cell_type": "code",
   "execution_count": 15,
   "metadata": {},
   "outputs": [
    {
     "data": {
      "text/plain": [
       "Class                                    : ObjectDetector\n",
       "\n",
       "Schema\n",
       "------\n",
       "Model                                    : darknet-yolo\n",
       "Number of classes                        : 4\n",
       "Input image shape                        : [3, 416, 416]\n",
       "\n",
       "Training summary\n",
       "----------------\n",
       "Training time                            : 18m 7s\n",
       "Training epochs                          : 69\n",
       "Training iterations                      : 1200\n",
       "Number of examples (images)              : 278\n",
       "Number of bounding boxes (instances)     : 976\n",
       "Final loss (specific to model)           : 2.4803"
      ]
     },
     "execution_count": 15,
     "metadata": {},
     "output_type": "execute_result"
    }
   ],
   "source": [
    "model_1200"
   ]
  },
  {
   "cell_type": "markdown",
   "metadata": {},
   "source": [
    "## Export Model"
   ]
  },
  {
   "cell_type": "code",
   "execution_count": 18,
   "metadata": {},
   "outputs": [],
   "source": [
    "model_1200.export_coreml(\"throatParts.mlmodel\")"
   ]
  },
  {
   "cell_type": "code",
   "execution_count": 187,
   "metadata": {},
   "outputs": [
    {
     "data": {
      "text/plain": [
       "{'average_precision_50': {'pharynx': 0.1182892844080925,\n",
       "  'tongue': 0.6657035946846008,\n",
       "  'tonsil': 0.34186312556266785,\n",
       "  'uvula': 0.6363426446914673},\n",
       " 'mean_average_precision_50': 0.44054967164993286}"
      ]
     },
     "execution_count": 187,
     "metadata": {},
     "output_type": "execute_result"
    }
   ],
   "source": [
    "metrics_1200 = model_1200.evaluate(testing_sframe)\n",
    "metrics_1200"
   ]
  },
  {
   "cell_type": "code",
   "execution_count": null,
   "metadata": {},
   "outputs": [],
   "source": []
  }
 ],
 "metadata": {
  "kernelspec": {
   "display_name": "Python 3",
   "language": "python",
   "name": "python3"
  },
  "language_info": {
   "codemirror_mode": {
    "name": "ipython",
    "version": 3
   },
   "file_extension": ".py",
   "mimetype": "text/x-python",
   "name": "python",
   "nbconvert_exporter": "python",
   "pygments_lexer": "ipython3",
   "version": "3.8.6"
  }
 },
 "nbformat": 4,
 "nbformat_minor": 4
}
